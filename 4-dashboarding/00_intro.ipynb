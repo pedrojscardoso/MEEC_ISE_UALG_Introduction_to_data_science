{
 "cells": [
  {
   "metadata": {},
   "cell_type": "markdown",
   "source": [
    "_____\n",
    "\n",
    "<table align=\"left\" width=100%>\n",
    "    <td>\n",
    "        <div style=\"text-align: center;\">\n",
    "          <img src=\"./images/bar.png\" alt=\"entidades financiadoras\"/>\n",
    "        </div>\n",
    "    </td>\n",
    "    <td>\n",
    "        <p style=\"text-align: center; font-size:24px;\"><b>Introduction to Data Science</b></p>\n",
    "        <p style=\"text-align: center; font-size:18px;\"><b>Master in Electrical and Computer Engineering</b></p>\n",
    "        <p style=\"text-align: center; font-size:14px;\"><b>Pedro Cardoso (pcardoso@ualg.pt)</b></p>\n",
    "    </td>\n",
    "</table>\n",
    "\n",
    "_____"
   ],
   "id": "d183ccf4c2af2c0d"
  },
  {
   "cell_type": "markdown",
   "id": "e8b216bad48b5767",
   "metadata": {
    "collapsed": false
   },
   "source": [
    "# Dashboards\n",
    "\n",
    "A dashboard is a visual representation of data that allows users to monitor and analyze information in real-time. Dashboards are used in a variety of industries, including finance, healthcare, agriculture, marketing etc., to track key performance indicators (KPIs) and make data-driven decisions.\n",
    "\n",
    "In these notebooks, you will learn how to create interactive dashboards and web applications using Panel.\n",
    "\n",
    "\n",
    "\n",
    "# Panel \n",
    "\n",
    "## Introduction\n",
    "\n",
    "Panel is an open-source Python library designed to streamline the development of robust tools, dashboards, and complex applications entirely within Python. With a comprehensive philosophy, Panel integrates seamlessly with the PyData ecosystem (e.g., pandas, Bokeh, pyplot etc.), offering powerful, interactive data tables, visualizations, and much more, to unlock, visualize, share, and collaborate on your data for efficient workflows.\n",
    "\n",
    "![Panel](images/dashboard_example_01.png)\n",
    "\n",
    "Its feature set includes high-level reactive APIs and lower-level callback-based APIs, enabling rapid development of exploratory applications and facilitating the creation of intricate, multi-page applications with extensive interactivity.\n",
    "\n",
    "The Panel library allows you to create interactive dashboards and web applications in Python. "
   ]
  },
  {
   "cell_type": "markdown",
   "id": "9f16b624192eebec",
   "metadata": {
    "collapsed": false
   },
   "source": [
    "## Prerequisites\n",
    "\n",
    "To run this tutorial, you will need the following libraries:\n",
    "\n",
    "```bash\n",
    "pip install panel\n",
    "```\n",
    "\n",
    "Then you can code the following to create a simple Panel dashboard (don't run it in Jupyter Notebook, it will not work)"
   ]
  },
  {
   "cell_type": "code",
   "execution_count": null,
   "id": "initial_id",
   "metadata": {},
   "outputs": [],
   "source": [
    "import panel as pn\n",
    "\n",
    "pn.extension()\n",
    "\n",
    "pn.panel(\"Hello World\").servable()"
   ]
  },
  {
   "cell_type": "markdown",
   "id": "4ce9d2030ea72417",
   "metadata": {
    "collapsed": false
   },
   "source": [
    "\n",
    "In the code:\n",
    "- panel: The Panel python package, conventionally imported as pn.\n",
    "- extension: Loads javascript dependencies and configures Panel.\n",
    "- panel: Creates a displayable Panel component.\n",
    "- servable: Displays the component in a server app.\n",
    "\n"
   ]
  },
  {
   "cell_type": "markdown",
   "id": "f3ebc95a9d9facaf",
   "metadata": {
    "collapsed": false
   },
   "source": [
    "## Running the Dashboard\n",
    "\n",
    "To run the dashboard, you can use the following command in the terminal:\n",
    "```bash\n",
    "panel serve 00_intro.ipynb --autoreload\n",
    "```\n",
    "\n",
    "To see the dashboard, open a web browser and go to http://localhost:5006/00_intro. You should see the dashboard displayed in the browser.\n",
    "\n",
    "To see other options for running the dashboard, you can use the following command:\n",
    "```bash\n",
    "panel serve --help\n",
    "```\n",
    "This option include the following:\n",
    "- --autoreload: Reload the dashboard when changes are made to the code.\n",
    "- --show: Open the dashboard in a browser tab.\n",
    "- --port: Specify the port number for the server.\n",
    "\n",
    "You can also put the code in a Python script and run it from the terminal:\n",
    "```bash\n",
    "panel serve 00_intro.py --autoreload\n",
    "```\n",
    "Don't use `--autoreload` when using `add_periodic_callback` \n",
    "\n",
    "AS A NOTE: IF YOU ARE RUNNING THIS IN A JUPYTER NOTEBOOK, THE LAST LINE OF THE NOTE SHOULD NOT BE \"CODE\" CELL!"
   ]
  },
  {
   "cell_type": "code",
   "outputs": [],
   "source": [],
   "metadata": {
    "collapsed": false
   },
   "id": "fa54303cba02b150",
   "execution_count": null
  }
 ],
 "metadata": {
  "kernelspec": {
   "display_name": "Python 3 (ipykernel)",
   "language": "python",
   "name": "python3"
  },
  "language_info": {
   "codemirror_mode": {
    "name": "ipython",
    "version": 3
   },
   "file_extension": ".py",
   "mimetype": "text/x-python",
   "name": "python",
   "nbconvert_exporter": "python",
   "pygments_lexer": "ipython3",
   "version": "3.11.8"
  }
 },
 "nbformat": 4,
 "nbformat_minor": 5
}
