{
 "cells": [
  {
   "cell_type": "markdown",
   "source": [
    "# Panel dashboard\n",
    "\n",
    "## IMDB dataset dashboard\n",
    "Consider the IMDB dataset. Create a panel dashboard that shows the following a cloud of words based on the IMDB dataset. The cloud should be interactive and should be able to filter the data based on the rating of the movie. The cloud should be displayed on the left side of the dashboard. On the right side, display a histogram that shows the distribution of the ratings. \n"
   ],
   "metadata": {
    "collapsed": false
   },
   "id": "4ff2143ef7c39d"
  },
  {
   "cell_type": "markdown",
   "source": [
    "## Names dashboard\n",
    "Consider the names dataset (folder `./3-data-analysis/names`). Create a panel dashboard (e.g., with a bar plot) that show the top (e.g., 10) names based on the number of occurences, filtered by the year of birth and gender.  \n"
   ],
   "metadata": {
    "collapsed": false
   },
   "id": "8bb04c1609492bcd"
  },
  {
   "cell_type": "markdown",
   "source": [
    "## Adults dataset dashboard\n",
    "Consider the adults dataset (folder `./3-data-analysis/adults`). Create a panel dashboard that allow to visualize the distribution of the data based on filter such as age, education, marital status etc."
   ],
   "metadata": {
    "collapsed": false
   },
   "id": "9aaa2c5965d023a"
  },
  {
   "cell_type": "markdown",
   "source": [
    "## Portugal Mortality dataset dashboard\n",
    "\n",
    "Consider the Portugal Mortality dataset (folder `./3-data-analysis/portugal-mortality`). Create a panel dashboard that allow to visualize the distribution of the data. Try to get meteorological data for Portugal and create a dashboard that shows the correlation between the mortality rate and the meteorological data."
   ],
   "metadata": {
    "collapsed": false
   },
   "id": "3abf01e07f751238"
  },
  {
   "cell_type": "code",
   "outputs": [],
   "source": [],
   "metadata": {
    "collapsed": false
   },
   "id": "4db35b2116b20cb0"
  }
 ],
 "metadata": {
  "kernelspec": {
   "display_name": "Python 3",
   "language": "python",
   "name": "python3"
  },
  "language_info": {
   "codemirror_mode": {
    "name": "ipython",
    "version": 2
   },
   "file_extension": ".py",
   "mimetype": "text/x-python",
   "name": "python",
   "nbconvert_exporter": "python",
   "pygments_lexer": "ipython2",
   "version": "2.7.6"
  }
 },
 "nbformat": 4,
 "nbformat_minor": 5
}
