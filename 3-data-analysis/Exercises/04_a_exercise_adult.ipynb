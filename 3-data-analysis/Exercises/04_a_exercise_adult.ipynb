{
 "cells": [
  {
   "cell_type": "markdown",
   "metadata": {},
   "source": [
    "# Adult dataset\n",
    "\n",
    "## Load and first look at the dataset\n",
    "Consider the adult dataset available at https://archive.ics.uci.edu/ml/datasets/Adult, also on the `data` folder. The dataset was extracted by Barry Becker from the 1994 Census database. \n",
    "\n",
    "A set of reasonably clean records was extracted using the following conditions: ((AAGE>16) && (AGI>100) && (AFNLWGT>1) && (HRSWK>0)) [AGI - Adjusted Gross Income]\n",
    "\n",
    "### Load the dataset and show the first 10 samples."
   ]
  },
  {
   "cell_type": "code",
   "execution_count": null,
   "metadata": {
    "ExecuteTime": {
     "end_time": "2024-03-30T18:25:51.625570Z",
     "start_time": "2024-03-30T18:25:51.624262Z"
    }
   },
   "outputs": [],
   "source": []
  },
  {
   "cell_type": "markdown",
   "metadata": {},
   "source": [
    "### How many samples has the dataset?"
   ]
  },
  {
   "cell_type": "code",
   "execution_count": null,
   "metadata": {
    "ExecuteTime": {
     "end_time": "2024-03-30T18:25:51.627324Z",
     "start_time": "2024-03-30T18:25:51.626074Z"
    }
   },
   "outputs": [],
   "source": []
  },
  {
   "cell_type": "markdown",
   "metadata": {},
   "source": [
    "### Check the dataset's columns\n",
    "Check that the dataset has 15 columns:\n",
    "- age: continuous.\n",
    "- workclass: Private, Self-emp-not-inc, Self-emp-inc, Federal-gov, Local-gov, State-gov, Without-pay, Never-worked.\n",
    "- fnlwgt: continuous. Represents the sampling weight assigned to each observation in the dataset. It is used to adjust for the fact that some observations in the dataset may represent a larger portion of the population than others.\n",
    "- education: Bachelors, Some-college, 11th, HS-grad, Prof-school, Assoc-acdm, Assoc-voc, 9th, 7th-8th, 12th, Masters, 1st-4th, 10th, Doctorate, 5th-6th, Preschool.\n",
    "- education-num: continuous. Represents the number of years of education that a person has completed.\n",
    "- marital-status: Married-civ-spouse, Divorced, Never-married, Separated, Widowed, Married-spouse-absent, Married-AF-spouse.\n",
    "- occupation: Tech-support, Craft-repair, Other-service, Sales, Exec-managerial, Prof-specialty, Handlers-cleaners, Machine-op-inspct, Adm-clerical, Farming-fishing, Transport-moving, Priv-house-serv, Protective-serv, Armed-Forces.\n",
    "- relationship: Wife, Own-child, Husband, Not-in-family, Other-relative, Unmarried.\n",
    "- race: White, Asian-Pac-Islander, Amer-Indian-Eskimo, Other, Black.\n",
    "- sex: Female, Male.\n",
    "- capital-gain: continuous. Represents the capital gains for a person, from investment sources other than wage/salary.\n",
    "- capital-loss: continuous. Represents the capital losses for a person,  from investment sources other than wage/salary.\n",
    "- hours-per-week: continuous. Represents the hours per week that a person works.\n",
    "- native-country: United-States, Cambodia, England, Puerto-Rico, Canada, Germany, Outlying-US(Guam-USVI-etc), India, Japan, Greece, South, China, Cuba, Iran, Honduras, Philippines, Italy, Poland, Jamaica, Vietnam, Mexico, Portugal, Ireland, France, Dominican-Republic, Laos, Ecuador, Taiwan, Haiti, Columbia, Hungary, Guatemala, Nicaragua, Scotland, Thailand, Yugoslavia, El-Salvador, Trinadad&Tobago, Peru, Hong, Holand-Netherlands.\n",
    "- income: >50K, <=50K. Represents whether a person makes more or less than 50K a year.\n"
   ]
  },
  {
   "cell_type": "code",
   "execution_count": null,
   "metadata": {
    "ExecuteTime": {
     "end_time": "2024-03-30T18:25:51.629096Z",
     "start_time": "2024-03-30T18:25:51.627821Z"
    }
   },
   "outputs": [],
   "source": []
  },
  {
   "cell_type": "markdown",
   "metadata": {},
   "source": [
    "### Add a column with the weight of each sample. Show the samples with the highest weight.\n",
    "The weight is the fnlwgt divided by the sum of all fnlwgt, i.e.,\n",
    "\n",
    "$$weight_i = \\frac{fnlwgt_i}{\\sum_{j=1}^{N} fnlwgt_j}$$\n",
    "\n",
    "\n",
    "\n",
    "Unless asked otherwise, all the following exercises should be done __without__ using the weighted data."
   ]
  },
  {
   "cell_type": "code",
   "execution_count": null,
   "metadata": {
    "ExecuteTime": {
     "end_time": "2024-03-30T18:25:51.631295Z",
     "start_time": "2024-03-30T18:25:51.629912Z"
    }
   },
   "outputs": [],
   "source": []
  },
  {
   "cell_type": "markdown",
   "metadata": {},
   "source": [
    "### Separate the dataset into two datasets, one for men and one for women. How many samples are in each dataset? Which gender has more samples? Can you guess why?"
   ]
  },
  {
   "cell_type": "code",
   "execution_count": null,
   "metadata": {
    "ExecuteTime": {
     "end_time": "2024-03-30T18:25:51.633040Z",
     "start_time": "2024-03-30T18:25:51.631795Z"
    }
   },
   "outputs": [],
   "source": []
  },
  {
   "cell_type": "markdown",
   "metadata": {},
   "source": [
    "### Get a dataframe with the men that have an income high income (>50K)."
   ]
  },
  {
   "cell_type": "code",
   "execution_count": null,
   "metadata": {
    "ExecuteTime": {
     "end_time": "2024-03-30T18:25:51.634776Z",
     "start_time": "2024-03-30T18:25:51.633614Z"
    }
   },
   "outputs": [],
   "source": []
  },
  {
   "cell_type": "markdown",
   "metadata": {},
   "source": [
    "### What is the rate of people with high income (>50K)? And the weighted rate of people with high income?"
   ]
  },
  {
   "cell_type": "code",
   "execution_count": null,
   "metadata": {
    "ExecuteTime": {
     "end_time": "2024-03-30T18:25:51.636535Z",
     "start_time": "2024-03-30T18:25:51.635283Z"
    }
   },
   "outputs": [],
   "source": []
  },
  {
   "cell_type": "code",
   "execution_count": null,
   "metadata": {
    "ExecuteTime": {
     "end_time": "2024-03-30T18:25:51.638420Z",
     "start_time": "2024-03-30T18:25:51.637162Z"
    }
   },
   "outputs": [],
   "source": []
  },
  {
   "cell_type": "markdown",
   "metadata": {},
   "source": [
    "### What is the rate of men with high income (>50K)? and of women with high income?"
   ]
  },
  {
   "cell_type": "code",
   "execution_count": null,
   "metadata": {
    "ExecuteTime": {
     "end_time": "2024-03-30T18:25:51.640455Z",
     "start_time": "2024-03-30T18:25:51.639131Z"
    }
   },
   "outputs": [],
   "source": []
  },
  {
   "cell_type": "markdown",
   "metadata": {},
   "source": [
    "### Plot the distribution of the ages for males and females in the same histogram."
   ]
  },
  {
   "cell_type": "code",
   "execution_count": null,
   "metadata": {
    "ExecuteTime": {
     "end_time": "2024-03-30T18:25:51.642378Z",
     "start_time": "2024-03-30T18:25:51.641099Z"
    }
   },
   "outputs": [],
   "source": []
  },
  {
   "cell_type": "markdown",
   "metadata": {},
   "source": [
    "### Plot the distributions when combining the age and income, i.e., plot the age distribution of the men with high income and the men with low income, the women with high income and the women with low income."
   ]
  },
  {
   "cell_type": "code",
   "execution_count": null,
   "metadata": {
    "ExecuteTime": {
     "end_time": "2024-03-30T18:25:51.644550Z",
     "start_time": "2024-03-30T18:25:51.643021Z"
    }
   },
   "outputs": [],
   "source": []
  },
  {
   "cell_type": "markdown",
   "metadata": {},
   "source": [
    "## Group and pivot tables\n",
    "\n",
    "### How many samples can you find per native-country?"
   ]
  },
  {
   "cell_type": "code",
   "execution_count": null,
   "metadata": {
    "ExecuteTime": {
     "end_time": "2024-03-30T18:25:51.646230Z",
     "start_time": "2024-03-30T18:25:51.645052Z"
    }
   },
   "outputs": [],
   "source": []
  },
  {
   "cell_type": "markdown",
   "metadata": {},
   "source": [
    "### Build a pivot table with the age as index and the income as values and count aggfunc. Plot the result. What can you conclude?"
   ]
  },
  {
   "cell_type": "code",
   "execution_count": null,
   "metadata": {
    "ExecuteTime": {
     "end_time": "2024-03-30T18:25:51.647938Z",
     "start_time": "2024-03-30T18:25:51.646791Z"
    }
   },
   "outputs": [],
   "source": []
  },
  {
   "cell_type": "markdown",
   "metadata": {},
   "source": [
    "### What the average working hours per week for the low and high income groups?"
   ]
  },
  {
   "cell_type": "code",
   "execution_count": null,
   "metadata": {
    "ExecuteTime": {
     "end_time": "2024-03-30T18:25:51.649927Z",
     "start_time": "2024-03-30T18:25:51.648635Z"
    }
   },
   "outputs": [],
   "source": []
  },
  {
   "cell_type": "markdown",
   "metadata": {},
   "source": [
    "### What is the average working hours per week depending on the native-country?"
   ]
  },
  {
   "cell_type": "code",
   "execution_count": null,
   "metadata": {
    "ExecuteTime": {
     "end_time": "2024-03-30T18:25:51.652013Z",
     "start_time": "2024-03-30T18:25:51.650534Z"
    }
   },
   "outputs": [],
   "source": []
  },
  {
   "cell_type": "markdown",
   "metadata": {},
   "source": [
    "### What is the average working hours per week depending on the marital-status?"
   ]
  },
  {
   "cell_type": "code",
   "execution_count": null,
   "metadata": {
    "ExecuteTime": {
     "end_time": "2024-03-30T18:25:51.654073Z",
     "start_time": "2024-03-30T18:25:51.652563Z"
    }
   },
   "outputs": [],
   "source": []
  },
  {
   "cell_type": "markdown",
   "metadata": {},
   "source": [
    "### What is the marital-status based in the number of educational years? and the reverse?\n",
    "\n",
    "Answer question such as:\n",
    "- What is the percentage of people with 10 years of education that are married?\n",
    "- What is most common marital status for people with 7 years of education? and 16?\n",
    "- what is the percentage of people with 10 years of education that are married?\n",
    "- etc."
   ]
  },
  {
   "cell_type": "code",
   "execution_count": null,
   "metadata": {
    "ExecuteTime": {
     "end_time": "2024-03-30T18:25:51.656356Z",
     "start_time": "2024-03-30T18:25:51.654845Z"
    }
   },
   "outputs": [],
   "source": []
  },
  {
   "cell_type": "code",
   "execution_count": null,
   "metadata": {
    "ExecuteTime": {
     "end_time": "2024-03-30T18:25:51.658212Z",
     "start_time": "2024-03-30T18:25:51.656927Z"
    }
   },
   "outputs": [],
   "source": []
  },
  {
   "cell_type": "code",
   "execution_count": null,
   "metadata": {
    "ExecuteTime": {
     "end_time": "2024-03-30T18:25:51.660424Z",
     "start_time": "2024-03-30T18:25:51.659008Z"
    }
   },
   "outputs": [],
   "source": []
  },
  {
   "cell_type": "code",
   "execution_count": null,
   "metadata": {
    "ExecuteTime": {
     "end_time": "2024-03-30T18:25:51.662321Z",
     "start_time": "2024-03-30T18:25:51.660906Z"
    }
   },
   "outputs": [],
   "source": []
  },
  {
   "cell_type": "markdown",
   "metadata": {},
   "source": [
    "### What is the more common type of income based on the marital status?"
   ]
  },
  {
   "cell_type": "code",
   "execution_count": null,
   "metadata": {
    "ExecuteTime": {
     "end_time": "2024-03-30T18:25:51.664345Z",
     "start_time": "2024-03-30T18:25:51.663053Z"
    }
   },
   "outputs": [],
   "source": []
  },
  {
   "cell_type": "code",
   "execution_count": null,
   "metadata": {
    "ExecuteTime": {
     "end_time": "2024-03-30T18:25:51.665992Z",
     "start_time": "2024-03-30T18:25:51.664807Z"
    }
   },
   "outputs": [],
   "source": []
  },
  {
   "cell_type": "markdown",
   "metadata": {},
   "source": [
    "### What is the type of income based in the number of educational years?"
   ]
  },
  {
   "cell_type": "code",
   "execution_count": null,
   "metadata": {
    "ExecuteTime": {
     "end_time": "2024-03-30T18:25:51.667820Z",
     "start_time": "2024-03-30T18:25:51.666635Z"
    }
   },
   "outputs": [],
   "source": []
  },
  {
   "cell_type": "markdown",
   "metadata": {},
   "source": [
    "### Based on the number of years of education and income what is the best education level to have high income?"
   ]
  },
  {
   "cell_type": "code",
   "execution_count": null,
   "metadata": {
    "ExecuteTime": {
     "end_time": "2024-03-30T18:25:51.669545Z",
     "start_time": "2024-03-30T18:25:51.668319Z"
    }
   },
   "outputs": [],
   "source": []
  },
  {
   "cell_type": "markdown",
   "metadata": {},
   "source": [
    "## Central tendency measures\n",
    "### What is the mean age of the population? and the weighted mean age?"
   ]
  },
  {
   "cell_type": "code",
   "execution_count": null,
   "metadata": {
    "ExecuteTime": {
     "end_time": "2024-03-30T18:25:51.675859Z",
     "start_time": "2024-03-30T18:25:51.674615Z"
    }
   },
   "outputs": [],
   "source": []
  },
  {
   "cell_type": "markdown",
   "metadata": {},
   "source": [
    "### What is the average age of the women? of the men? and of the whole dataset?"
   ]
  },
  {
   "cell_type": "code",
   "execution_count": null,
   "metadata": {
    "ExecuteTime": {
     "end_time": "2024-03-30T18:25:51.677847Z",
     "start_time": "2024-03-30T18:25:51.676478Z"
    }
   },
   "outputs": [],
   "source": []
  },
  {
   "cell_type": "markdown",
   "metadata": {},
   "source": [
    "### What is the average age of men with high income? of the women? and of the whole dataset?"
   ]
  },
  {
   "cell_type": "code",
   "execution_count": null,
   "metadata": {
    "ExecuteTime": {
     "end_time": "2024-03-30T18:25:51.679635Z",
     "start_time": "2024-03-30T18:25:51.678356Z"
    }
   },
   "outputs": [],
   "source": []
  },
  {
   "cell_type": "markdown",
   "metadata": {},
   "source": [
    "### What is the median age of men with high income? and of men with low income? and of men's population?"
   ]
  },
  {
   "cell_type": "code",
   "execution_count": null,
   "metadata": {
    "ExecuteTime": {
     "end_time": "2024-03-30T18:25:51.681570Z",
     "start_time": "2024-03-30T18:25:51.680211Z"
    }
   },
   "outputs": [],
   "source": []
  },
  {
   "cell_type": "markdown",
   "metadata": {},
   "source": [
    "### What is the mode of marital status? Plot the bar plot of the marital status to confirm the result."
   ]
  },
  {
   "cell_type": "code",
   "execution_count": null,
   "metadata": {
    "ExecuteTime": {
     "end_time": "2024-03-30T18:25:51.683198Z",
     "start_time": "2024-03-30T18:25:51.682112Z"
    }
   },
   "outputs": [],
   "source": []
  },
  {
   "cell_type": "code",
   "execution_count": null,
   "metadata": {
    "ExecuteTime": {
     "end_time": "2024-03-30T18:25:51.685154Z",
     "start_time": "2024-03-30T18:25:51.683776Z"
    }
   },
   "outputs": [],
   "source": []
  },
  {
   "cell_type": "markdown",
   "metadata": {},
   "source": [
    "## Dispersion measures\n",
    "### Find the first and third quartile of the age of the population. What is the interquartile range?"
   ]
  },
  {
   "cell_type": "code",
   "execution_count": null,
   "metadata": {
    "ExecuteTime": {
     "end_time": "2024-03-30T18:25:51.687141Z",
     "start_time": "2024-03-30T18:25:51.685783Z"
    }
   },
   "outputs": [],
   "source": []
  },
  {
   "cell_type": "markdown",
   "metadata": {},
   "source": [
    "### Being $\\mu$ the mean age and $\\sigma$ the standard deviation of age of the population, how many samples are in the interval $[\\mu-\\sigma, \\mu+\\sigma$]? What is the correponding percentage of the population?"
   ]
  },
  {
   "cell_type": "code",
   "execution_count": null,
   "metadata": {
    "ExecuteTime": {
     "end_time": "2024-03-30T18:25:51.689227Z",
     "start_time": "2024-03-30T18:25:51.687893Z"
    }
   },
   "outputs": [],
   "source": []
  },
  {
   "cell_type": "markdown",
   "metadata": {},
   "source": [
    "### What is the features with higher standard deviation?"
   ]
  },
  {
   "cell_type": "code",
   "execution_count": null,
   "metadata": {
    "ExecuteTime": {
     "end_time": "2024-03-30T18:25:51.691181Z",
     "start_time": "2024-03-30T18:25:51.689750Z"
    }
   },
   "outputs": [],
   "source": []
  },
  {
   "cell_type": "markdown",
   "metadata": {},
   "source": [
    "### What is the work class with higher age standard deviation?"
   ]
  },
  {
   "cell_type": "code",
   "execution_count": null,
   "metadata": {
    "ExecuteTime": {
     "end_time": "2024-03-30T18:25:51.693221Z",
     "start_time": "2024-03-30T18:25:51.691921Z"
    }
   },
   "outputs": [],
   "source": []
  },
  {
   "cell_type": "markdown",
   "metadata": {},
   "source": [
    "### What is the ocupation with higher working hours standard deviation? What is the minimum and maximum working hours for each occupation? Plot the hours-per-week box plot for each occupation."
   ]
  },
  {
   "cell_type": "code",
   "execution_count": null,
   "metadata": {
    "ExecuteTime": {
     "end_time": "2024-03-30T18:25:51.695063Z",
     "start_time": "2024-03-30T18:25:51.693765Z"
    }
   },
   "outputs": [],
   "source": []
  },
  {
   "cell_type": "code",
   "execution_count": null,
   "metadata": {
    "ExecuteTime": {
     "end_time": "2024-03-30T18:25:51.697017Z",
     "start_time": "2024-03-30T18:25:51.695699Z"
    }
   },
   "outputs": [],
   "source": []
  },
  {
   "cell_type": "code",
   "execution_count": null,
   "metadata": {
    "ExecuteTime": {
     "end_time": "2024-03-30T18:25:51.698848Z",
     "start_time": "2024-03-30T18:25:51.697521Z"
    }
   },
   "outputs": [],
   "source": []
  },
  {
   "cell_type": "markdown",
   "metadata": {},
   "source": [
    "### What is the hours-per-week standard deviation for each workclass? Plot the hours-per-week box plot for each workclass."
   ]
  },
  {
   "cell_type": "code",
   "execution_count": null,
   "metadata": {
    "ExecuteTime": {
     "end_time": "2024-03-30T18:25:51.700683Z",
     "start_time": "2024-03-30T18:25:51.699498Z"
    }
   },
   "outputs": [],
   "source": []
  },
  {
   "cell_type": "code",
   "execution_count": null,
   "metadata": {
    "ExecuteTime": {
     "end_time": "2024-03-30T18:25:51.702414Z",
     "start_time": "2024-03-30T18:25:51.701162Z"
    }
   },
   "outputs": [],
   "source": []
  },
  {
   "cell_type": "markdown",
   "metadata": {},
   "source": [
    "## Skewness and kurtosis\n",
    "\n",
    "### Without plotting the histograms, is the population's age skewed to the left or to the right? What if it is restricted to low or high income? Present yout conclusions."
   ]
  },
  {
   "cell_type": "code",
   "execution_count": null,
   "metadata": {
    "ExecuteTime": {
     "end_time": "2024-03-30T18:25:51.704299Z",
     "start_time": "2024-03-30T18:25:51.703005Z"
    }
   },
   "outputs": [],
   "source": []
  },
  {
   "cell_type": "markdown",
   "metadata": {},
   "source": [
    "### Plot the histogram of the age of the population, of the high income population and of the low income population to confirm the previous conclusions."
   ]
  },
  {
   "cell_type": "code",
   "execution_count": null,
   "metadata": {
    "ExecuteTime": {
     "end_time": "2024-03-30T18:25:51.706104Z",
     "start_time": "2024-03-30T18:25:51.704823Z"
    }
   },
   "outputs": [],
   "source": []
  },
  {
   "metadata": {},
   "cell_type": "markdown",
   "source": [
    "# Relationship between variables\n",
    "\n",
    "### What is the correlation between the age and the hours-per-week? and between the age and the capital-gain?"
   ]
  },
  {
   "metadata": {},
   "cell_type": "code",
   "outputs": [],
   "execution_count": null,
   "source": ""
  },
  {
   "metadata": {},
   "cell_type": "markdown",
   "source": ""
  }
 ],
 "metadata": {
  "kernelspec": {
   "display_name": "Python 3 (ipykernel)",
   "language": "python",
   "name": "python3"
  },
  "language_info": {
   "codemirror_mode": {
    "name": "ipython",
    "version": 3
   },
   "file_extension": ".py",
   "mimetype": "text/x-python",
   "name": "python",
   "nbconvert_exporter": "python",
   "pygments_lexer": "ipython3",
   "version": "3.9.13"
  }
 },
 "nbformat": 4,
 "nbformat_minor": 1
}
