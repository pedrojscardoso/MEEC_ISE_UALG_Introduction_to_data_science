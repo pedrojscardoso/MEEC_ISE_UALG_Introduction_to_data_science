{
 "cells": [
  {
   "cell_type": "markdown",
   "metadata": {},
   "source": [
    "# Exercises"
   ]
  },
  {
   "cell_type": "markdown",
   "metadata": {},
   "source": [
    "## Load the data in the folder `data/building_consumption` into a pandas dataframe.\n",
    "\n",
    "Data is separated in different files. Don't forget to concatenate them, converte the date column to a datetime object and set it as index. Also, sort the index as the loading order might place reading on an unsorted order."
   ]
  },
  {
   "cell_type": "code",
   "execution_count": null,
   "metadata": {
    "ExecuteTime": {
     "start_time": "2023-05-11T17:55:36.349670Z",
     "end_time": "2023-05-11T17:55:36.351927Z"
    }
   },
   "outputs": [],
   "source": []
  },
  {
   "cell_type": "markdown",
   "metadata": {},
   "source": [
    "## Get the columns names for each type (Corrente, Potencia, Tensao, Cost"
   ]
  },
  {
   "cell_type": "code",
   "execution_count": null,
   "metadata": {
    "ExecuteTime": {
     "start_time": "2023-05-11T17:55:36.351575Z",
     "end_time": "2023-05-11T17:55:36.354293Z"
    }
   },
   "outputs": [],
   "source": []
  },
  {
   "cell_type": "markdown",
   "metadata": {},
   "source": [
    "## Do separeted plots for the \"corrente\", the \"tensao\", the \"potencia\" and the \"cost\" data"
   ]
  },
  {
   "cell_type": "code",
   "execution_count": null,
   "metadata": {
    "ExecuteTime": {
     "start_time": "2023-05-11T17:55:36.354873Z",
     "end_time": "2023-05-11T17:55:36.356590Z"
    }
   },
   "outputs": [],
   "source": []
  },
  {
   "cell_type": "markdown",
   "metadata": {},
   "source": [
    " ## Check if there are any missing values in the \"potencia\" and \"corrente\" columns. If there are, fill them with the previous value and plot (e.g., the potencia) them in a different color."
   ]
  },
  {
   "cell_type": "code",
   "execution_count": null,
   "metadata": {
    "ExecuteTime": {
     "start_time": "2023-05-11T17:55:36.357774Z",
     "end_time": "2023-05-11T17:55:36.359772Z"
    }
   },
   "outputs": [],
   "source": []
  },
  {
   "cell_type": "markdown",
   "metadata": {},
   "source": [
    "## Plot again the potencia's data. What do you observe? Can you spot the weekends? the holidays? the covid-19 lockdowns?\n",
    "hint: plot data for seperate years"
   ]
  },
  {
   "cell_type": "code",
   "execution_count": null,
   "metadata": {
    "ExecuteTime": {
     "start_time": "2023-05-11T17:55:36.360655Z",
     "end_time": "2023-05-11T17:55:36.363420Z"
    }
   },
   "outputs": [],
   "source": []
  },
  {
   "cell_type": "markdown",
   "metadata": {},
   "source": [
    "## Plot the data potencia's data for the months of February, March and April 2023. Can you spot the carnival holidays? And Easter?"
   ]
  },
  {
   "cell_type": "code",
   "execution_count": null,
   "metadata": {
    "ExecuteTime": {
     "start_time": "2023-05-11T17:55:36.363634Z",
     "end_time": "2023-05-11T17:55:36.366329Z"
    }
   },
   "outputs": [],
   "source": []
  },
  {
   "cell_type": "markdown",
   "metadata": {},
   "source": [
    "## Group the potencia's data by day of week and plot the mean consumption for each day.\n",
    "Do your comment on the results?"
   ]
  },
  {
   "cell_type": "code",
   "execution_count": null,
   "metadata": {
    "ExecuteTime": {
     "start_time": "2023-05-11T17:55:36.367334Z",
     "end_time": "2023-05-11T17:55:36.369107Z"
    }
   },
   "outputs": [],
   "source": []
  },
  {
   "cell_type": "markdown",
   "metadata": {},
   "source": [
    "## For the potencia's data, resample it by day and plot the min, mean and maximum consumption for each day."
   ]
  },
  {
   "cell_type": "code",
   "execution_count": null,
   "metadata": {
    "ExecuteTime": {
     "start_time": "2023-05-11T17:55:36.370326Z",
     "end_time": "2023-05-11T17:55:36.372328Z"
    }
   },
   "outputs": [],
   "source": []
  },
  {
   "cell_type": "markdown",
   "metadata": {},
   "source": [
    "## Decompose the potencia's data into trend, seasonality and residuals (use the months of February to April 2023)."
   ]
  },
  {
   "cell_type": "code",
   "execution_count": null,
   "metadata": {
    "ExecuteTime": {
     "start_time": "2023-05-11T17:55:36.373517Z",
     "end_time": "2023-05-11T17:55:36.409715Z"
    }
   },
   "outputs": [],
   "source": []
  },
  {
   "cell_type": "markdown",
   "metadata": {},
   "source": [
    "## Resample the potencia's data for daily values. Plot the data for 2023. Plot vertical lines each 7 days.\n",
    "\n",
    "Can you spot the weekends? and the Carnaval holidays?\n"
   ]
  },
  {
   "cell_type": "code",
   "execution_count": null,
   "metadata": {
    "ExecuteTime": {
     "start_time": "2023-05-11T17:55:36.380006Z",
     "end_time": "2023-05-11T17:55:36.410428Z"
    }
   },
   "outputs": [],
   "source": []
  },
  {
   "cell_type": "markdown",
   "metadata": {},
   "source": [
    "## Do the potencias's decomposition for the months 2023.\n",
    "What should be the length of the period?"
   ]
  },
  {
   "cell_type": "code",
   "execution_count": null,
   "metadata": {
    "ExecuteTime": {
     "start_time": "2023-05-11T17:55:36.383438Z",
     "end_time": "2023-05-11T17:55:36.410549Z"
    }
   },
   "outputs": [],
   "source": []
  },
  {
   "cell_type": "markdown",
   "metadata": {},
   "source": [
    "## Resample your potencia's data for weekly values and plot it\n",
    "\n",
    "Can you associate the consumptions with the Covid-19 lock-down"
   ]
  },
  {
   "cell_type": "code",
   "execution_count": null,
   "metadata": {
    "ExecuteTime": {
     "start_time": "2023-05-11T17:55:36.387042Z",
     "end_time": "2023-05-11T17:55:36.410625Z"
    }
   },
   "outputs": [],
   "source": []
  },
  {
   "cell_type": "markdown",
   "metadata": {},
   "source": [
    "# Plot the tensao's data"
   ]
  },
  {
   "cell_type": "code",
   "execution_count": null,
   "metadata": {
    "ExecuteTime": {
     "start_time": "2023-05-11T17:55:36.389944Z",
     "end_time": "2023-05-11T17:55:36.410821Z"
    }
   },
   "outputs": [],
   "source": []
  },
  {
   "cell_type": "markdown",
   "metadata": {},
   "source": [
    "## Find the places were the tensao was superior to 240V. Plot those values."
   ]
  },
  {
   "cell_type": "code",
   "execution_count": null,
   "metadata": {
    "ExecuteTime": {
     "start_time": "2023-05-11T17:55:36.393924Z",
     "end_time": "2023-05-11T17:55:36.410897Z"
    }
   },
   "outputs": [],
   "source": []
  },
  {
   "cell_type": "markdown",
   "metadata": {},
   "source": [
    "## Compute the autocorrelation of the corrent columns\n",
    "\n",
    "Which conclusion can you take. E.g., justify that at a lag of $7\\times2\\times24$ provide beter results for the autocorrelation than a lag of $7\\times24$."
   ]
  },
  {
   "cell_type": "code",
   "execution_count": null,
   "metadata": {
    "ExecuteTime": {
     "start_time": "2023-05-11T17:55:36.396934Z",
     "end_time": "2023-05-11T17:55:36.410988Z"
    }
   },
   "outputs": [],
   "source": []
  },
  {
   "cell_type": "markdown",
   "metadata": {},
   "source": [
    "## Compute the autocorrelation of the corrent columns with the data resampled for daily values\n",
    "Again, which conclusion can be taken? Why is the autocorrelation for a lag of $7$ better than for a lag of $1$?\n",
    "Which lags can be considered as significantly more correlated?\n"
   ]
  },
  {
   "cell_type": "code",
   "execution_count": null,
   "metadata": {
    "ExecuteTime": {
     "start_time": "2023-05-11T17:55:36.400198Z",
     "end_time": "2023-05-11T17:55:36.411067Z"
    }
   },
   "outputs": [],
   "source": []
  },
  {
   "cell_type": "markdown",
   "metadata": {},
   "source": [
    "## Use the moving average method to smooth the potencia's data. Plot the original data and the smoothed data.\n",
    "\n",
    "Decide on the window size.\n",
    "\n",
    "Hint: use the rolling method. Plot the data for the month of February 2023."
   ]
  },
  {
   "cell_type": "code",
   "execution_count": null,
   "metadata": {
    "ExecuteTime": {
     "start_time": "2023-05-11T17:55:36.403380Z",
     "end_time": "2023-05-11T17:55:36.411156Z"
    }
   },
   "outputs": [],
   "source": []
  },
  {
   "cell_type": "markdown",
   "metadata": {},
   "source": [
    "## Remove the smoothed data from the original data and plot the result\n",
    "\n",
    "What were  to be these values if we consider the moving average method as the real consumption?"
   ]
  },
  {
   "cell_type": "code",
   "execution_count": null,
   "metadata": {
    "ExecuteTime": {
     "start_time": "2023-05-11T17:55:36.406696Z",
     "end_time": "2023-05-11T17:55:36.411305Z"
    }
   },
   "outputs": [],
   "source": []
  },
  {
   "cell_type": "markdown",
   "metadata": {},
   "source": [
    "## Do the same but now using the exponential moving average method\n",
    "Can you spot the difference between the two methods?"
   ]
  },
  {
   "cell_type": "code",
   "execution_count": null,
   "metadata": {
    "ExecuteTime": {
     "start_time": "2023-05-11T17:55:36.409353Z",
     "end_time": "2023-05-11T17:55:36.415669Z"
    }
   },
   "outputs": [],
   "source": []
  },
  {
   "cell_type": "markdown",
   "metadata": {},
   "source": [
    "## Use the spectral analysis to compute the periodogram of the potencia's data. Plot the results resampled to hourly readings. Then use the 99.99 precentile to define a mask for the frequencies that are significant (power above the 99.99 percentile).\n",
    "\n",
    "What is the periodicity that you find? Can you associate it with the daily or weekly periodicity?"
   ]
  },
  {
   "cell_type": "code",
   "execution_count": null,
   "metadata": {
    "ExecuteTime": {
     "start_time": "2023-05-11T17:55:36.412937Z",
     "end_time": "2023-05-11T17:55:36.415974Z"
    }
   },
   "outputs": [],
   "source": []
  },
  {
   "cell_type": "markdown",
   "metadata": {},
   "source": [
    "## Do the same thing as before but now for the potencia's data resampled for daily values (define your own threshold)\n",
    "\n",
    "What is the periodicity that you find? Can you associate it with the weekly periodicity of the potencia's data? Why?"
   ]
  },
  {
   "cell_type": "code",
   "execution_count": null,
   "metadata": {
    "ExecuteTime": {
     "start_time": "2023-05-11T17:55:36.416585Z",
     "end_time": "2023-05-11T17:55:36.418901Z"
    }
   },
   "outputs": [],
   "source": []
  },
  {
   "cell_type": "markdown",
   "metadata": {},
   "source": [
    "## Compute the correlation between the potencia's data and the corrente's data."
   ]
  },
  {
   "cell_type": "code",
   "execution_count": null,
   "metadata": {
    "ExecuteTime": {
     "start_time": "2023-05-11T17:55:36.419357Z",
     "end_time": "2023-05-11T17:55:36.422000Z"
    }
   },
   "outputs": [],
   "source": []
  },
  {
   "cell_type": "markdown",
   "metadata": {},
   "source": []
  }
 ],
 "metadata": {
  "kernelspec": {
   "display_name": "Python 3 (ipykernel)",
   "language": "python",
   "name": "python3"
  },
  "language_info": {
   "codemirror_mode": {
    "name": "ipython",
    "version": 3
   },
   "file_extension": ".py",
   "mimetype": "text/x-python",
   "name": "python",
   "nbconvert_exporter": "python",
   "pygments_lexer": "ipython3",
   "version": "3.9.13"
  }
 },
 "nbformat": 4,
 "nbformat_minor": 1
}
