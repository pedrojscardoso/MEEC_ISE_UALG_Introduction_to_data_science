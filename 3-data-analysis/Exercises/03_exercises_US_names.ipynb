{
 "cells": [
  {
   "cell_type": "markdown",
   "id": "f96cea2ae3cfe799",
   "metadata": {
    "collapsed": false
   },
   "source": [
    "# Dataframe exercises"
   ]
  },
  {
   "cell_type": "markdown",
   "id": "24f69c2469f4894e",
   "metadata": {
    "collapsed": false
   },
   "source": [
    "## Exercise - US Baby Names\n",
    "\n",
    "The folder '3-data-analysis/data/names' contains files with the names registered in the US from  1880 to 2021. Use Pandas to do the following tasks."
   ]
  },
  {
   "cell_type": "markdown",
   "id": "47883689069b0972",
   "metadata": {
    "collapsed": false
   },
   "source": [
    "### Join the data in the files in a single dataframe (e.g., a name by row)"
   ]
  },
  {
   "cell_type": "code",
   "execution_count": 0,
   "id": "4d127224294b1384",
   "metadata": {
    "collapsed": false
   },
   "outputs": [],
   "source": [
    "import pandas as pd\n",
    "\n",
    "[pd.read]"
   ]
  },
  {
   "cell_type": "markdown",
   "id": "446860fa971b19cd",
   "metadata": {
    "collapsed": false
   },
   "source": [
    "### Find the name most registered since 1880 \n",
    "(suggestion: see the method `idxmax`)"
   ]
  },
  {
   "cell_type": "code",
   "execution_count": 0,
   "id": "ce2ee38f927d1a24",
   "metadata": {
    "collapsed": false
   },
   "outputs": [],
   "source": []
  },
  {
   "cell_type": "markdown",
   "id": "e50add83966831ea",
   "metadata": {
    "collapsed": false
   },
   "source": [
    "### The name less registered since 1880\n",
    "(suggestion: see the method `idxmin`)"
   ]
  },
  {
   "cell_type": "code",
   "execution_count": 0,
   "id": "af077c0a6abbfaf9",
   "metadata": {
    "collapsed": false
   },
   "outputs": [],
   "source": []
  },
  {
   "cell_type": "markdown",
   "id": "f7d7d2b10b24184e",
   "metadata": {
    "collapsed": false
   },
   "source": [
    "### Find the name most registered by year"
   ]
  },
  {
   "cell_type": "code",
   "execution_count": 0,
   "id": "ad3a098acd31966c",
   "metadata": {
    "collapsed": false
   },
   "outputs": [],
   "source": []
  },
  {
   "cell_type": "markdown",
   "id": "e6d4bb040c7c5ae4",
   "metadata": {
    "collapsed": false
   },
   "source": [
    "### Find the name most registered in the year 2000"
   ]
  },
  {
   "cell_type": "code",
   "execution_count": 0,
   "id": "6e32c62ae90c5096",
   "metadata": {
    "collapsed": false
   },
   "outputs": [],
   "source": []
  },
  {
   "cell_type": "markdown",
   "id": "9a954398a0815944",
   "metadata": {
    "collapsed": false
   },
   "source": [
    "### Find the name less registered in the year 2000"
   ]
  },
  {
   "cell_type": "code",
   "execution_count": 0,
   "id": "74ce3bef6c17dad1",
   "metadata": {
    "collapsed": false
   },
   "outputs": [],
   "source": []
  },
  {
   "cell_type": "markdown",
   "id": "52e787778c0b245",
   "metadata": {
    "collapsed": false
   },
   "source": [
    "### Find the name most registered since 1880 by gender"
   ]
  },
  {
   "cell_type": "code",
   "execution_count": 0,
   "id": "81d19b02014d1440",
   "metadata": {
    "collapsed": false
   },
   "outputs": [],
   "source": []
  },
  {
   "cell_type": "markdown",
   "id": "ee021623ad37cd4a",
   "metadata": {
    "collapsed": false
   },
   "source": [
    "### Plot the evolution of the registration of the name `Mary'"
   ]
  },
  {
   "cell_type": "code",
   "execution_count": 0,
   "id": "ff6fb22989274c43",
   "metadata": {
    "collapsed": false
   },
   "outputs": [],
   "source": []
  },
  {
   "cell_type": "markdown",
   "id": "22f9f367a40dc059",
   "metadata": {
    "collapsed": false
   },
   "source": [
    "### Plot the evolution of the registration of the 10 most registered names"
   ]
  },
  {
   "cell_type": "code",
   "execution_count": 0,
   "id": "373feecda0a87955",
   "metadata": {
    "collapsed": false
   },
   "outputs": [],
   "source": []
  },
  {
   "cell_type": "markdown",
   "id": "e7ed1ec0cda5a83f",
   "metadata": {
    "collapsed": false
   },
   "source": [
    "## Exercise - US Baby Names by State\n",
    "\n",
    "The folder '4-data-analysis/data/namesbystate' contains files with \"State-specific data on the relative frequency of given names in the population of U.S. births where the individual has a Social Security Number\""
   ]
  },
  {
   "cell_type": "markdown",
   "id": "16d129ea145190f2",
   "metadata": {
    "collapsed": false
   },
   "source": [
    "### Load the data into a single dataframe: what is the best structure?"
   ]
  },
  {
   "cell_type": "code",
   "execution_count": 0,
   "id": "3edc5ed76d043b9a",
   "metadata": {
    "collapsed": false
   },
   "outputs": [],
   "source": []
  },
  {
   "cell_type": "markdown",
   "id": "1f4d99e7f810b0c2",
   "metadata": {
    "collapsed": false
   },
   "source": [
    "### Get the registration of females for NY"
   ]
  },
  {
   "cell_type": "code",
   "execution_count": 0,
   "id": "cb0828d6544b1b5a",
   "metadata": {
    "collapsed": false
   },
   "outputs": [],
   "source": []
  },
  {
   "cell_type": "markdown",
   "id": "a9a3e49a87a29f7b",
   "metadata": {
    "collapsed": false
   },
   "source": [
    "### How many females where registered in NY since the begining of the records?"
   ]
  },
  {
   "cell_type": "code",
   "execution_count": 0,
   "id": "bfb98a89d1a11833",
   "metadata": {
    "collapsed": false
   },
   "outputs": [],
   "source": []
  },
  {
   "cell_type": "markdown",
   "id": "47efbc73b89ac267",
   "metadata": {
    "collapsed": false
   },
   "source": [
    "### Get the registration of females named Olivia for NY"
   ]
  },
  {
   "cell_type": "code",
   "execution_count": 0,
   "id": "b4e8309c534e2e6f",
   "metadata": {
    "collapsed": false
   },
   "outputs": [],
   "source": []
  },
  {
   "cell_type": "markdown",
   "id": "2265a640ba9d5e43",
   "metadata": {
    "collapsed": false
   },
   "source": [
    "### What was the minimum, maximum, average and 10th percentile of registrations of the name Olivia in NY?"
   ]
  },
  {
   "cell_type": "code",
   "execution_count": 0,
   "id": "4d83adb6f9c1c6c",
   "metadata": {
    "collapsed": false
   },
   "outputs": [],
   "source": []
  },
  {
   "cell_type": "markdown",
   "id": "7f170fe05ad21dd",
   "metadata": {
    "collapsed": false
   },
   "source": [
    "### Find how many times \"Olivia\" was registered in NY in 2000"
   ]
  },
  {
   "cell_type": "code",
   "execution_count": 0,
   "id": "55bec7aa5289e6c6",
   "metadata": {
    "collapsed": false
   },
   "outputs": [],
   "source": []
  },
  {
   "cell_type": "markdown",
   "id": "5c0e748444ab4efc",
   "metadata": {
    "collapsed": false
   },
   "source": [
    "### Find the year and state where Olivia was most times registered in a single year."
   ]
  },
  {
   "cell_type": "code",
   "execution_count": 0,
   "id": "7a38556eadd1ae21",
   "metadata": {
    "collapsed": false
   },
   "outputs": [],
   "source": []
  },
  {
   "cell_type": "markdown",
   "id": "c93fcd8dc499f81a",
   "metadata": {
    "collapsed": false
   },
   "source": [
    "### Find the year where Olivia was most times registred (all states)"
   ]
  },
  {
   "cell_type": "code",
   "execution_count": 0,
   "id": "9cbf1e0ae0ccaac",
   "metadata": {
    "collapsed": false
   },
   "outputs": [],
   "source": []
  },
  {
   "cell_type": "markdown",
   "id": "414a02301790816f",
   "metadata": {
    "collapsed": false
   },
   "source": [
    "### Find the states where the name Mary and John were most times registered"
   ]
  },
  {
   "cell_type": "code",
   "execution_count": 0,
   "id": "71227e02cb84a49a",
   "metadata": {
    "collapsed": false
   },
   "outputs": [],
   "source": []
  },
  {
   "cell_type": "markdown",
   "id": "7da3b2aeb24c6a8f",
   "metadata": {
    "collapsed": false
   },
   "source": [
    "### Plot the evolution of the names Mary and John through the years"
   ]
  },
  {
   "cell_type": "code",
   "execution_count": 0,
   "id": "25cb8676b1c03257",
   "metadata": {
    "collapsed": false
   },
   "outputs": [],
   "source": []
  },
  {
   "cell_type": "markdown",
   "id": "5424e466c992adc6",
   "metadata": {
    "collapsed": false
   },
   "source": [
    "### Find the name most registered in a state for a single year"
   ]
  },
  {
   "cell_type": "code",
   "execution_count": 0,
   "id": "fa1333e5ea8a58a1",
   "metadata": {
    "collapsed": false
   },
   "outputs": [],
   "source": []
  },
  {
   "cell_type": "markdown",
   "id": "e04656ee5170d9a6",
   "metadata": {
    "collapsed": false
   },
   "source": [
    "### Plot the evolution of the top 5 (comulattive, i.e., all times) female names"
   ]
  },
  {
   "cell_type": "code",
   "execution_count": 0,
   "id": "688d15d3ad79f7cd",
   "metadata": {
    "collapsed": false
   },
   "outputs": [],
   "source": []
  },
  {
   "cell_type": "markdown",
   "id": "7f3c069078c3a76f",
   "metadata": {
    "collapsed": false
   },
   "source": [
    "### Plot the comulative registration of the name Olivia in the states NY, NV, NM, Nj, and NH. "
   ]
  },
  {
   "cell_type": "code",
   "execution_count": null,
   "id": "df3e64c6368ee697",
   "metadata": {
    "collapsed": false
   },
   "outputs": [],
   "source": []
  }
 ],
 "metadata": {
  "kernelspec": {
   "display_name": "Python 3",
   "language": "python",
   "name": "python3"
  },
  "language_info": {
   "codemirror_mode": {
    "name": "ipython",
    "version": 2
   },
   "file_extension": ".py",
   "mimetype": "text/x-python",
   "name": "python",
   "nbconvert_exporter": "python",
   "pygments_lexer": "ipython2",
   "version": "2.7.6"
  }
 },
 "nbformat": 4,
 "nbformat_minor": 5
}
