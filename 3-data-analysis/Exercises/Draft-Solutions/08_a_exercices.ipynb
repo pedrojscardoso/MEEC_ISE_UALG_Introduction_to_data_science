{
 "cells": [
  {
   "cell_type": "markdown",
   "source": [
    "# NLP"
   ],
   "metadata": {
    "collapsed": false
   }
  },
  {
   "cell_type": "markdown",
   "source": [
    "## load data from 'data/IMDB/imdb_data.csv.zip'"
   ],
   "metadata": {
    "collapsed": false
   }
  },
  {
   "cell_type": "code",
   "execution_count": 2,
   "outputs": [
    {
     "data": {
      "text/plain": "      filename                                             review  \\\n0   1821_4.txt  Working with one of the best Shakespeare sourc...   \n1  10402_1.txt  Well...tremors I, the original started off in ...   \n2   1062_4.txt  Ouch! This one was a bit painful to sit throug...   \n3   9056_1.txt  I've seen some crappy movies in my life, but t...   \n4   5392_3.txt  \"Carriers\" follows the exploits of two guys an...   \n\n   classification  sentiment  \n0               4          0  \n1               1          0  \n2               4          0  \n3               1          0  \n4               3          0  ",
      "text/html": "<div>\n<style scoped>\n    .dataframe tbody tr th:only-of-type {\n        vertical-align: middle;\n    }\n\n    .dataframe tbody tr th {\n        vertical-align: top;\n    }\n\n    .dataframe thead th {\n        text-align: right;\n    }\n</style>\n<table border=\"1\" class=\"dataframe\">\n  <thead>\n    <tr style=\"text-align: right;\">\n      <th></th>\n      <th>filename</th>\n      <th>review</th>\n      <th>classification</th>\n      <th>sentiment</th>\n    </tr>\n  </thead>\n  <tbody>\n    <tr>\n      <th>0</th>\n      <td>1821_4.txt</td>\n      <td>Working with one of the best Shakespeare sourc...</td>\n      <td>4</td>\n      <td>0</td>\n    </tr>\n    <tr>\n      <th>1</th>\n      <td>10402_1.txt</td>\n      <td>Well...tremors I, the original started off in ...</td>\n      <td>1</td>\n      <td>0</td>\n    </tr>\n    <tr>\n      <th>2</th>\n      <td>1062_4.txt</td>\n      <td>Ouch! This one was a bit painful to sit throug...</td>\n      <td>4</td>\n      <td>0</td>\n    </tr>\n    <tr>\n      <th>3</th>\n      <td>9056_1.txt</td>\n      <td>I've seen some crappy movies in my life, but t...</td>\n      <td>1</td>\n      <td>0</td>\n    </tr>\n    <tr>\n      <th>4</th>\n      <td>5392_3.txt</td>\n      <td>\"Carriers\" follows the exploits of two guys an...</td>\n      <td>3</td>\n      <td>0</td>\n    </tr>\n  </tbody>\n</table>\n</div>"
     },
     "execution_count": 2,
     "metadata": {},
     "output_type": "execute_result"
    }
   ],
   "source": [],
   "metadata": {
    "collapsed": false,
    "ExecuteTime": {
     "end_time": "2023-05-22T11:28:59.592581Z",
     "start_time": "2023-05-22T11:28:58.943705Z"
    }
   }
  },
  {
   "cell_type": "markdown",
   "source": [
    "## Find if there is a correlation between the number of words of a comment and its sentiment and/or classification\n",
    "\n",
    "Can you make any conclusions?"
   ],
   "metadata": {
    "collapsed": false
   }
  },
  {
   "cell_type": "code",
   "execution_count": 3,
   "outputs": [
    {
     "data": {
      "text/plain": "            sentiment  word_count\nsentiment    1.000000    0.016804\nword_count   0.016804    1.000000",
      "text/html": "<div>\n<style scoped>\n    .dataframe tbody tr th:only-of-type {\n        vertical-align: middle;\n    }\n\n    .dataframe tbody tr th {\n        vertical-align: top;\n    }\n\n    .dataframe thead th {\n        text-align: right;\n    }\n</style>\n<table border=\"1\" class=\"dataframe\">\n  <thead>\n    <tr style=\"text-align: right;\">\n      <th></th>\n      <th>sentiment</th>\n      <th>word_count</th>\n    </tr>\n  </thead>\n  <tbody>\n    <tr>\n      <th>sentiment</th>\n      <td>1.000000</td>\n      <td>0.016804</td>\n    </tr>\n    <tr>\n      <th>word_count</th>\n      <td>0.016804</td>\n      <td>1.000000</td>\n    </tr>\n  </tbody>\n</table>\n</div>"
     },
     "execution_count": 3,
     "metadata": {},
     "output_type": "execute_result"
    }
   ],
   "source": [],
   "metadata": {
    "collapsed": false,
    "ExecuteTime": {
     "end_time": "2023-05-22T11:29:02.352115Z",
     "start_time": "2023-05-22T11:29:01.994899Z"
    }
   }
  },
  {
   "cell_type": "code",
   "execution_count": 4,
   "outputs": [
    {
     "data": {
      "text/plain": "                classification  word_count\nclassification         1.00000     0.01413\nword_count             0.01413     1.00000",
      "text/html": "<div>\n<style scoped>\n    .dataframe tbody tr th:only-of-type {\n        vertical-align: middle;\n    }\n\n    .dataframe tbody tr th {\n        vertical-align: top;\n    }\n\n    .dataframe thead th {\n        text-align: right;\n    }\n</style>\n<table border=\"1\" class=\"dataframe\">\n  <thead>\n    <tr style=\"text-align: right;\">\n      <th></th>\n      <th>classification</th>\n      <th>word_count</th>\n    </tr>\n  </thead>\n  <tbody>\n    <tr>\n      <th>classification</th>\n      <td>1.00000</td>\n      <td>0.01413</td>\n    </tr>\n    <tr>\n      <th>word_count</th>\n      <td>0.01413</td>\n      <td>1.00000</td>\n    </tr>\n  </tbody>\n</table>\n</div>"
     },
     "execution_count": 4,
     "metadata": {},
     "output_type": "execute_result"
    }
   ],
   "source": [],
   "metadata": {
    "collapsed": false,
    "ExecuteTime": {
     "end_time": "2023-05-22T11:29:03.205224Z",
     "start_time": "2023-05-22T11:29:03.157624Z"
    }
   }
  },
  {
   "cell_type": "markdown",
   "source": [
    "## Do the same as above but for the number of senteces in the document (hint: for now, use the period as a sentence delimiter)"
   ],
   "metadata": {
    "collapsed": false
   }
  },
  {
   "cell_type": "code",
   "execution_count": 5,
   "outputs": [],
   "source": [],
   "metadata": {
    "collapsed": false,
    "ExecuteTime": {
     "end_time": "2023-05-22T11:29:15.302886Z",
     "start_time": "2023-05-22T11:29:15.238535Z"
    }
   }
  },
  {
   "cell_type": "code",
   "execution_count": 6,
   "outputs": [
    {
     "data": {
      "text/plain": "                sentiment  sentence_count\nsentiment        1.000000       -0.032144\nsentence_count  -0.032144        1.000000",
      "text/html": "<div>\n<style scoped>\n    .dataframe tbody tr th:only-of-type {\n        vertical-align: middle;\n    }\n\n    .dataframe tbody tr th {\n        vertical-align: top;\n    }\n\n    .dataframe thead th {\n        text-align: right;\n    }\n</style>\n<table border=\"1\" class=\"dataframe\">\n  <thead>\n    <tr style=\"text-align: right;\">\n      <th></th>\n      <th>sentiment</th>\n      <th>sentence_count</th>\n    </tr>\n  </thead>\n  <tbody>\n    <tr>\n      <th>sentiment</th>\n      <td>1.000000</td>\n      <td>-0.032144</td>\n    </tr>\n    <tr>\n      <th>sentence_count</th>\n      <td>-0.032144</td>\n      <td>1.000000</td>\n    </tr>\n  </tbody>\n</table>\n</div>"
     },
     "execution_count": 6,
     "metadata": {},
     "output_type": "execute_result"
    }
   ],
   "source": [],
   "metadata": {
    "collapsed": false,
    "ExecuteTime": {
     "end_time": "2023-05-22T11:29:16.809336Z",
     "start_time": "2023-05-22T11:29:16.781938Z"
    }
   }
  },
  {
   "cell_type": "code",
   "execution_count": 7,
   "outputs": [
    {
     "data": {
      "text/plain": "                classification  sentence_count\nclassification        1.000000       -0.036023\nsentence_count       -0.036023        1.000000",
      "text/html": "<div>\n<style scoped>\n    .dataframe tbody tr th:only-of-type {\n        vertical-align: middle;\n    }\n\n    .dataframe tbody tr th {\n        vertical-align: top;\n    }\n\n    .dataframe thead th {\n        text-align: right;\n    }\n</style>\n<table border=\"1\" class=\"dataframe\">\n  <thead>\n    <tr style=\"text-align: right;\">\n      <th></th>\n      <th>classification</th>\n      <th>sentence_count</th>\n    </tr>\n  </thead>\n  <tbody>\n    <tr>\n      <th>classification</th>\n      <td>1.000000</td>\n      <td>-0.036023</td>\n    </tr>\n    <tr>\n      <th>sentence_count</th>\n      <td>-0.036023</td>\n      <td>1.000000</td>\n    </tr>\n  </tbody>\n</table>\n</div>"
     },
     "execution_count": 7,
     "metadata": {},
     "output_type": "execute_result"
    }
   ],
   "source": [],
   "metadata": {
    "collapsed": false,
    "ExecuteTime": {
     "end_time": "2023-05-22T11:29:32.088184Z",
     "start_time": "2023-05-22T11:29:32.051532Z"
    }
   }
  },
  {
   "cell_type": "markdown",
   "source": [
    "## Make a pivot table with the average number of words per classification and sentiment and plot it as a bar chart"
   ],
   "metadata": {
    "collapsed": false
   }
  },
  {
   "cell_type": "code",
   "execution_count": 8,
   "outputs": [
    {
     "data": {
      "text/plain": "sentiment                0           1\nclassification                        \n1               211.595686         NaN\n2               226.199212         NaN\n3               250.685537         NaN\n4               253.491098         NaN\n7                      NaN  260.793670\n8                      NaN  252.252908\n9                      NaN  245.346443\n10                     NaN  209.983728",
      "text/html": "<div>\n<style scoped>\n    .dataframe tbody tr th:only-of-type {\n        vertical-align: middle;\n    }\n\n    .dataframe tbody tr th {\n        vertical-align: top;\n    }\n\n    .dataframe thead th {\n        text-align: right;\n    }\n</style>\n<table border=\"1\" class=\"dataframe\">\n  <thead>\n    <tr style=\"text-align: right;\">\n      <th>sentiment</th>\n      <th>0</th>\n      <th>1</th>\n    </tr>\n    <tr>\n      <th>classification</th>\n      <th></th>\n      <th></th>\n    </tr>\n  </thead>\n  <tbody>\n    <tr>\n      <th>1</th>\n      <td>211.595686</td>\n      <td>NaN</td>\n    </tr>\n    <tr>\n      <th>2</th>\n      <td>226.199212</td>\n      <td>NaN</td>\n    </tr>\n    <tr>\n      <th>3</th>\n      <td>250.685537</td>\n      <td>NaN</td>\n    </tr>\n    <tr>\n      <th>4</th>\n      <td>253.491098</td>\n      <td>NaN</td>\n    </tr>\n    <tr>\n      <th>7</th>\n      <td>NaN</td>\n      <td>260.793670</td>\n    </tr>\n    <tr>\n      <th>8</th>\n      <td>NaN</td>\n      <td>252.252908</td>\n    </tr>\n    <tr>\n      <th>9</th>\n      <td>NaN</td>\n      <td>245.346443</td>\n    </tr>\n    <tr>\n      <th>10</th>\n      <td>NaN</td>\n      <td>209.983728</td>\n    </tr>\n  </tbody>\n</table>\n</div>"
     },
     "execution_count": 8,
     "metadata": {},
     "output_type": "execute_result"
    }
   ],
   "source": [],
   "metadata": {
    "collapsed": false,
    "ExecuteTime": {
     "end_time": "2023-05-22T11:29:55.621175Z",
     "start_time": "2023-05-22T11:29:55.584932Z"
    }
   }
  },
  {
   "cell_type": "code",
   "execution_count": 9,
   "outputs": [
    {
     "data": {
      "text/plain": "<Axes: xlabel='classification'>"
     },
     "execution_count": 9,
     "metadata": {},
     "output_type": "execute_result"
    },
    {
     "data": {
      "text/plain": "<Figure size 640x480 with 1 Axes>",
      "image/png": "[encoded data removed]"
     },
     "metadata": {},
     "output_type": "display_data"
    }
   ],
   "source": [],
   "metadata": {
    "collapsed": false,
    "ExecuteTime": {
     "end_time": "2023-05-22T11:29:57.186055Z",
     "start_time": "2023-05-22T11:29:56.300805Z"
    }
   }
  },
  {
   "cell_type": "markdown",
   "source": [
    "## Find if there is a correlation between the number of words in a comment and comment's classification, but only for positive sentiment\n",
    "Conclusion?"
   ],
   "metadata": {
    "collapsed": false
   }
  },
  {
   "cell_type": "code",
   "execution_count": 10,
   "outputs": [
    {
     "data": {
      "text/plain": "          filename                                             review  \\\n12500   4715_9.txt  For a movie that gets no respect there sure ar...   \n12501  12390_8.txt  Bizarre horror movie filled with famous faces ...   \n12502   8329_7.txt  A solid, if unremarkable film. Matthau, as Ein...   \n12503   9063_8.txt  It's a strange feeling to sit alone in a theat...   \n12504  3092_10.txt  You probably all already know this by now, but...   \n...            ...                                                ...   \n24995  9707_10.txt  About a year ago I finally gave up on American...   \n24996     35_8.txt  When I saw the elaborate DVD box for this and ...   \n24997  6034_10.txt  Last November, I had a chance to see this film...   \n24998   2780_9.txt  Great movie -I loved it. Great editing and use...   \n24999    437_9.txt  Enchanted April is a tone poem, an impressioni...   \n\n       classification  sentiment  word_count  sentence_count  \n12500               9          1          52               6  \n12501               8          1         166               4  \n12502               7          1          55               4  \n12503               8          1         442              32  \n12504              10          1         144              15  \n...               ...        ...         ...             ...  \n24995              10          1         138               7  \n24996               8          1         129               8  \n24997              10          1         203              13  \n24998               9          1         121               8  \n24999               9          1         124              12  \n\n[12500 rows x 6 columns]",
      "text/html": "<div>\n<style scoped>\n    .dataframe tbody tr th:only-of-type {\n        vertical-align: middle;\n    }\n\n    .dataframe tbody tr th {\n        vertical-align: top;\n    }\n\n    .dataframe thead th {\n        text-align: right;\n    }\n</style>\n<table border=\"1\" class=\"dataframe\">\n  <thead>\n    <tr style=\"text-align: right;\">\n      <th></th>\n      <th>filename</th>\n      <th>review</th>\n      <th>classification</th>\n      <th>sentiment</th>\n      <th>word_count</th>\n      <th>sentence_count</th>\n    </tr>\n  </thead>\n  <tbody>\n    <tr>\n      <th>12500</th>\n      <td>4715_9.txt</td>\n      <td>For a movie that gets no respect there sure ar...</td>\n      <td>9</td>\n      <td>1</td>\n      <td>52</td>\n      <td>6</td>\n    </tr>\n    <tr>\n      <th>12501</th>\n      <td>12390_8.txt</td>\n      <td>Bizarre horror movie filled with famous faces ...</td>\n      <td>8</td>\n      <td>1</td>\n      <td>166</td>\n      <td>4</td>\n    </tr>\n    <tr>\n      <th>12502</th>\n      <td>8329_7.txt</td>\n      <td>A solid, if unremarkable film. Matthau, as Ein...</td>\n      <td>7</td>\n      <td>1</td>\n      <td>55</td>\n      <td>4</td>\n    </tr>\n    <tr>\n      <th>12503</th>\n      <td>9063_8.txt</td>\n      <td>It's a strange feeling to sit alone in a theat...</td>\n      <td>8</td>\n      <td>1</td>\n      <td>442</td>\n      <td>32</td>\n    </tr>\n    <tr>\n      <th>12504</th>\n      <td>3092_10.txt</td>\n      <td>You probably all already know this by now, but...</td>\n      <td>10</td>\n      <td>1</td>\n      <td>144</td>\n      <td>15</td>\n    </tr>\n    <tr>\n      <th>...</th>\n      <td>...</td>\n      <td>...</td>\n      <td>...</td>\n      <td>...</td>\n      <td>...</td>\n      <td>...</td>\n    </tr>\n    <tr>\n      <th>24995</th>\n      <td>9707_10.txt</td>\n      <td>About a year ago I finally gave up on American...</td>\n      <td>10</td>\n      <td>1</td>\n      <td>138</td>\n      <td>7</td>\n    </tr>\n    <tr>\n      <th>24996</th>\n      <td>35_8.txt</td>\n      <td>When I saw the elaborate DVD box for this and ...</td>\n      <td>8</td>\n      <td>1</td>\n      <td>129</td>\n      <td>8</td>\n    </tr>\n    <tr>\n      <th>24997</th>\n      <td>6034_10.txt</td>\n      <td>Last November, I had a chance to see this film...</td>\n      <td>10</td>\n      <td>1</td>\n      <td>203</td>\n      <td>13</td>\n    </tr>\n    <tr>\n      <th>24998</th>\n      <td>2780_9.txt</td>\n      <td>Great movie -I loved it. Great editing and use...</td>\n      <td>9</td>\n      <td>1</td>\n      <td>121</td>\n      <td>8</td>\n    </tr>\n    <tr>\n      <th>24999</th>\n      <td>437_9.txt</td>\n      <td>Enchanted April is a tone poem, an impressioni...</td>\n      <td>9</td>\n      <td>1</td>\n      <td>124</td>\n      <td>12</td>\n    </tr>\n  </tbody>\n</table>\n<p>12500 rows × 6 columns</p>\n</div>"
     },
     "execution_count": 10,
     "metadata": {},
     "output_type": "execute_result"
    }
   ],
   "source": [],
   "metadata": {
    "collapsed": false,
    "ExecuteTime": {
     "end_time": "2023-05-22T11:30:10.606698Z",
     "start_time": "2023-05-22T11:30:10.571954Z"
    }
   }
  },
  {
   "cell_type": "code",
   "execution_count": 11,
   "outputs": [
    {
     "data": {
      "text/plain": "                sentiment  classification  word_count\nsentiment             NaN             NaN         NaN\nclassification        NaN        1.000000   -0.111977\nword_count            NaN       -0.111977    1.000000",
      "text/html": "<div>\n<style scoped>\n    .dataframe tbody tr th:only-of-type {\n        vertical-align: middle;\n    }\n\n    .dataframe tbody tr th {\n        vertical-align: top;\n    }\n\n    .dataframe thead th {\n        text-align: right;\n    }\n</style>\n<table border=\"1\" class=\"dataframe\">\n  <thead>\n    <tr style=\"text-align: right;\">\n      <th></th>\n      <th>sentiment</th>\n      <th>classification</th>\n      <th>word_count</th>\n    </tr>\n  </thead>\n  <tbody>\n    <tr>\n      <th>sentiment</th>\n      <td>NaN</td>\n      <td>NaN</td>\n      <td>NaN</td>\n    </tr>\n    <tr>\n      <th>classification</th>\n      <td>NaN</td>\n      <td>1.000000</td>\n      <td>-0.111977</td>\n    </tr>\n    <tr>\n      <th>word_count</th>\n      <td>NaN</td>\n      <td>-0.111977</td>\n      <td>1.000000</td>\n    </tr>\n  </tbody>\n</table>\n</div>"
     },
     "execution_count": 11,
     "metadata": {},
     "output_type": "execute_result"
    }
   ],
   "source": [],
   "metadata": {
    "collapsed": false,
    "ExecuteTime": {
     "end_time": "2023-05-22T11:30:13.827293Z",
     "start_time": "2023-05-22T11:30:13.809782Z"
    }
   }
  },
  {
   "cell_type": "markdown",
   "source": [
    "## Find if there is a correlation between the number of stop words in a comment and comment's classification"
   ],
   "metadata": {
    "collapsed": false
   }
  },
  {
   "cell_type": "code",
   "execution_count": 12,
   "outputs": [],
   "source": [],
   "metadata": {
    "collapsed": false,
    "ExecuteTime": {
     "end_time": "2023-05-22T11:30:29.277933Z",
     "start_time": "2023-05-22T11:30:25.849551Z"
    }
   }
  },
  {
   "cell_type": "code",
   "execution_count": 13,
   "outputs": [
    {
     "data": {
      "text/plain": "                  classification  stop_words_count\nclassification          1.000000          0.014973\nstop_words_count        0.014973          1.000000",
      "text/html": "<div>\n<style scoped>\n    .dataframe tbody tr th:only-of-type {\n        vertical-align: middle;\n    }\n\n    .dataframe tbody tr th {\n        vertical-align: top;\n    }\n\n    .dataframe thead th {\n        text-align: right;\n    }\n</style>\n<table border=\"1\" class=\"dataframe\">\n  <thead>\n    <tr style=\"text-align: right;\">\n      <th></th>\n      <th>classification</th>\n      <th>stop_words_count</th>\n    </tr>\n  </thead>\n  <tbody>\n    <tr>\n      <th>classification</th>\n      <td>1.000000</td>\n      <td>0.014973</td>\n    </tr>\n    <tr>\n      <th>stop_words_count</th>\n      <td>0.014973</td>\n      <td>1.000000</td>\n    </tr>\n  </tbody>\n</table>\n</div>"
     },
     "execution_count": 13,
     "metadata": {},
     "output_type": "execute_result"
    }
   ],
   "source": [],
   "metadata": {
    "collapsed": false,
    "ExecuteTime": {
     "end_time": "2023-05-22T11:30:31.151640Z",
     "start_time": "2023-05-22T11:30:30.269876Z"
    }
   }
  },
  {
   "cell_type": "markdown",
   "source": [
    "## Find if there is a correlation between the number of uper case words in a comment and comment's classification"
   ],
   "metadata": {
    "collapsed": false
   }
  },
  {
   "cell_type": "code",
   "execution_count": 14,
   "outputs": [
    {
     "data": {
      "text/plain": "                  classification  upper_case_count\nclassification          1.000000         -0.057611\nupper_case_count       -0.057611          1.000000",
      "text/html": "<div>\n<style scoped>\n    .dataframe tbody tr th:only-of-type {\n        vertical-align: middle;\n    }\n\n    .dataframe tbody tr th {\n        vertical-align: top;\n    }\n\n    .dataframe thead th {\n        text-align: right;\n    }\n</style>\n<table border=\"1\" class=\"dataframe\">\n  <thead>\n    <tr style=\"text-align: right;\">\n      <th></th>\n      <th>classification</th>\n      <th>upper_case_count</th>\n    </tr>\n  </thead>\n  <tbody>\n    <tr>\n      <th>classification</th>\n      <td>1.000000</td>\n      <td>-0.057611</td>\n    </tr>\n    <tr>\n      <th>upper_case_count</th>\n      <td>-0.057611</td>\n      <td>1.000000</td>\n    </tr>\n  </tbody>\n</table>\n</div>"
     },
     "execution_count": 14,
     "metadata": {},
     "output_type": "execute_result"
    }
   ],
   "source": [],
   "metadata": {
    "collapsed": false,
    "ExecuteTime": {
     "end_time": "2023-05-22T11:32:34.801714Z",
     "start_time": "2023-05-22T11:32:33.915568Z"
    }
   }
  },
  {
   "cell_type": "markdown",
   "source": [
    "# load the twitter data on folder data/twitter\n",
    "\n",
    "Note,\n",
    " 1. The tweets have been annotated (0 = negative, 2 = neutral, 4 = positive) and they can be used to detect sentiment\n",
    "\n",
    "2. The columns are\n",
    "- target: the polarity of the tweet (0 = negative, 2 = neutral, 4 = positive)\n",
    "- ids: The id of the tweet ( 2087)\n",
    "- date: the date of the tweet (Sat May 16 23:58:44 UTC 2009)\n",
    "- flag: The query (lyx). If there is no query, then this value is NO_QUERY.\n",
    "- user: the user that tweeted (robotickilldozr)\n",
    "- text: the text of the tweet (Lyx is cool)"
   ],
   "metadata": {
    "collapsed": false
   }
  },
  {
   "cell_type": "code",
   "execution_count": 22,
   "outputs": [
    {
     "data": {
      "text/plain": "   target         ids                          date      flag  \\\n0       0  1467810369  Mon Apr 06 22:19:45 PDT 2009  NO_QUERY   \n1       0  1467810672  Mon Apr 06 22:19:49 PDT 2009  NO_QUERY   \n2       0  1467810917  Mon Apr 06 22:19:53 PDT 2009  NO_QUERY   \n3       0  1467811184  Mon Apr 06 22:19:57 PDT 2009  NO_QUERY   \n4       0  1467811193  Mon Apr 06 22:19:57 PDT 2009  NO_QUERY   \n\n              user                                               text  \n0  _TheSpecialOne_  @switchfoot http://twitpic.com/2y1zl - Awww, t...  \n1    scotthamilton  is upset that he can't update his Facebook by ...  \n2         mattycus  @Kenichan I dived many times for the ball. Man...  \n3          ElleCTF    my whole body feels itchy and like its on fire   \n4           Karoli  @nationwideclass no, it's not behaving at all....  ",
      "text/html": "<div>\n<style scoped>\n    .dataframe tbody tr th:only-of-type {\n        vertical-align: middle;\n    }\n\n    .dataframe tbody tr th {\n        vertical-align: top;\n    }\n\n    .dataframe thead th {\n        text-align: right;\n    }\n</style>\n<table border=\"1\" class=\"dataframe\">\n  <thead>\n    <tr style=\"text-align: right;\">\n      <th></th>\n      <th>target</th>\n      <th>ids</th>\n      <th>date</th>\n      <th>flag</th>\n      <th>user</th>\n      <th>text</th>\n    </tr>\n  </thead>\n  <tbody>\n    <tr>\n      <th>0</th>\n      <td>0</td>\n      <td>1467810369</td>\n      <td>Mon Apr 06 22:19:45 PDT 2009</td>\n      <td>NO_QUERY</td>\n      <td>_TheSpecialOne_</td>\n      <td>@switchfoot http://twitpic.com/2y1zl - Awww, t...</td>\n    </tr>\n    <tr>\n      <th>1</th>\n      <td>0</td>\n      <td>1467810672</td>\n      <td>Mon Apr 06 22:19:49 PDT 2009</td>\n      <td>NO_QUERY</td>\n      <td>scotthamilton</td>\n      <td>is upset that he can't update his Facebook by ...</td>\n    </tr>\n    <tr>\n      <th>2</th>\n      <td>0</td>\n      <td>1467810917</td>\n      <td>Mon Apr 06 22:19:53 PDT 2009</td>\n      <td>NO_QUERY</td>\n      <td>mattycus</td>\n      <td>@Kenichan I dived many times for the ball. Man...</td>\n    </tr>\n    <tr>\n      <th>3</th>\n      <td>0</td>\n      <td>1467811184</td>\n      <td>Mon Apr 06 22:19:57 PDT 2009</td>\n      <td>NO_QUERY</td>\n      <td>ElleCTF</td>\n      <td>my whole body feels itchy and like its on fire</td>\n    </tr>\n    <tr>\n      <th>4</th>\n      <td>0</td>\n      <td>1467811193</td>\n      <td>Mon Apr 06 22:19:57 PDT 2009</td>\n      <td>NO_QUERY</td>\n      <td>Karoli</td>\n      <td>@nationwideclass no, it's not behaving at all....</td>\n    </tr>\n  </tbody>\n</table>\n</div>"
     },
     "execution_count": 22,
     "metadata": {},
     "output_type": "execute_result"
    }
   ],
   "source": [],
   "metadata": {
    "collapsed": false,
    "ExecuteTime": {
     "end_time": "2023-05-22T11:43:26.357551Z",
     "start_time": "2023-05-22T11:43:21.306347Z"
    }
   }
  },
  {
   "cell_type": "markdown",
   "source": [
    "# Randomly sample 1000 rows from the data (use `sample` method and `random_state=42`)\n",
    "\n"
   ],
   "metadata": {
    "collapsed": false
   }
  },
  {
   "cell_type": "code",
   "execution_count": 23,
   "outputs": [
    {
     "name": "stdout",
     "output_type": "stream",
     "text": [
      "<class 'pandas.core.frame.DataFrame'>\n",
      "Int64Index: 1000 entries, 541200 to 385755\n",
      "Data columns (total 6 columns):\n",
      " #   Column  Non-Null Count  Dtype \n",
      "---  ------  --------------  ----- \n",
      " 0   target  1000 non-null   int64 \n",
      " 1   ids     1000 non-null   int64 \n",
      " 2   date    1000 non-null   object\n",
      " 3   flag    1000 non-null   object\n",
      " 4   user    1000 non-null   object\n",
      " 5   text    1000 non-null   object\n",
      "dtypes: int64(2), object(4)\n",
      "memory usage: 54.7+ KB\n"
     ]
    }
   ],
   "source": [],
   "metadata": {
    "collapsed": false,
    "ExecuteTime": {
     "end_time": "2023-05-22T11:44:01.912176Z",
     "start_time": "2023-05-22T11:44:01.659525Z"
    }
   }
  },
  {
   "cell_type": "markdown",
   "source": [
    "# How many tweets are positive, negative and neutral?"
   ],
   "metadata": {
    "collapsed": false
   }
  },
  {
   "cell_type": "code",
   "execution_count": 25,
   "outputs": [
    {
     "data": {
      "text/plain": "        text\ntarget      \n0        496\n4        504",
      "text/html": "<div>\n<style scoped>\n    .dataframe tbody tr th:only-of-type {\n        vertical-align: middle;\n    }\n\n    .dataframe tbody tr th {\n        vertical-align: top;\n    }\n\n    .dataframe thead th {\n        text-align: right;\n    }\n</style>\n<table border=\"1\" class=\"dataframe\">\n  <thead>\n    <tr style=\"text-align: right;\">\n      <th></th>\n      <th>text</th>\n    </tr>\n    <tr>\n      <th>target</th>\n      <th></th>\n    </tr>\n  </thead>\n  <tbody>\n    <tr>\n      <th>0</th>\n      <td>496</td>\n    </tr>\n    <tr>\n      <th>4</th>\n      <td>504</td>\n    </tr>\n  </tbody>\n</table>\n</div>"
     },
     "execution_count": 25,
     "metadata": {},
     "output_type": "execute_result"
    }
   ],
   "source": [],
   "metadata": {
    "collapsed": false,
    "ExecuteTime": {
     "end_time": "2023-05-22T11:45:20.394953Z",
     "start_time": "2023-05-22T11:45:20.356738Z"
    }
   }
  },
  {
   "cell_type": "markdown",
   "source": [
    "# Try the sentiment analysis model, prepared on notebook `07_a_text`, on this data. How does it perform?"
   ],
   "metadata": {
    "collapsed": false
   }
  },
  {
   "cell_type": "code",
   "execution_count": null,
   "outputs": [],
   "source": [],
   "metadata": {
    "collapsed": false
   }
  },
  {
   "cell_type": "markdown",
   "source": [
    "# Build a text sentiment model using the `text` column as input and `target` as output\n",
    "\n",
    "1. Start by cleaning the text (remove stop words, punctuation, etc.)\n",
    "2. Use BoW to generate features (test without and with the use of 2-grams and 3-grams)\n",
    "3. Use a classifier of your choice (Random Fores, Logistic Regression, etc.)\n",
    "4. Use cross validation to evaluate the model\n",
    "5. Do another sample of the data and see if the results are similar\n",
    "6. When your model seem tunned, train it on a larger part of the data and save it to disk."
   ],
   "metadata": {
    "collapsed": false
   }
  },
  {
   "cell_type": "code",
   "execution_count": null,
   "outputs": [],
   "source": [],
   "metadata": {
    "collapsed": false
   }
  }
 ],
 "metadata": {
  "kernelspec": {
   "display_name": "Python 3",
   "language": "python",
   "name": "python3"
  },
  "language_info": {
   "codemirror_mode": {
    "name": "ipython",
    "version": 2
   },
   "file_extension": ".py",
   "mimetype": "text/x-python",
   "name": "python",
   "nbconvert_exporter": "python",
   "pygments_lexer": "ipython2",
   "version": "2.7.6"
  }
 },
 "nbformat": 4,
 "nbformat_minor": 0
}
