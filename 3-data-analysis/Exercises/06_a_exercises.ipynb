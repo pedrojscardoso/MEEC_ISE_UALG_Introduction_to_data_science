{
 "cells": [
  {
   "cell_type": "markdown",
   "source": [
    "# Exercises\n",
    "\n",
    "## Load the data in the folder `data/building_consumption` into a pandas dataframe.\n",
    "\n",
    "Data is separated in different files. Don't forget to concatenate them, converte the date column to a datetime object and set it as index. Also, sort the index as the loading order might place reading on an unsorted order."
   ],
   "metadata": {
    "collapsed": false
   }
  },
  {
   "cell_type": "code",
   "execution_count": null,
   "outputs": [],
   "source": [],
   "metadata": {
    "collapsed": false,
    "ExecuteTime": {
     "start_time": "2023-05-15T18:53:10.776084Z",
     "end_time": "2023-05-15T18:53:10.777885Z"
    }
   }
  },
  {
   "cell_type": "markdown",
   "source": [
    "## Plot the dataframe and look for possible outliers\n",
    "Looking at the data can many times be found as a first step in the anomaly detection process."
   ],
   "metadata": {
    "collapsed": false
   }
  },
  {
   "cell_type": "code",
   "execution_count": null,
   "outputs": [],
   "source": [],
   "metadata": {
    "collapsed": false,
    "ExecuteTime": {
     "start_time": "2023-05-15T18:53:10.786692Z",
     "end_time": "2023-05-15T18:53:10.788684Z"
    }
   }
  },
  {
   "cell_type": "markdown",
   "source": [
    "## Get the data for the \"Corrente A\" column, drop nan, re-sample to 24 hours (sum), fill nan with last value, and see the last 10 lines and plot it"
   ],
   "metadata": {
    "collapsed": false
   }
  },
  {
   "cell_type": "code",
   "execution_count": null,
   "outputs": [],
   "source": [],
   "metadata": {
    "collapsed": false,
    "ExecuteTime": {
     "start_time": "2023-05-15T18:53:10.789372Z",
     "end_time": "2023-05-15T18:53:10.790571Z"
    }
   }
  },
  {
   "cell_type": "markdown",
   "source": [
    "## Use the Z-score to detect outliers in the \"Corrente A\" column\n",
    "1. compute the z-score for the \"Corrente A\" column\n",
    "2. plot the \"Corrente A\" column marking the outliers with a different color\n",
    "\n",
    "Comment the results!"
   ],
   "metadata": {
    "collapsed": false
   }
  },
  {
   "cell_type": "code",
   "execution_count": null,
   "outputs": [],
   "source": [],
   "metadata": {
    "collapsed": false,
    "ExecuteTime": {
     "start_time": "2023-05-15T18:53:10.794421Z",
     "end_time": "2023-05-15T18:53:10.795888Z"
    }
   }
  },
  {
   "cell_type": "markdown",
   "source": [
    "## Use the exponential moving average to detect outliers in the \"Corrente A\" column\n",
    "1. compute the exponential moving average for the \"Corrente A\" column\n",
    "2. plot the \"Corrente A\" column marking the outliers with a different color\n",
    "3. plot the exponential moving average for the \"Corrente A\" column marking the outliers with a different color\n",
    "\n",
    "Comment this results also taking into account the previous results!"
   ],
   "metadata": {
    "collapsed": false
   }
  },
  {
   "cell_type": "code",
   "execution_count": null,
   "outputs": [],
   "source": [],
   "metadata": {
    "collapsed": false,
    "ExecuteTime": {
     "start_time": "2023-05-15T18:53:10.801345Z",
     "end_time": "2023-05-15T18:53:10.806220Z"
    }
   }
  },
  {
   "cell_type": "markdown",
   "source": [
    "## Use the modified Z-score to detect outliers in the \"Corrente A\" column. Try different thresholds and comment the results!\n"
   ],
   "metadata": {
    "collapsed": false
   }
  },
  {
   "cell_type": "code",
   "execution_count": null,
   "outputs": [],
   "source": [],
   "metadata": {
    "collapsed": false,
    "ExecuteTime": {
     "start_time": "2023-05-15T18:53:10.812496Z",
     "end_time": "2023-05-15T18:53:10.814177Z"
    }
   }
  },
  {
   "cell_type": "markdown",
   "source": [
    "## Use the Isolation Forest to detect outliers in the \"Corrente A\" column. Try different contamination values and comment the results"
   ],
   "metadata": {
    "collapsed": false
   }
  },
  {
   "cell_type": "code",
   "execution_count": null,
   "outputs": [],
   "source": [],
   "metadata": {
    "collapsed": false,
    "ExecuteTime": {
     "start_time": "2023-05-15T18:53:10.820428Z",
     "end_time": "2023-05-15T18:53:10.822218Z"
    }
   }
  },
  {
   "cell_type": "markdown",
   "source": [
    "## Do the same but now add columns with day of week and month of year to the dataframe"
   ],
   "metadata": {
    "collapsed": false
   }
  },
  {
   "cell_type": "code",
   "execution_count": null,
   "outputs": [],
   "source": [],
   "metadata": {
    "collapsed": false,
    "ExecuteTime": {
     "start_time": "2023-05-15T18:53:10.824994Z",
     "end_time": "2023-05-15T18:53:10.826641Z"
    }
   }
  }
 ],
 "metadata": {
  "kernelspec": {
   "display_name": "Python 3",
   "language": "python",
   "name": "python3"
  },
  "language_info": {
   "codemirror_mode": {
    "name": "ipython",
    "version": 2
   },
   "file_extension": ".py",
   "mimetype": "text/x-python",
   "name": "python",
   "nbconvert_exporter": "python",
   "pygments_lexer": "ipython2",
   "version": "2.7.6"
  }
 },
 "nbformat": 4,
 "nbformat_minor": 0
}
