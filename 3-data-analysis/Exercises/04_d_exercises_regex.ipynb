{
 "cells": [
  {
   "cell_type": "markdown",
   "id": "d5ca6781",
   "metadata": {},
   "source": [
    "_____\n",
    "\n",
    "<table align=\"left\" width=100%>\n",
    "    <td>\n",
    "        <div style=\"text-align: center;\">\n",
    "          <img src=\"./../images/bar.png\" alt=\"\"/>\n",
    "        </div>\n",
    "    </td>\n",
    "    <td>\n",
    "        <p style=\"text-align: center; font-size:24px;\"><b>Introduction to Data Science</b></p>\n",
    "        <p style=\"text-align: center; font-size:18px;\"><b>Master in Electrical and Computer Engineering</b></p>\n",
    "        <p style=\"text-align: center; font-size:14px;\"><b>Pedro Cardoso (pcardoso@ualg.pt)</b></p>\n",
    "    </td>\n",
    "</table>\n",
    "\n",
    "_____\n",
    "\n"
   ]
  },
  {
   "cell_type": "markdown",
   "id": "3310b429",
   "metadata": {},
   "source": [
    "# Regular Expressions Exercises in Python\n",
    "\n",
    "Below is a ready-to-use Jupyter Notebook containing a variety of regular expressions exercises. The notebook progresses from beginner to advanced, includes code cells for practice, and encourages hands-on learning."
   ]
  },
  {
   "cell_type": "markdown",
   "id": "7dfda9bf",
   "metadata": {},
   "source": [
    "\n",
    "import re"
   ]
  },
  {
   "cell_type": "markdown",
   "id": "d978f21b",
   "metadata": {},
   "source": []
  }
 ],
 "metadata": {
  "kernelspec": {
   "display_name": "ML_IDC_metal",
   "language": "python",
   "name": "python3"
  },
  "language_info": {
   "codemirror_mode": {
    "name": "ipython",
    "version": 3
   },
   "file_extension": ".py",
   "mimetype": "text/x-python",
   "name": "python",
   "nbconvert_exporter": "python",
   "pygments_lexer": "ipython3",
   "version": "3.12.9"
  }
 },
 "nbformat": 4,
 "nbformat_minor": 5
}
