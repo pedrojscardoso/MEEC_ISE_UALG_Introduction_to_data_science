{
 "cells": [
  {
   "cell_type": "markdown",
   "id": "d5ca6781",
   "metadata": {},
   "source": [
    "_____\n",
    "\n",
    "<table align=\"left\" width=100%>\n",
    "    <td>\n",
    "        <div style=\"text-align: center;\">\n",
    "          <img src=\"./../images/bar.png\" alt=\"\"/>\n",
    "        </div>\n",
    "    </td>\n",
    "    <td>\n",
    "        <p style=\"text-align: center; font-size:24px;\"><b>Introduction to Data Science</b></p>\n",
    "        <p style=\"text-align: center; font-size:18px;\"><b>Master in Electrical and Computer Engineering</b></p>\n",
    "        <p style=\"text-align: center; font-size:14px;\"><b>Pedro Cardoso (pcardoso@ualg.pt)</b></p>\n",
    "    </td>\n",
    "</table>\n",
    "\n",
    "_____\n",
    "\n"
   ]
  },
  {
   "cell_type": "markdown",
   "id": "3310b429",
   "metadata": {},
   "source": [
    "# Regular Expressions Exercises in Python\n",
    "\n",
    "Below is a ready-to-use Jupyter Notebook containing a variety of regular expressions exercises. The notebook progresses from beginner to advanced, includes code cells for practice, and encourages hands-on learning."
   ]
  },
  {
   "cell_type": "markdown",
   "id": "61c8ec7e",
   "metadata": {},
   "source": [
    "## Basic Pattern Matching with `re`\n",
    "\n",
    "We'll start with simple regex pattern matching."
   ]
  },
  {
   "cell_type": "code",
   "execution_count": null,
   "id": "96f8969c",
   "metadata": {},
   "outputs": [],
   "source": [
    "import re\n",
    "\n",
    "# Sample text\n",
    "text = \"The rain in Spain stays mainly in the plain.\"\n",
    "\n",
    "# Task: Find all words that contain 'ai'\n",
    "matches = re.findall(r\"\\w*ai\\w*\", text)\n",
    "print(\"Matches:\", matches)"
   ]
  },
  {
   "cell_type": "markdown",
   "id": "04ffd307",
   "metadata": {},
   "source": [
    "### 📝 Exercise:\n",
    "- Find all words that start with 's'.\n",
    "- Find all 5-letter words.\n",
    "- Find the position of all occurrences of the word \"in\"."
   ]
  },
  {
   "cell_type": "markdown",
   "id": "049fced7",
   "metadata": {},
   "source": [
    "## Using `re.finditer` for Match Positions"
   ]
  },
  {
   "cell_type": "code",
   "execution_count": null,
   "id": "b02bc85a",
   "metadata": {},
   "outputs": [],
   "source": [
    "# Using re.finditer to get positions\n",
    "for match in re.finditer(r\"in\", text):\n",
    "    print(f\"Match: {match.group()} Start: {match.start()} End: {match.end()}\")"
   ]
  },
  {
   "cell_type": "markdown",
   "id": "eea412cc",
   "metadata": {},
   "source": [
    "## Regular Expressions with `pandas`\n",
    "\n",
    "Now let's apply regex to a DataFrame column."
   ]
  },
  {
   "cell_type": "code",
   "execution_count": null,
   "id": "edf7526b",
   "metadata": {},
   "outputs": [],
   "source": [
    "import pandas as pd\n",
    "\n",
    "# Create sample data\n",
    "df = pd.DataFrame({\n",
    "    'emails': [\n",
    "        'alice@example.com', 'bob123@gmail.net', 'charlie99@yahoo.co.uk',\n",
    "        'no-reply@service.io', 'invalid-email@.com'\n",
    "    ]\n",
    "})\n",
    "\n",
    "# Extract username before '@'\n",
    "df['username'] = df['emails'].str.extract(r\"^([\\w.-]+)@\")\n",
    "df"
   ]
  },
  {
   "cell_type": "markdown",
   "id": "e7802695",
   "metadata": {},
   "source": [
    "### 📝 Exercises:\n",
    "- Extract domain names (e.g., `example.com`).\n",
    "- Find rows with Gmail addresses.\n",
    "- Flag invalid emails using regex."
   ]
  },
  {
   "cell_type": "markdown",
   "id": "8b347ea4",
   "metadata": {},
   "source": []
  },
  {
   "cell_type": "markdown",
   "id": "6943224e",
   "metadata": {},
   "source": []
  }
 ],
 "metadata": {
  "kernelspec": {
   "display_name": "ML_IDC_metal",
   "language": "python",
   "name": "python3"
  },
  "language_info": {
   "codemirror_mode": {
    "name": "ipython",
    "version": 3
   },
   "file_extension": ".py",
   "mimetype": "text/x-python",
   "name": "python",
   "nbconvert_exporter": "python",
   "pygments_lexer": "ipython3",
   "version": "3.12.9"
  }
 },
 "nbformat": 4,
 "nbformat_minor": 5
}
