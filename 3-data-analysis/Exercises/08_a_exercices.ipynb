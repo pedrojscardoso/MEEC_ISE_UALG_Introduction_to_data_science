{
 "cells": [
  {
   "cell_type": "markdown",
   "source": [
    "# NLP"
   ],
   "metadata": {
    "collapsed": false
   }
  },
  {
   "cell_type": "markdown",
   "source": [
    "## load data from 'data/IMDB/imdb_data.csv.zip'"
   ],
   "metadata": {
    "collapsed": false
   }
  },
  {
   "cell_type": "code",
   "execution_count": null,
   "outputs": [],
   "source": [],
   "metadata": {
    "collapsed": false
   }
  },
  {
   "cell_type": "markdown",
   "source": [
    "## Find if there is a correlation between the number of words of a comment and its sentiment and/or classification\n",
    "\n",
    "Can you make any conclusions?"
   ],
   "metadata": {
    "collapsed": false
   }
  },
  {
   "cell_type": "code",
   "execution_count": null,
   "outputs": [],
   "source": [],
   "metadata": {
    "collapsed": false,
    "ExecuteTime": {
     "end_time": "2024-05-14T16:58:17.696475Z",
     "start_time": "2024-05-14T16:58:17.693880Z"
    }
   }
  },
  {
   "cell_type": "markdown",
   "source": [
    "## Do the same as above but for the number of senteces in the document (hint: for now, use the period as a sentence delimiter)"
   ],
   "metadata": {
    "collapsed": false
   }
  },
  {
   "cell_type": "code",
   "execution_count": null,
   "outputs": [],
   "source": [],
   "metadata": {
    "collapsed": false,
    "ExecuteTime": {
     "end_time": "2024-05-14T16:58:24.479240Z",
     "start_time": "2024-05-14T16:58:24.475599Z"
    }
   }
  },
  {
   "cell_type": "markdown",
   "source": [
    "## Make a pivot table with the average number of words per classification and sentiment and plot it as a bar chart"
   ],
   "metadata": {
    "collapsed": false
   }
  },
  {
   "cell_type": "code",
   "execution_count": null,
   "outputs": [],
   "source": [],
   "metadata": {
    "collapsed": false,
    "ExecuteTime": {
     "end_time": "2024-05-14T16:58:32.560601Z",
     "start_time": "2024-05-14T16:58:32.553501Z"
    }
   }
  },
  {
   "cell_type": "markdown",
   "source": [
    "## Find if there is a correlation between the number of words in a comment and comment's classification, but only for positive sentiment\n",
    "Conclusion?"
   ],
   "metadata": {
    "collapsed": false
   }
  },
  {
   "cell_type": "code",
   "execution_count": null,
   "outputs": [],
   "source": [],
   "metadata": {
    "collapsed": false,
    "ExecuteTime": {
     "end_time": "2024-05-14T16:58:35.473943Z",
     "start_time": "2024-05-14T16:58:35.469838Z"
    }
   }
  },
  {
   "cell_type": "markdown",
   "source": [
    "## Find if there is a correlation between the number of stop words in a comment and comment's classification"
   ],
   "metadata": {
    "collapsed": false
   }
  },
  {
   "cell_type": "code",
   "execution_count": null,
   "outputs": [],
   "source": [],
   "metadata": {
    "collapsed": false,
    "ExecuteTime": {
     "end_time": "2024-05-14T16:58:37.661380Z",
     "start_time": "2024-05-14T16:58:37.650158Z"
    }
   }
  },
  {
   "cell_type": "markdown",
   "source": [
    "## Find if there is a correlation between the number of uper case words in a comment and comment's classification"
   ],
   "metadata": {
    "collapsed": false
   }
  },
  {
   "cell_type": "code",
   "execution_count": null,
   "outputs": [],
   "source": [],
   "metadata": {
    "collapsed": false,
    "ExecuteTime": {
     "end_time": "2024-05-14T16:58:39.470039Z",
     "start_time": "2024-05-14T16:58:39.455189Z"
    }
   }
  },
  {
   "cell_type": "markdown",
   "source": [
    "# load the twitter data on folder data/twitter\n",
    "\n",
    "Note,\n",
    " 1. The tweets have been annotated (0 = negative, 2 = neutral, 4 = positive) and they can be used to detect sentiment\n",
    "\n",
    "2. The columns are\n",
    "- target: the polarity of the tweet (0 = negative, 2 = neutral, 4 = positive)\n",
    "- ids: The id of the tweet ( 2087)\n",
    "- date: the date of the tweet (Sat May 16 23:58:44 UTC 2009)\n",
    "- flag: The query (lyx). If there is no query, then this value is NO_QUERY.\n",
    "- user: the user that tweeted (robotickilldozr)\n",
    "- text: the text of the tweet (Lyx is cool)"
   ],
   "metadata": {
    "collapsed": false
   }
  },
  {
   "cell_type": "code",
   "execution_count": null,
   "outputs": [],
   "source": [],
   "metadata": {
    "collapsed": false
   }
  },
  {
   "cell_type": "markdown",
   "source": [
    "# Randomly sample 1000 rows from the data (use `sample` method and `random_state=42`)\n",
    "\n"
   ],
   "metadata": {
    "collapsed": false
   }
  },
  {
   "cell_type": "code",
   "execution_count": null,
   "outputs": [],
   "source": [],
   "metadata": {
    "collapsed": false
   }
  },
  {
   "cell_type": "markdown",
   "source": [
    "# How many tweets are positive, negative and neutral?"
   ],
   "metadata": {
    "collapsed": false
   }
  },
  {
   "cell_type": "code",
   "execution_count": null,
   "outputs": [],
   "source": [],
   "metadata": {
    "collapsed": false
   }
  },
  {
   "cell_type": "markdown",
   "source": [
    "# Try the sentiment analysis model, prepared on notebook `08_a_text`, on this data. How does it perform?"
   ],
   "metadata": {
    "collapsed": false
   }
  },
  {
   "cell_type": "code",
   "execution_count": null,
   "outputs": [],
   "source": [],
   "metadata": {
    "collapsed": false
   }
  },
  {
   "cell_type": "markdown",
   "source": [
    "# Build a text sentiment model using the `text` column as input and `target` as output\n",
    "\n",
    "1. Start by cleaning the text (remove stop words, punctuation, etc.)\n",
    "2. Use BoW to generate features (test without and with the use of 2-grams and 3-grams)\n",
    "3. Use a classifier of your choice (Random Fores, Logistic Regression, etc.)\n",
    "4. Use cross validation to evaluate the model\n",
    "5. Do another sample of the data and see if the results are similar\n",
    "6. When your model seem tunned, train it on a larger part of the data and save it to disk."
   ],
   "metadata": {
    "collapsed": false
   }
  },
  {
   "cell_type": "code",
   "execution_count": null,
   "outputs": [],
   "source": [],
   "metadata": {
    "collapsed": false
   }
  }
 ],
 "metadata": {
  "kernelspec": {
   "display_name": "Python 3",
   "language": "python",
   "name": "python3"
  },
  "language_info": {
   "codemirror_mode": {
    "name": "ipython",
    "version": 2
   },
   "file_extension": ".py",
   "mimetype": "text/x-python",
   "name": "python",
   "nbconvert_exporter": "python",
   "pygments_lexer": "ipython2",
   "version": "2.7.6"
  }
 },
 "nbformat": 4,
 "nbformat_minor": 0
}
