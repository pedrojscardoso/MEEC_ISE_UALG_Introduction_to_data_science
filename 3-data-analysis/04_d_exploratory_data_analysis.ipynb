{
 "cells": [
  {
   "cell_type": "markdown",
   "id": "d5ca6781",
   "metadata": {},
   "source": [
    "_____\n",
    "\n",
    "<table align=\"left\" width=100%>\n",
    "    <td>\n",
    "        <div style=\"text-align: center;\">\n",
    "          <img src=\"./images/bar.png\" alt=\"entidades financiadoras\"/>\n",
    "        </div>\n",
    "    </td>\n",
    "    <td>\n",
    "        <p style=\"text-align: center; font-size:24px;\"><b>Introduction to Data Science</b></p>\n",
    "        <p style=\"text-align: center; font-size:18px;\"><b>Master in Electrical and Computer Engineering</b></p>\n",
    "        <p style=\"text-align: center; font-size:14px;\"><b>Pedro Cardoso (pcardoso@ualg.pt)</b></p>\n",
    "    </td>\n",
    "</table>\n",
    "\n",
    "_____\n",
    "\n",
    "\n",
    "__Short Lesson Title:__ Regular expressions\n",
    "\n",
    "*__Summary:__ This lesson delves into regular expressions, a powerful tool for string manipulation. It covers the basics of regex syntax, including character classes, metacharacters, anchors, flags, alternation, quantifiers, and grouping. The lesson also provides practical examples and exercises to reinforce understanding of regex concepts.__*"
   ]
  },
  {
   "cell_type": "markdown",
   "id": "90a4ef80721cd336",
   "metadata": {},
   "source": [
    "# Regular expression in a nutshell\n",
    "\n",
    "Regular expressions are a powerful tool for string manipulation. They are used to find, replace, and split strings. They are also used to extract information from strings. For example, we can extract the title of the passenger from the name feature (as we'll see later).\n",
    "\n",
    "So, a regular expression (regex) is a pattern used to match character combinations in strings. Here's a nutshell tutorial on regular expressions.\n",
    "\n",
    "## Matching characters\n",
    "\n",
    "You can match specific characters by simply including them in the pattern. For example, the pattern \"cat\" matches the characters \"c\", \"a\", and \"t\", i.e., the string \"cat\"."
   ]
  },
  {
   "cell_type": "code",
   "execution_count": null,
   "id": "dda47a6224d02781",
   "metadata": {},
   "outputs": [],
   "source": [
    "import re\n",
    "\n",
    "string = \"\"\"\"In a lab where wires snake and spin,\n",
    "A cat-5 naps lightly on a Z390 motherboard bin.\n",
    "Nearby a dog, with 2X zoom goggles tight,\n",
    "Barks at code through the midnight night.\n",
    "\n",
    "The screen glows RGB-blue,\n",
    "Neural nets hum with feline v1.3 pride.\n",
    "The data scientist sips her 250ml tea,\n",
    "Plotting 4D graphs with a purring decree.\n",
    "\n",
    "Ohm’s Law scribbled on the chalkboard — V=IR,\n",
    "While 8086 transistors buzz from afar.\n",
    "The engineer nods, adjusts gear 3,\n",
    "As binary barks echo in bitstream 101010 harmony.\"\"\"\n",
    "\n",
    "re.findall(r\"cat\", string)  # Find all occurrences of \"cat\""
   ]
  },
  {
   "cell_type": "markdown",
   "id": "a3df7ad902b832d2",
   "metadata": {},
   "source": [
    "we can also use the `re.finditer()` function to find all occurrences of a pattern in a string. This function returns an iterator yielding match objects for all non-overlapping matches of the pattern in the string. Each match object contains information about the match, such as its start and end positions in the string."
   ]
  },
  {
   "cell_type": "code",
   "execution_count": null,
   "id": "86d5a3697afd2bb",
   "metadata": {},
   "outputs": [],
   "source": [
    "def match_positions(pattern, string, flags=0):\n",
    "    for match in re.finditer(pattern, string, flags):\n",
    "        print(f\"Match: {match.group()}  Start: {match.start()}  End: {match.end()-1}\")\n",
    "\n",
    "match_positions(r\"cat\", string)"
   ]
  },
  {
   "cell_type": "markdown",
   "id": "f1b071957aba2001",
   "metadata": {},
   "source": [
    "\n",
    "## Character classes\n",
    "\n",
    "You can match a set of characters by using character classes. For example, the pattern `[cat]` matches any of the characters \"c\", \"a\", or \"t\". This means that the pattern will match any occurrence of any of these characters in the string."
   ]
  },
  {
   "cell_type": "code",
   "execution_count": null,
   "id": "2071ccf754563d61",
   "metadata": {},
   "outputs": [],
   "source": [
    "match_positions(r\"[cat]\", string)"
   ]
  },
  {
   "cell_type": "markdown",
   "id": "7bd1ecf4caa58fa4",
   "metadata": {},
   "source": [
    "\n",
    "## Metacharacters\n",
    "\n",
    "Certain characters have a special meaning in regex patterns. For example, the dot \".\" matches any character except a newline, and the asterisk \"*\" matches zero or more occurrences of the previous character. For example the patter \"c.t\" matches \"cat\", \"cot\", \"cut\", etc. and the pattern \"c.*t\" matches \"cat\", \"cot\", \"cut\", \"catt\", \"cxt\", etc.\n",
    "\n",
    "\n"
   ]
  },
  {
   "cell_type": "code",
   "execution_count": null,
   "id": "517dbc0e2d434f6c",
   "metadata": {},
   "outputs": [],
   "source": [
    "# greedy version -- matches as much as possible\n",
    "match_positions(r\"c.*t\", string)"
   ]
  },
  {
   "cell_type": "code",
   "execution_count": null,
   "id": "ab68f414c080117a",
   "metadata": {},
   "outputs": [],
   "source": [
    "# ungreedy version -- matches as little as possible - lazy\n",
    "match_positions(r\"c.*?t\", string)"
   ]
  },
  {
   "cell_type": "markdown",
   "id": "96a2b60ad7cd8541",
   "metadata": {},
   "source": [
    "## Anchors\n",
    "\n",
    "Anchors are used to match the position of a string. The caret `^` matches the start of a string, and the dollar sign `$` matches the end of a string. For example, the pattern `^cat` matches \"cat\" at the start of a string, and the pattern cat$ matches \"cat\" at the end of a string."
   ]
  },
  {
   "cell_type": "code",
   "execution_count": null,
   "id": "855faa0fa27a71e",
   "metadata": {},
   "outputs": [],
   "source": [
    "# Using the re.MULTILINE flag to match \"The\" at the start of each line\n",
    "match_positions(r\"^The\", string, re.MULTILINE)\n"
   ]
  },
  {
   "cell_type": "code",
   "execution_count": null,
   "id": "87bca41b1803d82b",
   "metadata": {},
   "outputs": [],
   "source": [
    "# (?m) inline flag to match \"The\" at the start of each line\n",
    "for match in re.finditer(r\"(?m)^The\", string):\n",
    "    print(f\"Match: {match.group()}  Start: {match.start()}  End: {match.end()}\")"
   ]
  },
  {
   "cell_type": "markdown",
   "id": "89dfea824b32769e",
   "metadata": {},
   "source": [
    "## Flags\n",
    "\n",
    "Depending on the flags used, the behavior of the regex engine can change.\n",
    "\n",
    "| Flag / Pattern     | Type / Name          | Description                                                       | Example Text                       | `re.findall()` Example                                        | Output                      |\n",
    "|--------------------|----------------------|-------------------------------------------------------------------|------------------------------------|----------------------------------------------------------------|-----------------------------|\n",
    "| `re.I`             | Ignore Case          | Match letters regardless of case                                  | \"Cat cAt\"                          | `re.findall(r\"cat\", \"Cat cAt\", re.I)`                          | `['Cat', 'cAt']`           |\n",
    "| `re.M`             | Multiline            | `^` and `$` match start/end of **lines**, not whole string        | \"cat\\nbat\"                         | `re.findall(r\"^cat\", \"cat\\nbat\", re.M)`                        | `['cat']`                  |\n",
    "| `re.S`             | Dot All              | `.` matches newline (`\\n`) too                                     | \"cat\\ndog\"                         | `re.findall(r\"cat.*dog\", \"cat\\ndog\", re.S)`                    | `['cat\\ndog']`             |\n",
    "| `re.X`             | Verbose (Extended)   | Allow whitespace and comments inside pattern                       | \"cat   dog\"                        | `re.findall(r\"cat \\s+ dog\", \"cat   dog\", re.X)`                | `['cat   dog']`            |\n",
    "| `re.U` or `re.UNICODE` | Unicode         | Unicode character support (default in Python 3)                   | \"café\"                             | `re.findall(r\"\\w+\", \"café\", re.U)`                             | `['café']`                 |\n",
    "| `(?i)`             | Inline Ignore Case   | Enables case-insensitive matching within the pattern               | \"Cat cAt\"                          | `re.findall(r\"(?i)cat\", \"Cat cAt\")`                            | `['Cat', 'cAt']`           |\n",
    "| `(?m)`             | Inline Multiline     | Enables multiline mode inside the pattern                          | \"cat\\nbat\"                         | `re.findall(r\"(?m)^cat\", \"cat\\nbat\")`                          | `['cat']`                  |\n",
    "| `(?s)`             | Inline Dot All       | Enables dot-all mode inside the pattern                            | \"cat\\ndog\"                         | `re.findall(r\"(?s)cat.*dog\", \"cat\\ndog\")`                      | `['cat\\ndog']`             |\n",
    "| `(?x)`             | Inline Verbose       | Enables verbose mode inside the pattern                            | \"cat   dog\"                        | `re.findall(r\"(?x)cat \\s+ dog\", \"cat   dog\")`                  | `['cat   dog']`            |\n",
    "| `a.*b`             | Greedy Pattern       | Matches from first `a` to **last** `b`                             | \"a123b456b\"                        | `re.findall(r\"a.*b\", \"a123b456b\")`                             | `['a123b456b']`            |\n",
    "| `a.*?b`            | Non-Greedy Pattern   | Matches from first `a` to **first** `b`                            | \"a123b456b\"                        | `re.findall(r\"a.*?b\", \"a123b456b\")`                            | `['a123b']`                |\n",
    "| `\".*\"`             | Greedy Quoted Text   | Matches everything between first `\"` and last `\"`                 | 'He said \"yes\" and \"no\"'           | `re.findall(r'\".*\"', 'He said \"yes\" and \"no\"')`                | `['\"yes\" and \"no\"']`       |\n",
    "| `\".*?\"`            | Lazy Quoted Text     | Matches everything between **each** pair of quotes                | 'He said \"yes\" and \"no\"'           | `re.findall(r'\".*?\"', 'He said \"yes\" and \"no\"')`               | `['\"yes\"', '\"no\"']`        |\n",
    "\n",
    "\n",
    "For example"
   ]
  },
  {
   "cell_type": "code",
   "execution_count": null,
   "id": "d43ff4887e406349",
   "metadata": {},
   "outputs": [],
   "source": [
    "# Using the re.I flag or the (?i) inline flag to match \"cat\" in different cases\n",
    "match_positions(r\"(?i)CAT\", string)"
   ]
  },
  {
   "cell_type": "code",
   "execution_count": null,
   "id": "5e0a35d77a949550",
   "metadata": {},
   "outputs": [],
   "source": [
    "match_positions(r\"CAT\", string, re.I)"
   ]
  },
  {
   "cell_type": "markdown",
   "id": "48e42eb533af04d8",
   "metadata": {},
   "source": [
    "\n",
    "## Alternation\n",
    "\n",
    "Alternation is used to match one of several possible patterns. For example, the pattern cat|dog matches either \"cat\" or \"dog\"."
   ]
  },
  {
   "cell_type": "code",
   "execution_count": null,
   "id": "91e9acd4036bac15",
   "metadata": {},
   "outputs": [],
   "source": [
    "match_positions(r\"cat|dog\", string)"
   ]
  },
  {
   "cell_type": "markdown",
   "id": "914b8ced7f5a576",
   "metadata": {},
   "source": [
    "## Quantifiers\n",
    "\n",
    "Quantifiers are used to specify how many times a character or group of characters should appear. For example, the pattern a{3} matches exactly three occurrences of the letter \"a\", and the pattern a{3,5} matches three to five occurrences of the letter \"a\"."
   ]
  },
  {
   "cell_type": "code",
   "execution_count": null,
   "id": "98e52c3f4f99861",
   "metadata": {},
   "outputs": [],
   "source": [
    "another_string = \"\"\"a b aa bb aaa bbb aaaa bbbb aaaaa bbbbb aaaaaa bbbbbb\"\"\"\n",
    "\n",
    "print(\"-\"*60)\n",
    "print(\"0         1         2         3         4         5\")\n",
    "print(\"0123456789012345678901234567890123456789012345678901234567890123456789\")\n",
    "print(another_string)\n",
    "print(\"-\"*60)\n",
    "\n",
    "match_positions(r\"a{3}\", another_string)"
   ]
  },
  {
   "cell_type": "code",
   "execution_count": null,
   "id": "daac5b51501afb66",
   "metadata": {},
   "outputs": [],
   "source": [
    "print(\"-\"*60)\n",
    "print(\"0         1         2         3         4         5\")\n",
    "print(\"0123456789012345678901234567890123456789012345678901234567890123456789\")\n",
    "print(another_string)\n",
    "print(\"-\"*60)\n",
    "\n",
    "match_positions(r\"a{3,5}\", another_string)"
   ]
  },
  {
   "cell_type": "markdown",
   "id": "c96b9f688e31b6dd",
   "metadata": {},
   "source": [
    "\n",
    "\n",
    "## Grouping\n",
    "\n",
    "Grouping is used to group parts of a pattern together. This is useful for applying quantifiers or alternation to a group of characters. For example, the pattern (ab)+ matches one or more occurrences of the string \"ab\".\n"
   ]
  },
  {
   "cell_type": "code",
   "execution_count": null,
   "id": "141d65acf3e62961",
   "metadata": {},
   "outputs": [],
   "source": [
    "another_string = \"ab abab ababab abababab ababababab\"\n",
    "\n",
    "print(\"-\"*60)\n",
    "print(\"0         1         2         3         \")\n",
    "print(\"0123456789012345678901234567890123456789\")\n",
    "print(another_string)\n",
    "print(\"-\"*60)\n",
    "\n",
    "match_positions(r\"(ab)+\", another_string)"
   ]
  },
  {
   "cell_type": "markdown",
   "id": "bcec7aeddf97ddbb",
   "metadata": {},
   "source": [
    "## Digit and Word Characters\n",
    "\n",
    "`\\d` is a metacharacter that represents any digit from 0 to 9. It is commonly used to match numbers in text, and it is equivalent to the character class `[0-9]`."
   ]
  },
  {
   "cell_type": "code",
   "execution_count": null,
   "id": "14fb1a1b2ed3fba3",
   "metadata": {},
   "outputs": [],
   "source": [
    "match_positions(r\"\\d\", string)"
   ]
  },
  {
   "cell_type": "code",
   "execution_count": null,
   "id": "d8065fd1097c3bef",
   "metadata": {},
   "outputs": [],
   "source": [
    "match_positions(r\"\\d{3,6}\", string)"
   ]
  },
  {
   "cell_type": "code",
   "execution_count": null,
   "id": "7dc50e4bce6a144",
   "metadata": {},
   "outputs": [],
   "source": [
    "match_positions(r\"[0-9]{3,6}\", string)"
   ]
  },
  {
   "cell_type": "markdown",
   "id": "5e2bc7d2a23a43c4",
   "metadata": {},
   "source": [
    "`[a-z]` is a character class that matches any lowercase letter from \"a\" to \"z\". It represents a range of characters between \"a\" and \"z\" inclusive. For example, the pattern `c[a-z]t` matches any three-letter word that starts with \"c\" and ends with \"t\", where the middle letter can be any lowercase letter. This would match words such as \"cat\", \"cet\", \"cxt\", and so on.\n"
   ]
  },
  {
   "cell_type": "code",
   "execution_count": null,
   "id": "c8d05a6e0e103718",
   "metadata": {},
   "outputs": [],
   "source": [
    "match_positions(r\"c[a-z]t\", string)"
   ]
  },
  {
   "cell_type": "code",
   "execution_count": null,
   "id": "7f1fe93880cfa49d",
   "metadata": {},
   "outputs": [],
   "source": [
    "# The pattern c[a-z]+t matches any word that starts with \"c\", ends with \"t\", and has one or more lowercase letters in between. This would match words such as \"cat\", \"coat\", \"cxt\", and so on.\n",
    "match_positions(r\"c[a-z]+t\", string)"
   ]
  },
  {
   "cell_type": "markdown",
   "id": "91a7998d634e8c77",
   "metadata": {},
   "source": [
    "So:\n",
    "\n",
    "- The pattern [a-z]+ matches one or more consecutive lowercase letters\n",
    "- The pattern [a-z]{3} matches exactly three consecutive lowercase letters\n",
    "- The pattern ^[a-z]+$ matches a string that consists entirely of lowercase letters\n",
    "- You can also use other character classes in regular expressions to match other types of characters, such as uppercase letters ([A-Z]), digits (\\d), whitespace (\\s), or non-word characters (\\W).\n",
    "\n",
    "See https://docs.python.org/3/library/re.html for more information on the Python regular expression module. See also (Campesato, 2018).\n",
    "\n",
    "Test your regular expressions using https://regex101.com/"
   ]
  },
  {
   "cell_type": "markdown",
   "id": "f48d830cfc262344",
   "metadata": {},
   "source": [
    "# References\n",
    "\n",
    "- Campesato, O. (2018). Regular expressions: Pocket primer. Mercury Learning and Information."
   ]
  },
  {
   "cell_type": "code",
   "execution_count": null,
   "id": "4d14b46ef2b7019a",
   "metadata": {},
   "outputs": [],
   "source": []
  }
 ],
 "metadata": {
  "kernelspec": {
   "display_name": "ML_IDC_metal",
   "language": "python",
   "name": "python3"
  },
  "language_info": {
   "codemirror_mode": {
    "name": "ipython",
    "version": 3
   },
   "file_extension": ".py",
   "mimetype": "text/x-python",
   "name": "python",
   "nbconvert_exporter": "python",
   "pygments_lexer": "ipython3",
   "version": "3.12.9"
  }
 },
 "nbformat": 4,
 "nbformat_minor": 5
}
