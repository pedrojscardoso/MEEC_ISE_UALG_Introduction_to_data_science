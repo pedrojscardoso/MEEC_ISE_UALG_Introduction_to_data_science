{
 "cells": [
  {
   "metadata": {},
   "cell_type": "markdown",
   "source": [
    "_____\n",
    "\n",
    "<table align=\"left\" width=100%>\n",
    "    <td>\n",
    "        <div style=\"text-align: center;\">\n",
    "          <img src=\"./images/bar.png\" alt=\"entidades financiadoras\"/>\n",
    "        </div>\n",
    "    </td>\n",
    "    <td>\n",
    "        <p style=\"text-align: center; font-size:24px;\"><b>Introduction to Data Science</b></p>\n",
    "        <p style=\"text-align: center; font-size:18px;\"><b>Master in Electrical and Computer Engineering</b></p>\n",
    "        <p style=\"text-align: center; font-size:14px;\"><b>Pedro Cardoso (pcardoso@ualg.pt)</b></p>\n",
    "    </td>\n",
    "</table>\n",
    "\n",
    "_____"
   ]
  },
  {
   "cell_type": "markdown",
   "metadata": {},
   "source": [
    "# Exploratory Data Analysis with Pandas (part 1)\n",
    "Now that we have the fundamental knowledge about Python and in particular Pandas we can start to do some exploratory data analysis (EDA). EDA is the first step in the data science process and it is very important to understand the data that we are working with. EDA is used by data scientists to understand the data, to identify patterns, to spot anomalies, to test hypothesis and to check assumptions with the help of summary statistics and graphical representations.\n",
    "\n",
    "\n",
    "In this notebook, we will see how to load data, and do an initial exploration of the data over the titanic dataset.  In 1912, during its maiden voyage, the widely considered \"unsinkable\" RMS Titanic sank after colliding with an iceberg. Unfortunately, there weren’t enough lifeboats for everyone onboard, resulting in the death of 1502 out of 2224 passengers and crew.\n",
    "With this analysis, we will be able to answer some questions like:\n",
    "- What is the distribution of the passengers by age?\n",
    "- Who were the passengers in the Titanic?\n",
    "- What deck were the passengers on and how does that relate to their class?\n",
    "- Where did the passengers come from?\n",
    "- Who was alone and who was with family?\n",
    "- What factors helped someone survive the sinking?\n",
    "- Did the deck have an effect on the passengers survival rate?\n",
    "- Did having a family member increase the odds of surviving the crash?\n",
    "- etc. "
   ]
  },
  {
   "cell_type": "markdown",
   "metadata": {},
   "source": [
    "## Load the data \n",
    "Let's start with the Titanic data set. This is a very famous data set that is used to demonstrate data analysis and machine learning. It is a very small data set, but it is a good place to start. The data set is available, e.g., on Kaggle (https://www.kaggle.com/datasets/vinicius150987/titanic3)"
   ]
  },
  {
   "cell_type": "code",
   "execution_count": null,
   "metadata": {
    "collapsed": false
   },
   "outputs": [],
   "source": [
    "# if necessary upgrade your versiosn of pandas, jinja2 and pandas_bokeh\n",
    "# due to some issues, it is necessary to install the version 2.4.3 of bokeh\n",
    "#!pip install --upgrade pandas\n",
    "#!pip install --upgrade jinja2\n",
    "#!pip install bokeh==2.4.3\n",
    "#!pip install pandas_bokeh\n",
    "#!pip install seaborn\n",
    "#!pip install xlrd"
   ]
  },
  {
   "cell_type": "code",
   "execution_count": null,
   "metadata": {},
   "outputs": [],
   "source": [
    "# load necessary libraries\n",
    "import pandas as pd\n",
    "import numpy as np\n",
    "import matplotlib.pyplot as plt\n",
    "import seaborn as sns\n",
    "\n",
    "# pandas bokeh is a wrapper around the bokeh library that allows to plot pandas dataframes and series\n",
    "import pandas_bokeh\n",
    "pandas_bokeh.output_notebook()"
   ]
  },
  {
   "cell_type": "code",
   "execution_count": null,
   "metadata": {},
   "outputs": [],
   "source": []
  },
  {
   "cell_type": "code",
   "execution_count": null,
   "metadata": {},
   "outputs": [],
   "source": [
    "df = pd.read_excel('./data/titanic/Titanic.xls')\n",
    "df.head(10)"
   ]
  },
  {
   "cell_type": "markdown",
   "metadata": {},
   "source": [
    "Our data set has 1309 rows and 14 columns. Let's see what the columns and their data types are."
   ]
  },
  {
   "cell_type": "code",
   "execution_count": null,
   "metadata": {},
   "outputs": [],
   "source": [
    "df.info()"
   ]
  },
  {
   "cell_type": "markdown",
   "metadata": {},
   "source": [
    "The columns are:\n",
    "- pclass: Passenger class (1 = 1st; 2 = 2nd; 3 = 3rd)\n",
    "- survived: Survival (0 = No; 1 = Yes)\n",
    "- name: Name\n",
    "- sex: Sex  (male = Male; female = Female)\n",
    "- age: Age  (in years)\n",
    "- sibsp: Number of siblings/spouses aboard. The dataset defines family relations in this way:\n",
    "    - Sibling = brother, sister, stepbrother, stepsister\n",
    "    - Spouse = husband, wife (mistresses and fiancés were ignored)\n",
    "- parch: Number of Parents/Children Aboard. The dataset defines family relations in this way:\n",
    "    - Parent = mother, father\n",
    "    - Child = daughter, son, stepdaughter, stepson\n",
    "    Some children travelled only with a nanny, therefore parch=0 for them.\n",
    "- ticket: Ticket Number\n",
    "- fare: Passenger Fare\n",
    "- cabin: Cabin Number\n",
    "- embarked: Port of Embarkation (C = Cherbourg; Q = Queenstown; S = Southampton)\n",
    "- boat: Lifeboat Number\n",
    "- body: Body Number (if did not survive and body was recovered)\n",
    "- home.dest: Home/Destination"
   ]
  },
  {
   "cell_type": "markdown",
   "metadata": {},
   "source": [
    "We can see that there are missing values in the age and body columns. This is also visible running the describe method. The include='all' argument allows to see the summary of the non-numerical columns.\n",
    " \n",
    "For the numerical columns, the summary includes:\n",
    "- count - number of non-missing values\n",
    "- mean - mean of the values\n",
    "- std - standard deviation of the values\n",
    "- min - minimum value\n",
    "- 25% - 25th percentile\n",
    "- 50% - 50th percentile (median)\n",
    "- 75% - 75th percentile\n",
    "- max - maximum value\n",
    "\n",
    "For the non-numerical columns, the summary includes:\n",
    "- count - number of non-missing values\n",
    "- unique - number of unique values\n",
    "- top - most frequent value\n",
    "- freq - frequency of the most frequent value\n"
   ]
  },
  {
   "cell_type": "code",
   "execution_count": null,
   "metadata": {},
   "outputs": [],
   "source": [
    "df.describe(include='all')"
   ]
  },
  {
   "cell_type": "markdown",
   "metadata": {},
   "source": [
    "Let us, for example, add a new column to the data frame with the family size. This is the sum of the number of siblings/spouses and the number of parents/children, plus 1 for the passenger itself."
   ]
  },
  {
   "cell_type": "code",
   "execution_count": null,
   "metadata": {},
   "outputs": [],
   "source": [
    "df['family_size'] = df['sibsp'] + df['parch'] + 1\n",
    "df"
   ]
  },
  {
   "cell_type": "markdown",
   "metadata": {},
   "source": [
    "## Plotting the data (a first look)\n",
    "We can plot the **histogram** of the numerical columns to see how the data is distributed. (https://pandas.pydata.org/docs/reference/api/pandas.DataFrame.hist.html)\n",
    "\n",
    "The histogram is a graphical representation of the distribution of the data. It is a type of bar plot that shows the frequency of the data values. The data values are divided into bins, and the number of data values in each bin is plotted. The histogram is useful to see the shape of the data distribution, to identify outliers, and to identify the central tendency of the data.\n",
    "\n",
    "A bin is computed by dividing the range of the data into a number of equal-width intervals. Then the number of data values that fall into each interval is counted. \n",
    "\n",
    "The number of bins is a parameter of the histogram. The number of bins can be set to a specific value (in the example it is 15, and pandas sets the number of bins to 10 by default) or it can be computed using the:\n",
    " - Freedman-Diaconis rule\n",
    "$$ \\text{bins width} = 2 \\times \\frac{\\text{IQR}(x)}{\\sqrt[3]{n}}$$\n",
    "$$ \\text{bins} = \\text{ceil}\\left(\\frac{\\max(x) - \\min(x)}{\\text{bins width}}\\right)$$\n",
    " where $n$ is the number of values and $\\text{IQR}(x) = Q_3(x) - Q_1(x)$ is the interquartile range of the variable $x$. \n",
    "\n",
    " - the Scott's rule\n",
    "$$ \\text{bins width} = \\frac{3.5 \\times \\text{std}(x)}{\\sqrt[3]{n}}$$\n",
    "$$ \\text{bins} = \\text{ceil}\\left(\\frac{\\max(x) - \\min(x)}{\\text{bins width}}\\right)$$\n",
    "\n",
    " - the Sturges' rule\n",
    "    $$ \\text{bins} = \\log_2(n) + 1$$"
   ]
  },
  {
   "cell_type": "code",
   "execution_count": null,
   "metadata": {},
   "outputs": [],
   "source": [
    "# plot histograms of the numerical columns\n",
    "_ = df.hist(figsize=(15, 10), \n",
    "            bins=15, \n",
    "            color='orange',\n",
    "            edgecolor='red',\n",
    "            alpha=0.5,\n",
    "            linewidth=1.0,\n",
    "            xlabelsize=10,\n",
    "            ylabelsize=10,\n",
    "            grid=False,\n",
    "            layout=(2, 4))\n"
   ]
  },
  {
   "cell_type": "markdown",
   "metadata": {},
   "source": [
    "<span style=\"color:red\"> - what conclusion can you draw from the histogram of the age column? </span>\n",
    "\n",
    "<span style=\"color:red\"> - what conclusion can you draw from the histogram of the fare column? </span>."
   ]
  },
  {
   "cell_type": "markdown",
   "metadata": {},
   "source": [
    "It is also useful to plot the bar charts of the categorical columns. We can do this using the value_counts() method from Pandas to get the count of unique values in each column and then plot the bar charts. (https://pandas.pydata.org/docs/reference/api/pandas.DataFrame.plot.bar.html)"
   ]
  },
  {
   "cell_type": "code",
   "execution_count": null,
   "metadata": {},
   "outputs": [],
   "source": [
    "# get the categorical columns\n",
    "cat_cols = df.select_dtypes(include=['object']).columns\n",
    "\n",
    "# plot the bar charts of the categorical columns\n",
    "for col in cat_cols:\n",
    "    df_temp = df[col].value_counts()\n",
    "    # plot only the dataframes with less than 30 unique values - this will remove, e.g., the name, ticket and cabin column\n",
    "    if df_temp.size < 30:\n",
    "        df_temp.plot(kind='bar', title=col, figsize=(20, 5))\n",
    "        plt.show()"
   ]
  },
  {
   "cell_type": "markdown",
   "metadata": {},
   "source": [
    "<span style=\"color:red\"> - what conclusion can you draw from the bar charts? </span>"
   ]
  },
  {
   "cell_type": "markdown",
   "metadata": {
    "collapsed": false
   },
   "source": [
    "## Exercises\n",
    "\n",
    "Go to the [./Exercises/04_exercise_adult_part_1.ipynb](./Exercises/04_exercise_adult_part_1.ipynb) notebook and answer the questions of the first section of the notebook.\n"
   ]
  },
  {
   "cell_type": "markdown",
   "metadata": {},
   "source": [
    "## Pivot tables and group by methods\n",
    "\n",
    "Pivot tables and group by methods are a very useful tool to summarize data.\n",
    "### Pivot table\n",
    "The pivot table method allows to summarize data by grouping the data by one or more columns and applying an aggregation function to the other columns. The pivot_table method is very similar to the groupby method. Its arguments include:\n",
    "- index: column(s) to group by on the rows\n",
    "- columns: column(s) to group by on the columns\n",
    "- values: column(s) to apply the aggregation function on\n",
    "- aggfunc: aggregation function to apply. Default is mean if values is a numerical column and count if values is a categorical column. Other possible values are sum, min, max, std, var, median, first, last, nunique, and size.\n",
    "- fill_value: value to replace missing values, default is 0. If you want to keep the missing values, you can use np.nan.\n",
    "- margins: add row/column subtotals and grand total (default is False)\n",
    "- margins_name: name of the row/column subtotals and grand total (default is 'All')\n",
    "- dropna: do not include columns whose entries are all NaN (default is True)"
   ]
  },
  {
   "cell_type": "markdown",
   "metadata": {},
   "source": [
    "For example, if you want to summarize the number of survived passengers into a pivot table with sex and pclass as the index and columns, respectvely, you can do the call below. In this case, the aggfunc is sum as we want to count the number of survived passengers and survived is a boolean column, where 1 survived and 0 did not survive."
   ]
  },
  {
   "cell_type": "code",
   "execution_count": null,
   "metadata": {},
   "outputs": [],
   "source": [
    "pt = df.pivot_table(index='sex', \n",
    "                    values='survived', \n",
    "                    columns='pclass', \n",
    "                    aggfunc='sum', \n",
    "                    margins=True, \n",
    "                    margins_name='Total')\n",
    "pt"
   ]
  },
  {
   "cell_type": "markdown",
   "metadata": {},
   "source": [
    "<span style=\"color:red\"> What was the total number of passengers that survived? </span>\n",
    "\n",
    "<span style=\"color:red\"> How many passerenger from class 1 survived? </span>\n",
    "\n",
    "<span style=\"color:red\"> How many female passengers survived? </span>\n",
    "\n",
    "<span style=\"color:red\"> Who did survive more: females or males? </span>"
   ]
  },
  {
   "cell_type": "markdown",
   "metadata": {},
   "source": [
    "To present the pivot table with percentages we can divide it by the total number of passengers that survived."
   ]
  },
  {
   "cell_type": "code",
   "execution_count": null,
   "metadata": {},
   "outputs": [],
   "source": [
    "number_of_survived = sum(df['survived'])\n",
    "pt / number_of_survived * 100"
   ]
  },
  {
   "cell_type": "markdown",
   "metadata": {},
   "source": [
    "<span style=\"color:red\"> In a similar manner, how can you summarize the passengers that did not survive? </span>"
   ]
  },
  {
   "cell_type": "code",
   "execution_count": null,
   "metadata": {},
   "outputs": [],
   "source": [
    "pt_all = df.pivot_table(index='sex', \n",
    "                        columns='pclass', \n",
    "                        values='survived', \n",
    "                        aggfunc='count', \n",
    "                        margins=True,  \n",
    "                        margins_name='Total'\n",
    "                       )\n",
    "pt_all"
   ]
  },
  {
   "cell_type": "code",
   "execution_count": null,
   "metadata": {},
   "outputs": [],
   "source": [
    "pt_dead =  pt_all - pt\n",
    "pt_dead"
   ]
  },
  {
   "cell_type": "markdown",
   "metadata": {
    "collapsed": false
   },
   "source": [
    "As an alternative, we can add a column to the data frame with the number of passengers that did not survive and then use the pivot table method to summarize the data."
   ]
  },
  {
   "cell_type": "code",
   "execution_count": null,
   "metadata": {},
   "outputs": [],
   "source": [
    "df['dead'] = 1 - df['survived']"
   ]
  },
  {
   "cell_type": "markdown",
   "metadata": {},
   "source": [
    "The pivot table can be plotted using a bar plot showing the number of survived passerger by gender a passenger class. The drop method is used to drop the Total row and column from the pivot table.\n",
    "\n",
    "Besides, we are also using __pandas Bokeh__ to plot the pivot table. This is a wrapper around the bokeh library that allows to plot pandas dataframes and series. The plot method has approximatly the same arguments as the pivot_table method. The plot method returns a bokeh figure object that can be used to customize the plot. For example, we can change the title of the plot and the labels of the axes."
   ]
  },
  {
   "cell_type": "code",
   "execution_count": null,
   "metadata": {},
   "outputs": [],
   "source": [
    "_ = pt.\\\n",
    "    drop('Total', axis=1).\\\n",
    "    drop('Total', axis=0).\\\n",
    "    plot_bokeh(kind='bar', title='Survived passengers per gender and class')"
   ]
  },
  {
   "cell_type": "markdown",
   "metadata": {},
   "source": [
    "The stacked bar plot is useful to more easily see the proportion of survived passengers within each gender and passenger class."
   ]
  },
  {
   "cell_type": "code",
   "execution_count": null,
   "metadata": {},
   "outputs": [],
   "source": [
    "# pt.drop('Total', axis=1).drop('Total', axis=0).plot(kind='bar', stacked=True)\n",
    "_ = pt.\\\n",
    "    drop('Total', axis=1).\\\n",
    "    drop('Total', axis=0).\\\n",
    "    plot_bokeh(kind='bar', stacked=True, title='Survived passengers per gender and class')\n"
   ]
  },
  {
   "cell_type": "markdown",
   "metadata": {},
   "source": [
    "The transpose of the pivot table allows for a different visualization (note the \".T\"). Now, each bar is associated to the class."
   ]
  },
  {
   "cell_type": "code",
   "execution_count": null,
   "metadata": {},
   "outputs": [],
   "source": [
    "pt.T"
   ]
  },
  {
   "cell_type": "markdown",
   "metadata": {},
   "source": [
    "And the corresponding bar plot is:"
   ]
  },
  {
   "cell_type": "code",
   "execution_count": null,
   "metadata": {},
   "outputs": [],
   "source": [
    "# pt.drop('Total', axis=1).drop('Total', axis=0).T.plot(kind='bar', stacked=True)\n",
    "_ = pt.T.\\\n",
    "    drop('Total', axis=1).\\\n",
    "    drop('Total', axis=0).\\\n",
    "    plot_bokeh(kind='bar', stacked=True)"
   ]
  },
  {
   "cell_type": "markdown",
   "metadata": {},
   "source": [
    "Another interesting graph are pie plots."
   ]
  },
  {
   "cell_type": "code",
   "execution_count": null,
   "metadata": {},
   "outputs": [],
   "source": [
    "#pt.drop('Total', axis=1).drop('Total', axis=0).plot(kind='pie', subplots=True, figsize=(15, 10), autopct='%1.1f%%')\n",
    "_ = pt\\\n",
    "    .drop('Total', axis=1)\\\n",
    "    .drop('Total', axis=0)\\\n",
    "    .plot_bokeh(kind='pie')"
   ]
  },
  {
   "cell_type": "code",
   "execution_count": null,
   "metadata": {},
   "outputs": [],
   "source": [
    "_ = pt.T\\\n",
    "    .drop('Total', axis=1)\\\n",
    "    .drop('Total', axis=0)\\\n",
    "    .plot_bokeh(kind='pie')"
   ]
  },
  {
   "cell_type": "markdown",
   "metadata": {},
   "source": [
    "<span style=\"color:red\"> In which class did a greater proportion of males survive compared to females? </span>"
   ]
  },
  {
   "cell_type": "markdown",
   "metadata": {},
   "source": [
    "We can make a pivot table with multiple values. For example, we can make a pivot table indexing the values of survived and sex, and columns by pclass and values by ticket (we will be just couting the ticket and, remember, the tickets' column has no missing values)."
   ]
  },
  {
   "cell_type": "code",
   "execution_count": null,
   "metadata": {},
   "outputs": [],
   "source": [
    "pt_multi = df.pivot_table(index=['survived','sex'], \n",
    "                          values='ticket', \n",
    "                          columns='pclass', \n",
    "                          aggfunc='count', \n",
    "                          margins=True, margins_name='Total')\n",
    "pt_multi"
   ]
  },
  {
   "cell_type": "markdown",
   "metadata": {},
   "source": [
    "<span style=\"color:red\"> how many passenger were in class 1?</span>\n",
    "<span style=\"color:red\"> how many females passengers did not survive? And how many males?</span>\n",
    "<span style=\"color:red\"> how many females passengers from class 1 did not survive? And how many males?</span>"
   ]
  },
  {
   "cell_type": "markdown",
   "metadata": {},
   "source": [
    "And the pie plot is given by"
   ]
  },
  {
   "cell_type": "code",
   "execution_count": null,
   "metadata": {},
   "outputs": [],
   "source": [
    "_ = pt_multi.\\\n",
    "    drop('Total', axis=1).\\\n",
    "    drop('Total', axis=0).\\\n",
    "    plot_bokeh(kind='pie', stacked=True)"
   ]
  },
  {
   "cell_type": "markdown",
   "metadata": {},
   "source": [
    "<span style=\"color:red\"> What is represented by the largest orange \"arch\"?</span>"
   ]
  },
  {
   "cell_type": "markdown",
   "metadata": {},
   "source": [
    "### Group by method\n",
    "\n",
    "The group by method is another way to summarize data. It is more flexible than the pivot table method, but it is more difficult to use. The groupby method is used to split the data into groups based on one or more columns and then apply an aggregation function to each group. The groupby method returns a SeriesGroupBy object. This object can be used to apply an aggregation function to each group. The aggregation function can be applied to all the columns or to a specific column. Some arguments arguments are:\n",
    "- by: column(s) to group by\n",
    "- axis: axis to group by (default is 0)\n",
    "- as_index: group by as index (default is True)\n",
    "- sort: sort group keys (default is True)\n",
    "- observed: only show observed values for categorical groupers (default is False)\n",
    "\n",
    "For example, grouping by passengers class and gender and summing the survived column gives a similar result as the pivot table above."
   ]
  },
  {
   "cell_type": "code",
   "execution_count": null,
   "metadata": {},
   "outputs": [],
   "source": [
    "grp = df[['sex', 'pclass', 'survived']].groupby(['sex', 'pclass']).sum()\n",
    "grp"
   ]
  },
  {
   "cell_type": "markdown",
   "metadata": {},
   "source": [
    "To get the same result as the pivot table, we can unstack the SeriesGroupBy object."
   ]
  },
  {
   "cell_type": "code",
   "execution_count": null,
   "metadata": {},
   "outputs": [],
   "source": [
    "grp = grp.unstack()\n",
    "grp"
   ]
  },
  {
   "cell_type": "markdown",
   "metadata": {},
   "source": [
    "The second example shown above can also be done using groupby and unstack."
   ]
  },
  {
   "cell_type": "code",
   "execution_count": null,
   "metadata": {},
   "outputs": [],
   "source": [
    "df[['survived', 'sex', 'pclass', 'ticket']]\\\n",
    "    .groupby(['survived', 'sex', 'pclass'])\\\n",
    "    .count()"
   ]
  },
  {
   "cell_type": "code",
   "execution_count": null,
   "metadata": {
    "collapsed": false
   },
   "outputs": [],
   "source": [
    "df[['survived', 'sex', 'pclass', 'ticket']]\\\n",
    "    .groupby(['survived', 'sex', 'pclass'])\\\n",
    "    .count()\\\n",
    "    .unstack()"
   ]
  },
  {
   "cell_type": "code",
   "execution_count": null,
   "metadata": {
    "collapsed": false
   },
   "outputs": [],
   "source": [
    "df[['survived', 'sex', 'pclass', 'ticket']] \\\n",
    "    .groupby(['survived', 'sex', 'pclass']) \\\n",
    "    .count() \\\n",
    "    .unstack()\\\n",
    "    .unstack()"
   ]
  },
  {
   "cell_type": "markdown",
   "metadata": {},
   "source": [
    "### Questions\n",
    "\n",
    "<span style=\"color:red\"> Find the minimum/maximum fare paid by each passenger class and gender.</span>"
   ]
  },
  {
   "cell_type": "code",
   "execution_count": null,
   "metadata": {},
   "outputs": [],
   "source": [
    "df.pivot_table(index=['pclass', 'sex'], values='fare', aggfunc=['min', 'max'])"
   ]
  },
  {
   "cell_type": "markdown",
   "metadata": {},
   "source": [
    "<span style=\"color:red\"> Find the minimum/maximum fare paid by each adult (age>18) passenger by class and gender.</span>"
   ]
  },
  {
   "cell_type": "code",
   "execution_count": null,
   "metadata": {
    "collapsed": false
   },
   "outputs": [],
   "source": [
    "query = (df['age'] >= 18)\n",
    "df[query].pivot_table(index=['pclass', 'sex'], values='fare', aggfunc=['min', 'max'])"
   ]
  },
  {
   "cell_type": "markdown",
   "metadata": {},
   "source": [
    "<span style=\"color:red\"> Add a row to the index of the previous pivot table dividing the results in adult and juvenile.</span>"
   ]
  },
  {
   "cell_type": "code",
   "execution_count": null,
   "metadata": {},
   "outputs": [],
   "source": [
    "df_with_age_group = df.copy()\n",
    "df_with_age_group['age_group'] = df['age'].apply(lambda x: 'adult' if x >= 18 else 'juvenile')\n",
    "df_with_age_group.pivot_table(index=['age_group','pclass', 'sex'], values='fare', aggfunc=['min', 'max'])"
   ]
  },
  {
   "cell_type": "markdown",
   "metadata": {
    "collapsed": false
   },
   "source": [
    "### Exercises\n",
    "\n",
    "Go to the [./Exercises/04_exercise_adult_part_1.ipynb](./Exercises/04_exercise_adult_part_1.ipynb) notebook and answer the questions of the \"Group and pivot tables\" section."
   ]
  },
  {
   "cell_type": "markdown",
   "metadata": {},
   "source": [
    "## Statistical analysis\n",
    "\n",
    "Exploratory data analysis (EDA) is not only about visualizing the data, but also about understanding the data. This is done by performing statistical analysis on it.\n",
    "\n",
    "### Types of variables\n",
    "\n",
    "Data types are fundamental concepts in statistical  analysis, being divided into the following main categories:\n",
    "- **Nominal attributes** refer to variables that are categorized by names or labels. These variables have categorical, qualitative, and unordered values, such as brand names, product names, zip codes, gender, or marital status. The value of a nominal attribute can be represented by the symbol or name of an item. It is not meaningful to calculate the mean or median values for nominal attributes, but data analysts can calculate the mode, which is the value that appears most frequently.\n",
    "\n",
    "- **Ordinal attributes** are variables that have names or labels with a meaningful order or ranking, but their exact magnitude is unknown. These attributes measure subjective qualities, which make them ideal for surveys that collect information on customer satisfaction, product ratings, and movie reviews. For example, customer satisfaction ratings may range from very dissatisfied to very satisfied, or the size of a drink may be classified as small, medium, or large. The median and mode are the only measures of central tendency that should  be used for ordinal attributes, as the mean cannot be calculated due to their qualitative nature.\n",
    "\n",
    "- **Numeric attributes** are variables that are quantitatively represented as either integer or real values. For example, the number of children in a family is a numeric attribute. The mean, median, and mode are all appropriate measures of central tendency for numeric attributes.\n",
    "\n",
    "#### Discrete and continuous variables\n",
    "\n",
    "Variables can be divided into two main categories:\n",
    "- **discrete variables** are variables that can take on only a finite number of values. For example, the number of children in a family is a discrete variable, as it can only take on the values 0, 1, 2, 3, etc.\n",
    "- **continuous variables** are variables that can take on an infinite number of values. For example, the height of a person is a continuous variable, as it can take on any value between 0 and ? meters.\n"
   ]
  },
  {
   "cell_type": "markdown",
   "metadata": {},
   "source": [
    "### Measures of central tendency\n",
    "#### Mean\n",
    "The mean is the most common measure of central tendency. It is the sum of all values divided by the number of values. The mean is a good measure of central tendency for continuous variables. However, it is not a good measure of central tendency for discrete variables, as it is sensitive to outliers. The mean is calculated using the following formula:\n",
    "$$\\bar{x} = \\frac{1}{n}\\sum_{i=1}^{n}x_i$$\n",
    "where $x_i$ is the $i$-th value of the variable and $n$ is the number of values.\n",
    "\n",
    "For examples the mean of the age of the passengers is given by"
   ]
  },
  {
   "cell_type": "code",
   "execution_count": null,
   "metadata": {},
   "outputs": [],
   "source": [
    "df['age'].mean()"
   ]
  },
  {
   "cell_type": "markdown",
   "metadata": {},
   "source": [
    "\n",
    "#### Median\n",
    "The median is the middle value of a sorted list of values. If the number of values is even, the median is the average of the two middle values. The median is a good measure of central tendency for both discrete and continuous variables. The median is calculated using the following formula:\n",
    "$$\\text{median} = \\begin{cases} \\frac{x_{\\frac{n}{2}} + x_{\\frac{n+1}{2}}}{2} & \\text{if } n \\text{ is even} \\\\ x_{\\frac{n+1}{2}} & \\text{if } n \\text{ is odd} \\end{cases}$$\n",
    "where $x_i$ is the $i$-th value of the variable and $n$ is the number of values.\n",
    "\n",
    "For example, the median of the age of the passengers is given by"
   ]
  },
  {
   "cell_type": "code",
   "execution_count": null,
   "metadata": {},
   "outputs": [],
   "source": [
    "df['age'].median()"
   ]
  },
  {
   "cell_type": "markdown",
   "metadata": {},
   "source": [
    "Along with the median it is usual to define the percentile of a variable. The $p$-th percentile of a variable is the value $x_p$ such that $p$% of the values are less than or equal to $x_p$. For example, the 25th percentile of the age of the passengers is given by the value such that 25% of the values are less than or equal to it.\n",
    "\n",
    "To get the 25th percentile of the age of the passengers we can use `quantile` method with the parameter q=0.25."
   ]
  },
  {
   "cell_type": "code",
   "execution_count": null,
   "metadata": {},
   "outputs": [],
   "source": [
    "Q1 = df['age'].quantile(q=0.25)\n",
    "print(f\"25% of the passengers are younger than {Q1} years old.\")"
   ]
  },
  {
   "cell_type": "markdown",
   "metadata": {},
   "source": [
    "#### Mode\n",
    "The mode is the value that appears most frequently in a list of values. The mode is a good measure of central tendency for nominal variables.\n",
    "\n",
    "For example, the mode of the embarked column is given by"
   ]
  },
  {
   "cell_type": "code",
   "execution_count": null,
   "metadata": {},
   "outputs": [],
   "source": [
    "df['embarked'].mode()"
   ]
  },
  {
   "cell_type": "markdown",
   "metadata": {},
   "source": [
    "The `value_counts` method can be used to count the number of times each value appears in a column and check if the mode is correct."
   ]
  },
  {
   "cell_type": "code",
   "execution_count": null,
   "metadata": {},
   "outputs": [],
   "source": [
    "df['embarked'].value_counts()"
   ]
  },
  {
   "cell_type": "markdown",
   "metadata": {
    "collapsed": false
   },
   "source": [
    "#### Exercises\n",
    "\n",
    "Go to the [./Exercises/04_exercise_adult_part_1.ipynb](./Exercises/04_exercise_adult_part_1.ipynb) notebook and answer the questions of the \"Central tendency measures\" section."
   ]
  },
  {
   "cell_type": "markdown",
   "metadata": {},
   "source": [
    "### Measures of dispersion\n",
    "\n",
    "#### Range\n",
    "The range is the difference between the maximum and minimum values of a variable. The range is a good measure of dispersion for discrete variables. However, it is not a good measure of dispersion for continuous variables, as it is sensitive to outliers. The range is calculated using the following formula:\n",
    "$$\\text{range}(x) = x_{\\text{max}} - x_{\\text{min}}$$\n",
    "where $x_{\\text{max}}$ is the maximum value of the variable and $x_{\\text{min}}$ is the minimum value of the variable.\n",
    "\n",
    "For example, the range of the age of the passengers is given by"
   ]
  },
  {
   "cell_type": "code",
   "execution_count": null,
   "metadata": {},
   "outputs": [],
   "source": [
    "df['age'].max() - df['age'].min()"
   ]
  },
  {
   "cell_type": "markdown",
   "metadata": {},
   "source": [
    "#### Variance and standard deviation\n",
    "The variance is the average of the squared differences from the mean. The variance is a good measure of dispersion for continuous variables. The variance is calculated using the following formula:\n",
    "$$\\text{var}(x) = \\frac{1}{n}\\sum_{i=1}^{n}(x_i - \\bar{x})^2$$\n",
    "where $x_i$ is the $i$-th value of the variable, $\\bar{x}$ is the mean of the variable, and $n$ is the number of values.\n",
    "\n",
    "For example, the variance of the age of the passengers is given by"
   ]
  },
  {
   "cell_type": "code",
   "execution_count": null,
   "metadata": {},
   "outputs": [],
   "source": [
    "df['age'].var()"
   ]
  },
  {
   "cell_type": "markdown",
   "metadata": {},
   "source": [
    "On the other hand, the standard deviation is the square root of the variance. The standard deviation is also a good measure of dispersion for continuous variables. The standard deviation is calculated using the following formula:\n",
    "$$\\text{std}(x) = \\sqrt{\\text{var}(x)}.$$\n",
    "\n",
    "The standard deviation is on the most common measure of dispersion being measured in the same units as the variable.\n",
    "\n",
    "For example, the standard deviation of the age of the passengers is given by"
   ]
  },
  {
   "cell_type": "code",
   "execution_count": null,
   "metadata": {},
   "outputs": [],
   "source": [
    "df['age'].std()"
   ]
  },
  {
   "cell_type": "markdown",
   "metadata": {},
   "source": [
    "#### Interquartile range (IQR)\n",
    "The interquartile range is the difference between the 75th (Q3) and 25th (Q1) percentiles of a variable. The interquartile range is a good measure of dispersion for continuous variables. The interquartile range is calculated using the following formula:\n",
    "$$\\text{IQR}(x) = Q3 - Q1$$\n",
    "\n",
    "For example, the interquartile range of the age of the passengers is given by"
   ]
  },
  {
   "cell_type": "code",
   "execution_count": null,
   "metadata": {},
   "outputs": [],
   "source": [
    "Q1 = df['age'].quantile(0.25)\n",
    "Q3 = df['age'].quantile(0.75)\n",
    "IQR = Q3 - Q1\n",
    "\n",
    "print(f\"Given that the 25th percentile of the age of the passengers is {Q1} and the 75th percentile is {Q3}, the interquartile range is {IQR}.\")"
   ]
  },
  {
   "cell_type": "markdown",
   "metadata": {
    "collapsed": false
   },
   "source": [
    "#### Exercises\n",
    "\n",
    "Go to the [./Exercises/04_exercise_adult_part_1.ipynb](./Exercises/04_exercise_adult_part_1.ipynb) notebook and answer the questions of the \"Dispersion measures\" section."
   ]
  },
  {
   "cell_type": "markdown",
   "metadata": {},
   "source": [
    "### Measures of skewness and kurtosis\n",
    "\n",
    "#### Skewness\n",
    "\n",
    "Skewness measures the symmetry of a distribution. A distribution is symmetric if it looks the same to the left and right of the center point. A distribution is skewed if it is longer in one tail than the other. The skewness of a distribution is:\n",
    "  - **positive if the tail on the right side of the distribution is longer** (that is, outliers are skewed to the right and data stacked up on the left) and\n",
    "  - **negative if the tail on the left side of the distribution is longer**.\n",
    "  - The skewness of a distribution is **zero** if the tails on both sides of the distribution are the same length.\n",
    "\n",
    "Further, positive skewness occurs when the mean is greater than the median and the mode. Negative skewness occurs when the mean is less than the median and mode.\n",
    "\n",
    "Let us calculate the skewness of the numeric attributes of the titanic dataset."
   ]
  },
  {
   "cell_type": "code",
   "execution_count": null,
   "metadata": {},
   "outputs": [],
   "source": [
    "numeric_attributes = df.select_dtypes(include=['int64', 'float64'])\n",
    "\n",
    "df[numeric_attributes.columns].skew()"
   ]
  },
  {
   "cell_type": "markdown",
   "metadata": {},
   "source": [
    "Without looking at the histogram plot:\n",
    "1. <span style=\"color:red\"> what conclusions can you take about the distibution of the pclass?</span>\n",
    "1. <span style=\"color:red\"> what conclusions can you take about the distibution of the fare?</span>\n",
    "1. <span style=\"color:red\"> what conclusions can you take about the distibution of the age?</span>\n",
    "\n",
    "<span  style=\"color:red\"> Replot the histogram of the pclass, fare and age attributes and comment on the skewness of the distributions.</span>"
   ]
  },
  {
   "cell_type": "code",
   "execution_count": null,
   "metadata": {},
   "outputs": [],
   "source": [
    "# TODO\n"
   ]
  },
  {
   "cell_type": "markdown",
   "metadata": {},
   "source": [
    "#### Kurtosis\n",
    "kurtoisis measures the tail heaviness of a distribution, i.e., whether the tails are heavy or light relative to a normal distribution. The kurtosis of a distribution is positive if the tails are heavier than a normal distribution and negative if the tails are lighter than a normal distribution. On other words, kurtosis measures the thickness of the tails of a distribution. The kurtosis of a normal distribution is 3. The kurtosis of a distribution is:\n",
    "  - **positive if the distribution is heavy-tailed** (i.e., the distribution produces more extreme values than a normal distribution) and\n",
    "  - **negative if the distribution is light-tailed** (i.e., the distribution produces fewer extreme values than a normal distribution).\n",
    "  - The kurtosis of a normal distribution is **zero**.\n",
    "\n",
    "Let us calculate the kurtosis of the numeric attributes of the titanic dataset.\n"
   ]
  },
  {
   "cell_type": "code",
   "execution_count": null,
   "metadata": {},
   "outputs": [],
   "source": [
    "df[numeric_attributes.columns].kurt()"
   ]
  },
  {
   "cell_type": "code",
   "execution_count": null,
   "metadata": {},
   "outputs": [],
   "source": [
    "def plot_histogram_and_normal_dist(df, column, bins=10):\n",
    "\n",
    "    mean_age = df[column].mean()\n",
    "    std_age = df[column].std()\n",
    "\n",
    "    normal_dist = np.random.normal(mean_age, std_age, 100000)\n",
    "\n",
    "    df[column].plot(kind='hist', figsize=(15,5), bins=bins, density=True, alpha=0.5, color='red', title=f'Histogram of a normal distribution and \"{column}\" which has has a swewness of {df[column].skew():.2f} and a kurtosis of {df[column].kurt():.2f}')\n",
    "    plt.hist(normal_dist, bins=5*bins, density=True, alpha=0.5, color='blue')"
   ]
  },
  {
   "cell_type": "code",
   "execution_count": null,
   "metadata": {},
   "outputs": [],
   "source": [
    "plot_histogram_and_normal_dist(df, 'age', bins=20)"
   ]
  },
  {
   "cell_type": "code",
   "execution_count": null,
   "metadata": {},
   "outputs": [],
   "source": [
    "plot_histogram_and_normal_dist(df, 'fare', bins=20)"
   ]
  },
  {
   "cell_type": "code",
   "execution_count": null,
   "metadata": {
    "collapsed": false
   },
   "outputs": [],
   "source": [
    "plot_histogram_and_normal_dist(df, 'survived', bins=20)"
   ]
  },
  {
   "cell_type": "code",
   "execution_count": null,
   "metadata": {
    "collapsed": false
   },
   "outputs": [],
   "source": [
    "plot_histogram_and_normal_dist(df, 'family_size', bins=20)\n"
   ]
  },
  {
   "cell_type": "markdown",
   "metadata": {
    "collapsed": false
   },
   "source": []
  },
  {
   "cell_type": "markdown",
   "metadata": {
    "collapsed": false
   },
   "source": [
    "#### Exercises\n",
    "\n",
    "Go to the [./Exercises/04_exercise_adult_part_1.ipynb](./Exercises/04_exercise_adult_part_1.ipynb) notebook and answer the questions of the \"Skewness and kurtosis\" section."
   ]
  },
  {
   "cell_type": "markdown",
   "metadata": {},
   "source": [
    "### Unsderstanding relationships between variables\n",
    "Measuting the relationship between two variables is important in order to understand the data. There are several ways to measure the relationship between two variables. The covariance and the correlation coefficient are two of the most common.\n",
    "\n",
    "#### Covariance\n",
    "\n",
    "The covariance is a measure of the joint variability of two random variables. It shows the degree to which two variables change together. i.e., if the two variables tend to increase together or decrease together and by how much.\n",
    "\n",
    "The covariance is calculated using the following formula:\n",
    "$$\\text{cov}(x,y) = \\frac{1}{n}\\sum_{i=1}^{n}(x_i - \\bar{x})(y_i - \\bar{y})$$\n",
    "where $x_i$ is the $i$-th value of the variable $x$, $\\bar{x}$ is the mean of the variable $x$, $y_i$ is the $i$-th value of the variable $y$, $\\bar{y}$ is the mean of the variable $y$, and $n$ is the number of values.\n",
    "\n",
    "The covariance varies between -$\\infty$ and $\\infty$. The covariance is positive if the two variables tend to increase together, and negative if one variable tends to increase as the other decreases. The covariance is zero if the two variables are independent.\n",
    "\n",
    "The problem with the covariance is that it is difficult to interpret and it is not normalized. The covariance of two variables is not comparable to the covariance of two other variables. For example, the covariance of the fare and the age of the passengers is 143.3, while the covariance of the fare and the sibps of the passengers is 8.64. The covariance of the age and the fare of the passengers is much higher than the covariance of the fare and the sibps of the passengers. However, the age and the fare of the passengers are not more related than the age and the pclass of the passengers as we can see next from the correlation matrix.\n"
   ]
  },
  {
   "cell_type": "code",
   "execution_count": null,
   "metadata": {},
   "outputs": [],
   "source": [
    "# select the numerical columns\n",
    "numeric_attributes = df.select_dtypes(include=['int64', 'float64']).columns\n",
    "\n",
    "df[numeric_attributes].cov()"
   ]
  },
  {
   "cell_type": "code",
   "execution_count": null,
   "metadata": {
    "collapsed": false
   },
   "outputs": [],
   "source": [
    "sns.heatmap(df[numeric_attributes].cov(), annot=True, cmap='vlag')\n"
   ]
  },
  {
   "cell_type": "markdown",
   "metadata": {},
   "source": [
    "#### Correlation\n",
    "Correlation matrix allow to see the correlation between the numerical columns. The correlation coefficient ranges from -1 to 1. A value of 1 means that there is a perfect positive correlation between the two columns, a value of -1 means that there is a perfect negative correlation between the two columns, and a value of 0 means that there is no correlation between the two columns. The correlation matrix is a symmetric matrix, so we only need to plot the upper triangle of the matrix.\n",
    "\n",
    "The correlation between two variables is calculated using the following formula:\n",
    "$$\\text{corr}(x,y) = \\frac{\\text{cov}(x,y)}{\\sigma_x \\sigma_y}$$\n",
    "where $\\sigma_x$ is the standard deviation of the variable $x$ and $\\sigma_y$ is the standard deviation of the variable $y$. The correlation coefficient is normalized, so it is comparable between different variables."
   ]
  },
  {
   "cell_type": "markdown",
   "metadata": {},
   "source": [
    "Ploting the correlation matrix allow to see the correlation between the numerical columns in a more visual way. The seaborn library provides a heatmap function that allows to plot the correlation matrix."
   ]
  },
  {
   "cell_type": "code",
   "execution_count": null,
   "metadata": {},
   "outputs": [],
   "source": [
    "sns.heatmap(df[numeric_attributes].corr(), annot=True, cmap='vlag')"
   ]
  },
  {
   "cell_type": "markdown",
   "metadata": {
    "collapsed": false
   },
   "source": [
    " This can also be done using the style.background_gradient() method from Pandas."
   ]
  },
  {
   "cell_type": "code",
   "execution_count": null,
   "metadata": {
    "collapsed": false
   },
   "outputs": [],
   "source": [
    "df[numeric_attributes].corr().style.background_gradient(cmap='vlag')"
   ]
  },
  {
   "cell_type": "markdown",
   "metadata": {},
   "source": [
    "\n",
    "<span style=\"color:red\"> 1. what conclusion can you draw from the correlation matrix? E.g., was age vs survided expectable or...?</span>\n",
    "\n",
    "<span style=\"color:red\"> 2. Would you be expecting a \"high\" correlation between age and body? Why not?</span>\n",
    "\n",
    "<span style=\"color:red\"> 3. Why is correlation between survived and body `nan`?</span>"
   ]
  },
  {
   "cell_type": "markdown",
   "metadata": {},
   "source": [
    "Another to have a good idea of the correlation between the numerical columns is to make a scatter plot matrix. Although in the case, due to the discrete nature of the data, the scatter plot matrix is not very useful/easy to interpret. Further, the scatter plot does not show the density of the data (e.g., you can not conclude from the scatter plot that the majority of the passengers were in the 3rd class, although the histogram of the pclass column shows that this is the case).\n",
    "\n",
    "<span style=\"color:red\"> - can you discerne the \"highest\" correlations?   </span>"
   ]
  },
  {
   "cell_type": "code",
   "execution_count": null,
   "metadata": {},
   "outputs": [],
   "source": [
    "_ = pd.plotting.scatter_matrix(df, figsize=(15, 10))"
   ]
  },
  {
   "cell_type": "markdown",
   "metadata": {},
   "source": [
    "#### Spearman's rank correlation\n",
    "\n",
    "The Spearman's rank correlation is a nonparametric measure of the monotonicity of the relationship between two variables.  The Spearman's rank correlation is calculated using the following formula:\n",
    "$$\\text{corr}(x,y) = \\frac{\\text{cov}(\\text{rank}(x),\\text{rank}(y))}{\\sigma_{\\text{rank}(x)} \\sigma_{\\text{rank}(y)}}$$\n",
    "where $\\text{rank}(x)$ is the rank of the variable $x$ and $\\sigma_{\\text{rank}(x)}$ is the standard deviation of the rank of the variable $x$.\n",
    "\n",
    "For the Spearman's rank correlation, the variables do not need to be normally distributed. The Spearman's rank correlation is a monotonic measure, so it is not affected by the outliers. The Spearman's rank correlation is also not affected by the monotonic transformation of the variables.\n",
    "\n",
    "For example, the rank associated to the age is the following:"
   ]
  },
  {
   "cell_type": "code",
   "execution_count": null,
   "metadata": {},
   "outputs": [],
   "source": [
    "_df = df.copy()\n",
    "_df['age_rank'] = _df['age'].rank(ascending=False)\n",
    "_df.sort_values(by='age', ascending=False)"
   ]
  },
  {
   "cell_type": "markdown",
   "metadata": {
    "collapsed": false
   },
   "source": [
    "The Spearman's rank correlation matrix is:"
   ]
  },
  {
   "cell_type": "code",
   "execution_count": null,
   "metadata": {},
   "outputs": [],
   "source": [
    "df[numeric_attributes].corr(method='spearman').style.background_gradient(cmap='coolwarm')"
   ]
  },
  {
   "cell_type": "markdown",
   "metadata": {},
   "source": [
    "# Exercises\n",
    "\n",
    "Complete all exercises in the [./Exercises/04_exercise_adult_part_1.ipynb](./Exercises/04_exercise_adult_part_1.ipynb) notebook."
   ]
  },
  {
   "cell_type": "markdown",
   "metadata": {},
   "source": [
    "# References\n",
    "\n",
    "- https://www.kaggle.com/learn/pandas\n",
    "- Navlani, A.,  Fandango, A.,  Idris, I. (2021). Python Data Analysis: Perform data collection, data processing, wrangling, visualization, and model building using Python. Packt. 3rd Edition\n",
    "- Brandt. S. (2014). Data Analysis: Statistical and Computational Methods for Scientists and Engineers. Springer. 4th Edition\n",
    "- https://eugenelohh.medium.com/data-analysis-on-the-titanic-dataset-using-python-7593633135f2\n"
   ]
  }
 ],
 "metadata": {
  "kernelspec": {
   "display_name": "Python 3 (ipykernel)",
   "language": "python",
   "name": "python3"
  },
  "language_info": {
   "codemirror_mode": {
    "name": "ipython",
    "version": 3
   },
   "file_extension": ".py",
   "mimetype": "text/x-python",
   "name": "python",
   "nbconvert_exporter": "python",
   "pygments_lexer": "ipython3",
   "version": "3.11.8"
  }
 },
 "nbformat": 4,
 "nbformat_minor": 4
}
