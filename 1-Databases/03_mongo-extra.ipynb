{
 "cells": [
  {
   "metadata": {},
   "cell_type": "markdown",
   "source": [
    "_____\n",
    "\n",
    "<table align=\"left\" width=100%>\n",
    "    <td>\n",
    "        <div style=\"text-align: center;\">\n",
    "          <img src=\"./images/bar.png\" alt=\"entidades financiadoras\"/>\n",
    "        </div>\n",
    "    </td>\n",
    "    <td>\n",
    "        <p style=\"text-align: center; font-size:24px;\"><b>Introduction to Data Science</b></p>\n",
    "        <p style=\"text-align: center; font-size:18px;\"><b>Master in Electrical and Computer Engineering</b></p>\n",
    "        <p style=\"text-align: center; font-size:14px;\"><b>Pedro Cardoso (pcardoso@ualg.pt)</b></p>\n",
    "    </td>\n",
    "</table>\n",
    "\n",
    "_____"
   ]
  },
  {
   "cell_type": "code",
   "metadata": {},
   "source": [
    "from pymongo import MongoClient\n",
    "from pprint import pprint\n",
    "\n",
    "client = MongoClient()\n",
    "db = client.sensorsDB"
   ],
   "outputs": [],
   "execution_count": null
  },
  {
   "cell_type": "markdown",
   "metadata": {},
   "source": [
    "## Query an array\n",
    "Let us see some examples of how to make query operations on array fields using the db.collection.find(). \n",
    "The examples on this page use a `sensors_location` collection. \n",
    "\n",
    "To populate the `sensors_location` collection:"
   ]
  },
  {
   "cell_type": "code",
   "metadata": {},
   "source": [
    "data = [{\n",
    "            'location_name': 'window @ lab 1', \n",
    "            'sensors': [ 'Temperature', 'Humidity']\n",
    "       }, \n",
    "        {\n",
    "            'location_name': 'door @ lab 1', \n",
    "            'sensors': [ 'IR', 'Proximity', 'Accelerometer']\n",
    "       }, {\n",
    "            'location_name': 'window @ lab 2', \n",
    "            'sensors': [ 'Temperature', 'Humidity', 'Pressure']\n",
    "       }, \n",
    "        {\n",
    "            'location_name': 'door @ lab 2', \n",
    "            'sensors': [ 'IR', 'Proximity']\n",
    "       },\n",
    "        {\n",
    "            'location_name': 'N wall @ lab 3',\n",
    "            'sensors': [ 'Gas', 'Smoke']\n",
    "       },\n",
    "        {\n",
    "            'location_name': 'S wall @ lab 3', \n",
    "            'sensors': [ 'Smoke']\n",
    "       }]\n",
    "\n",
    "db.sensors_location.insert_many(data)\n",
    "    "
   ],
   "outputs": [],
   "execution_count": null
  },
  {
   "cell_type": "markdown",
   "metadata": {},
   "source": [
    "### Match an array\n",
    "To specify equality condition on an array, use the query document `{ <field>: <value> }` where `<value>` is the exact array to match, including the order of the elements."
   ]
  },
  {
   "cell_type": "code",
   "metadata": {},
   "source": [
    "list(db.sensors_location.find({'sensors':[ 'Gas', 'Smoke']}))"
   ],
   "outputs": [],
   "execution_count": null
  },
  {
   "cell_type": "markdown",
   "metadata": {},
   "source": [
    "remember, we must observe the order"
   ]
  },
  {
   "cell_type": "code",
   "metadata": {},
   "source": [
    "list(db.sensors_location.find({'sensors':[ 'Smoke', 'Gas']}))"
   ],
   "outputs": [],
   "execution_count": null
  },
  {
   "metadata": {},
   "cell_type": "markdown",
   "source": "If the order is irrelevant, you can use the `$all` operator to match an array that contains all elements specified in the query. However, `$all` does not require an exact match of elements or order. For example"
  },
  {
   "cell_type": "code",
   "metadata": {},
   "source": [
    "list(db.sensors_location.find({'sensors':{'$all':[ 'Gas','Smoke']}}))"
   ],
   "outputs": [],
   "execution_count": null
  },
  {
   "metadata": {},
   "cell_type": "markdown",
   "source": "If you want those elements exactly, you can use the `$size` operator to match an array with the specified number of elements."
  },
  {
   "metadata": {},
   "cell_type": "code",
   "source": "list(db.sensors_location.find({'sensors':{'$size':2}, 'sensors':{'$all':[ 'Gas','Smoke']}}))",
   "outputs": [],
   "execution_count": null
  },
  {
   "cell_type": "markdown",
   "metadata": {},
   "source": [
    "### Query an array for an element\n",
    "To query if the array field contains at least one element with the specified value, use the filter `{ <field>: <value> }` where `<value>` is the element value."
   ]
  },
  {
   "cell_type": "code",
   "metadata": {},
   "source": [
    "list(db.sensors_location.find({'sensors': 'Humidity'}))"
   ],
   "outputs": [],
   "execution_count": null
  },
  {
   "cell_type": "markdown",
   "metadata": {},
   "source": [
    "Or locations with sensors with names greater than 'P' (why? because...)"
   ]
  },
  {
   "cell_type": "code",
   "metadata": {},
   "source": [
    "list(db.sensors_location.find({'sensors': { '$gte':'P'}}))"
   ],
   "outputs": [],
   "execution_count": null
  },
  {
   "cell_type": "markdown",
   "metadata": {},
   "source": [
    "#### Query an array with compound Filter conditions on the array elements\n",
    "Or locations with sensors with names between 'A' and 'H' (why? because...)"
   ]
  },
  {
   "cell_type": "code",
   "metadata": {},
   "source": [
    "list(db.sensors_location.find({'sensors': { '$gte':'A', '$lte':'H'}}))"
   ],
   "outputs": [],
   "execution_count": null
  },
  {
   "cell_type": "markdown",
   "metadata": {},
   "source": [
    "# Query for an element by the array index position\n",
    "\n",
    "To query for an element at a specific index position, use the dot notation `<arrayField>.<index>` in the query filter. The index value is zero-based."
   ]
  },
  {
   "cell_type": "code",
   "metadata": {},
   "source": [
    "list(db.sensors_location.find({'sensors.1': 'Smoke'}))"
   ],
   "outputs": [],
   "execution_count": null
  },
  {
   "cell_type": "markdown",
   "metadata": {},
   "source": [
    "### Query an array by array length\n",
    "\n",
    "do we have locations with 3 sensors?"
   ]
  },
  {
   "cell_type": "code",
   "metadata": {},
   "source": [
    "list(db.sensors_location.find({'sensors': {'$size':3}}))"
   ],
   "outputs": [],
   "execution_count": null
  },
  {
   "cell_type": "markdown",
   "metadata": {},
   "source": [
    "## Query an array of embedded documents\n",
    "\n",
    "As seen, it is usual to have arrays of embedded documents. Let us see some examples of how to make query operations on array fields using the db.collection.find().\n",
    "\n"
   ]
  },
  {
   "cell_type": "code",
   "metadata": {},
   "source": [
    "import numpy as np\n",
    "\n",
    "np.random.seed(1)\n",
    "\n",
    "def sample(n=10, m=100): # returns a sample of n values from [0, 1, ...., m-1]\n",
    "    return list(map(int,np.random.choice(m, n, replace=True).astype(int)))\n",
    "\n",
    "data = [{\n",
    "            'location_name': 'window @ lab 1', \n",
    "            'sensors': [ {'type': 'Temperature', \n",
    "                          'readings': sample()\n",
    "                         },\n",
    "                        {'type': 'Humidity', \n",
    "                          'readings': sample()\n",
    "                        }]\n",
    "       },{\n",
    "            'location_name': 'door @ lab 1', \n",
    "            'sensors': [ {'type': 'IR', \n",
    "                          'readings': sample()},\n",
    "                        {'type': 'Proximity', \n",
    "                          'readings': sample()\n",
    "                        },\n",
    "                        {'type': 'Accelerometer', \n",
    "                          'readings': sample()\n",
    "                        }]\n",
    "       },{\n",
    "            'location_name': 'window @ lab 2', \n",
    "            'sensors': [ {'type': 'Temperature', \n",
    "                          'readings': sample()},\n",
    "                        {'type': 'Humidity', \n",
    "                          'readings': sample()\n",
    "                        },\n",
    "                        {'type': 'Pressure', \n",
    "                          'readings': sample()\n",
    "                        }]\n",
    "       },{\n",
    "            'location_name': 'door @ lab 2', \n",
    "            'sensors': [ {'type': 'IR', \n",
    "                          'readings': sample()},\n",
    "                        {'type': 'Proximity', \n",
    "                          'readings': sample()\n",
    "                        }]\n",
    "       }]\n",
    "\n",
    "db.sensors_data.insert_many(data)"
   ],
   "outputs": [],
   "execution_count": null
  },
  {
   "cell_type": "code",
   "metadata": {},
   "source": [
    "pprint(data)"
   ],
   "outputs": [],
   "execution_count": null
  },
  {
   "cell_type": "markdown",
   "metadata": {},
   "source": [
    "All readings from humidity sensors"
   ]
  },
  {
   "cell_type": "code",
   "metadata": {},
   "source": [
    "for doc in db.sensors_data.find({'sensors.type':'Humidity'}):\n",
    "    pprint(doc)"
   ],
   "outputs": [],
   "execution_count": null
  },
  {
   "cell_type": "markdown",
   "metadata": {},
   "source": [
    "All humidity sensors with readings equal to 82"
   ]
  },
  {
   "cell_type": "code",
   "metadata": {},
   "source": [
    "query = {\n",
    "        'sensors': { \n",
    "            '$elemMatch' :{\n",
    "                'type':'Humidity', \n",
    "                'readings': 82\n",
    "            }\n",
    "        }\n",
    "    }\n",
    "\n",
    "for doc in db.sensors_data.find(query):\n",
    "    pprint(doc)"
   ],
   "outputs": [],
   "execution_count": null
  },
  {
   "cell_type": "markdown",
   "metadata": {},
   "source": [
    "All humidity sensors with readings greater than 90"
   ]
  },
  {
   "cell_type": "code",
   "metadata": {},
   "source": [
    "query = {\n",
    "        'sensors': { \n",
    "            '$elemMatch' :{\n",
    "                'type':'Humidity', \n",
    "                'readings': {'$gt': 90}\n",
    "            }\n",
    "        }\n",
    "    }\n",
    "\n",
    "for doc in db.sensors_data.find(query):\n",
    "    pprint(doc)"
   ],
   "outputs": [],
   "execution_count": null
  }
 ],
 "metadata": {
  "kernelspec": {
   "display_name": "Python 3 (ipykernel)",
   "language": "python",
   "name": "python3"
  },
  "language_info": {
   "codemirror_mode": {
    "name": "ipython",
    "version": 3
   },
   "file_extension": ".py",
   "mimetype": "text/x-python",
   "name": "python",
   "nbconvert_exporter": "python",
   "pygments_lexer": "ipython3",
   "version": "3.9.13"
  },
  "nbTranslate": {
   "displayLangs": [
    "*"
   ],
   "hotkey": "alt-t",
   "langInMainMenu": true,
   "sourceLang": "en",
   "targetLang": "fr",
   "useGoogleTranslate": true
  },
  "toc": {
   "base_numbering": 1,
   "nav_menu": {},
   "number_sections": true,
   "sideBar": true,
   "skip_h1_title": false,
   "title_cell": "Table of Contents",
   "title_sidebar": "Contents",
   "toc_cell": false,
   "toc_position": {},
   "toc_section_display": true,
   "toc_window_display": false
  },
  "varInspector": {
   "cols": {
    "lenName": 16,
    "lenType": 16,
    "lenVar": 40
   },
   "kernels_config": {
    "python": {
     "delete_cmd_postfix": "",
     "delete_cmd_prefix": "del ",
     "library": "var_list.py",
     "varRefreshCmd": "print(var_dic_list())"
    },
    "r": {
     "delete_cmd_postfix": ") ",
     "delete_cmd_prefix": "rm(",
     "library": "var_list.r",
     "varRefreshCmd": "cat(var_dic_list()) "
    }
   },
   "types_to_exclude": [
    "module",
    "function",
    "builtin_function_or_method",
    "instance",
    "_Feature"
   ],
   "window_display": false
  }
 },
 "nbformat": 4,
 "nbformat_minor": 4
}
