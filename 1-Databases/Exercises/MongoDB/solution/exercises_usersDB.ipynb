{
 "cells": [
  {
   "metadata": {},
   "cell_type": "markdown",
   "source": [
    "_____\n",
    "\n",
    "<table align=\"left\" width=100%>\n",
    "    <td>\n",
    "        <div style=\"text-align: center;\">\n",
    "          <img src=\"./images/bar.png\" alt=\"entidades financiadoras\"/>\n",
    "        </div>\n",
    "    </td>\n",
    "    <td>\n",
    "        <p style=\"text-align: center; font-size:24px;\"><b>Introduction to Data Science</b></p>\n",
    "        <p style=\"text-align: center; font-size:18px;\"><b>Master in Electrical and Computer Engineering</b></p>\n",
    "        <p style=\"text-align: center; font-size:14px;\"><b>Pedro Cardoso (pcardoso@ualg.pt)</b></p>\n",
    "    </td>\n",
    "</table>\n",
    "\n",
    "_____"
   ],
   "id": "7fc8eef91d85302f"
  },
  {
   "cell_type": "markdown",
   "source": [
    "# Users Database"
   ],
   "metadata": {
    "collapsed": false
   },
   "id": "a1afb7b5ec3458bc"
  },
  {
   "cell_type": "markdown",
   "source": [
    "## Create a MongoDB database\n",
    "Create a MongoDB database called usersdb and a collection called users. Use the pymongo library to connect to the MongoDB server running on localhost at port 27017."
   ],
   "metadata": {
    "collapsed": false
   },
   "id": "20e153ed7a6905bb"
  },
  {
   "cell_type": "code",
   "source": [
    "from pymongo import MongoClient\n",
    "client = MongoClient('localhost', 27017)\n",
    "db = client.usersdb"
   ],
   "metadata": {
    "collapsed": false,
    "ExecuteTime": {
     "end_time": "2025-02-25T21:55:51.771780Z",
     "start_time": "2025-02-25T21:55:51.720529Z"
    }
   },
   "id": "32f7a60e1d22ddea",
   "outputs": [],
   "execution_count": 1
  },
  {
   "cell_type": "markdown",
   "source": [
    "## Insert Documents\n",
    "Insert the documents in example.json into the users collection."
   ],
   "metadata": {
    "collapsed": false
   },
   "id": "acf8bb957aac9cc7"
  },
  {
   "cell_type": "code",
   "source": [
    "from bson import json_util\n",
    "docs = json_util.loads(open(\"./../example.json\").read())\n",
    "db.users.insert_many(docs)"
   ],
   "metadata": {
    "collapsed": false,
    "ExecuteTime": {
     "end_time": "2025-02-25T21:55:51.833831Z",
     "start_time": "2025-02-25T21:55:51.796841Z"
    }
   },
   "id": "811c1fa540a0ba4f",
   "outputs": [
    {
     "data": {
      "text/plain": [
       "InsertManyResult([ObjectId('5f50c31e1234567890abcdef'), ObjectId('5f50c31e1234567890abcded'), ObjectId('5f50c31e1234567890abcdff'), ObjectId('5f50c31e1234567890abcde1'), ObjectId('5f50c31e1234567890abcdab'), ObjectId('5f50c31e1234567890abcdbb'), ObjectId('5f50c31e1234567890abcdcc'), ObjectId('5f50c31e1234567890abcddd'), ObjectId('5f50c31e1234567890abcdee'), ObjectId('5f50c31e1234567890abcdaa')], acknowledged=True)"
      ]
     },
     "execution_count": 2,
     "metadata": {},
     "output_type": "execute_result"
    }
   ],
   "execution_count": 2
  },
  {
   "cell_type": "markdown",
   "source": [
    "## Retrieve all documents from the users collection.\n",
    "List all documents in the collection using the `find` method."
   ],
   "metadata": {
    "collapsed": false
   },
   "id": "5006016ef43ac25a"
  },
  {
   "cell_type": "code",
   "source": "list(db.users.find())",
   "metadata": {
    "collapsed": false,
    "ExecuteTime": {
     "end_time": "2025-02-25T21:55:51.879108Z",
     "start_time": "2025-02-25T21:55:51.872086Z"
    }
   },
   "id": "2a6eb296e354b083",
   "outputs": [
    {
     "data": {
      "text/plain": [
       "[{'_id': ObjectId('5f50c31e1234567890abcdef'),\n",
       "  'name': 'John Doe',\n",
       "  'email': 'john.doe@example.com',\n",
       "  'dateOfBirth': datetime.datetime(1990, 1, 1, 0, 0),\n",
       "  'boughtProducts': [{'productName': 'Laptop',\n",
       "    'datePurchased': datetime.datetime(2023, 1, 15, 0, 0)},\n",
       "   {'productName': 'Smartphone',\n",
       "    'datePurchased': datetime.datetime(2023, 2, 20, 0, 0)}]},\n",
       " {'_id': ObjectId('5f50c31e1234567890abcded'),\n",
       "  'name': 'Jane Smith',\n",
       "  'email': 'jane.smith@example.com',\n",
       "  'dateOfBirth': datetime.datetime(1985, 5, 10, 0, 0),\n",
       "  'boughtProducts': [{'productName': 'Tablet',\n",
       "    'datePurchased': datetime.datetime(2023, 3, 11, 0, 0)}]},\n",
       " {'_id': ObjectId('5f50c31e1234567890abcdff'),\n",
       "  'name': 'Emily Johnson',\n",
       "  'email': 'emily.johnson@example.com',\n",
       "  'dateOfBirth': datetime.datetime(1992, 7, 22, 0, 0),\n",
       "  'boughtProducts': [{'productName': 'Headphones',\n",
       "    'datePurchased': datetime.datetime(2023, 1, 30, 0, 0)},\n",
       "   {'productName': 'Bluetooth Speaker',\n",
       "    'datePurchased': datetime.datetime(2023, 2, 14, 0, 0)}]},\n",
       " {'_id': ObjectId('5f50c31e1234567890abcde1'),\n",
       "  'name': 'Michael Brown',\n",
       "  'email': 'michael.brown@example.com',\n",
       "  'dateOfBirth': datetime.datetime(1988, 3, 14, 0, 0),\n",
       "  'boughtProducts': [{'productName': 'E-reader',\n",
       "    'datePurchased': datetime.datetime(2023, 4, 5, 0, 0)}]},\n",
       " {'_id': ObjectId('5f50c31e1234567890abcdab'),\n",
       "  'name': 'Sarah Miller',\n",
       "  'email': 'sarah.miller@example.com',\n",
       "  'dateOfBirth': datetime.datetime(1993, 10, 30, 0, 0),\n",
       "  'boughtProducts': [{'productName': 'Digital Camera',\n",
       "    'datePurchased': datetime.datetime(2023, 3, 21, 0, 0)}]},\n",
       " {'_id': ObjectId('5f50c31e1234567890abcdbb'),\n",
       "  'name': 'Daniel Wilson',\n",
       "  'email': 'daniel.wilson@example.com',\n",
       "  'dateOfBirth': datetime.datetime(1986, 12, 15, 0, 0),\n",
       "  'boughtProducts': [{'productName': 'Smartwatch',\n",
       "    'datePurchased': datetime.datetime(2023, 1, 8, 0, 0)},\n",
       "   {'productName': 'Fitness Tracker',\n",
       "    'datePurchased': datetime.datetime(2023, 2, 25, 0, 0)}]},\n",
       " {'_id': ObjectId('5f50c31e1234567890abcdcc'),\n",
       "  'name': 'Olivia Martinez',\n",
       "  'email': 'olivia.martinez@example.com',\n",
       "  'dateOfBirth': datetime.datetime(1995, 8, 19, 0, 0),\n",
       "  'boughtProducts': [{'productName': 'Gaming Console',\n",
       "    'datePurchased': datetime.datetime(2023, 3, 30, 0, 0)}]},\n",
       " {'_id': ObjectId('5f50c31e1234567890abcddd'),\n",
       "  'name': 'William Garcia',\n",
       "  'email': 'william.garcia@example.com',\n",
       "  'dateOfBirth': datetime.datetime(1987, 4, 23, 0, 0),\n",
       "  'boughtProducts': [{'productName': 'VR Headset',\n",
       "    'datePurchased': datetime.datetime(2023, 2, 10, 0, 0)}]},\n",
       " {'_id': ObjectId('5f50c31e1234567890abcdee'),\n",
       "  'name': 'Sophia Rodriguez',\n",
       "  'email': 'sophia.rodriguez@example.com',\n",
       "  'dateOfBirth': datetime.datetime(1994, 11, 5, 0, 0),\n",
       "  'boughtProducts': [{'productName': 'Drone',\n",
       "    'datePurchased': datetime.datetime(2023, 1, 20, 0, 0)}]},\n",
       " {'_id': ObjectId('5f50c31e1234567890abcdaa'),\n",
       "  'name': 'James Hernandez',\n",
       "  'email': 'james.hernandez@example.com',\n",
       "  'dateOfBirth': datetime.datetime(1989, 9, 9, 0, 0),\n",
       "  'boughtProducts': [{'productName': 'Smart TV',\n",
       "    'datePurchased': datetime.datetime(2023, 3, 5, 0, 0)},\n",
       "   {'productName': 'Wireless Earbuds',\n",
       "    'datePurchased': datetime.datetime(2023, 4, 15, 0, 0)}]}]"
      ]
     },
     "execution_count": 3,
     "metadata": {},
     "output_type": "execute_result"
    }
   ],
   "execution_count": 3
  },
  {
   "metadata": {},
   "cell_type": "markdown",
   "source": [
    "List all documents in the collection using the `find` method and the projection parameter to exclude the _id field.\n",
    "Sort the documents by the `name` field in ascending order."
   ],
   "id": "46890e756356b828"
  },
  {
   "metadata": {
    "ExecuteTime": {
     "end_time": "2025-02-25T21:55:51.892185Z",
     "start_time": "2025-02-25T21:55:51.886917Z"
    }
   },
   "cell_type": "code",
   "source": "list(db.users.find({}, {\"_id\": 0}).sort(\"name\", 1))",
   "id": "7bb6580c705aaf61",
   "outputs": [
    {
     "data": {
      "text/plain": [
       "[{'name': 'Daniel Wilson',\n",
       "  'email': 'daniel.wilson@example.com',\n",
       "  'dateOfBirth': datetime.datetime(1986, 12, 15, 0, 0),\n",
       "  'boughtProducts': [{'productName': 'Smartwatch',\n",
       "    'datePurchased': datetime.datetime(2023, 1, 8, 0, 0)},\n",
       "   {'productName': 'Fitness Tracker',\n",
       "    'datePurchased': datetime.datetime(2023, 2, 25, 0, 0)}]},\n",
       " {'name': 'Emily Johnson',\n",
       "  'email': 'emily.johnson@example.com',\n",
       "  'dateOfBirth': datetime.datetime(1992, 7, 22, 0, 0),\n",
       "  'boughtProducts': [{'productName': 'Headphones',\n",
       "    'datePurchased': datetime.datetime(2023, 1, 30, 0, 0)},\n",
       "   {'productName': 'Bluetooth Speaker',\n",
       "    'datePurchased': datetime.datetime(2023, 2, 14, 0, 0)}]},\n",
       " {'name': 'James Hernandez',\n",
       "  'email': 'james.hernandez@example.com',\n",
       "  'dateOfBirth': datetime.datetime(1989, 9, 9, 0, 0),\n",
       "  'boughtProducts': [{'productName': 'Smart TV',\n",
       "    'datePurchased': datetime.datetime(2023, 3, 5, 0, 0)},\n",
       "   {'productName': 'Wireless Earbuds',\n",
       "    'datePurchased': datetime.datetime(2023, 4, 15, 0, 0)}]},\n",
       " {'name': 'Jane Smith',\n",
       "  'email': 'jane.smith@example.com',\n",
       "  'dateOfBirth': datetime.datetime(1985, 5, 10, 0, 0),\n",
       "  'boughtProducts': [{'productName': 'Tablet',\n",
       "    'datePurchased': datetime.datetime(2023, 3, 11, 0, 0)}]},\n",
       " {'name': 'John Doe',\n",
       "  'email': 'john.doe@example.com',\n",
       "  'dateOfBirth': datetime.datetime(1990, 1, 1, 0, 0),\n",
       "  'boughtProducts': [{'productName': 'Laptop',\n",
       "    'datePurchased': datetime.datetime(2023, 1, 15, 0, 0)},\n",
       "   {'productName': 'Smartphone',\n",
       "    'datePurchased': datetime.datetime(2023, 2, 20, 0, 0)}]},\n",
       " {'name': 'Michael Brown',\n",
       "  'email': 'michael.brown@example.com',\n",
       "  'dateOfBirth': datetime.datetime(1988, 3, 14, 0, 0),\n",
       "  'boughtProducts': [{'productName': 'E-reader',\n",
       "    'datePurchased': datetime.datetime(2023, 4, 5, 0, 0)}]},\n",
       " {'name': 'Olivia Martinez',\n",
       "  'email': 'olivia.martinez@example.com',\n",
       "  'dateOfBirth': datetime.datetime(1995, 8, 19, 0, 0),\n",
       "  'boughtProducts': [{'productName': 'Gaming Console',\n",
       "    'datePurchased': datetime.datetime(2023, 3, 30, 0, 0)}]},\n",
       " {'name': 'Sarah Miller',\n",
       "  'email': 'sarah.miller@example.com',\n",
       "  'dateOfBirth': datetime.datetime(1993, 10, 30, 0, 0),\n",
       "  'boughtProducts': [{'productName': 'Digital Camera',\n",
       "    'datePurchased': datetime.datetime(2023, 3, 21, 0, 0)}]},\n",
       " {'name': 'Sophia Rodriguez',\n",
       "  'email': 'sophia.rodriguez@example.com',\n",
       "  'dateOfBirth': datetime.datetime(1994, 11, 5, 0, 0),\n",
       "  'boughtProducts': [{'productName': 'Drone',\n",
       "    'datePurchased': datetime.datetime(2023, 1, 20, 0, 0)}]},\n",
       " {'name': 'William Garcia',\n",
       "  'email': 'william.garcia@example.com',\n",
       "  'dateOfBirth': datetime.datetime(1987, 4, 23, 0, 0),\n",
       "  'boughtProducts': [{'productName': 'VR Headset',\n",
       "    'datePurchased': datetime.datetime(2023, 2, 10, 0, 0)}]}]"
      ]
     },
     "execution_count": 4,
     "metadata": {},
     "output_type": "execute_result"
    }
   ],
   "execution_count": 4
  },
  {
   "cell_type": "markdown",
   "source": [
    "## Retrieve a specific document\n",
    "\n",
    "Retrieve the document referring to the user with email address 'sophia.rodriguez@example.com'.\n"
   ],
   "metadata": {
    "collapsed": false
   },
   "id": "148546392f21c41c"
  },
  {
   "cell_type": "code",
   "source": "db.users.find_one({\"email\": \"sophia.rodriguez@example.com\"})",
   "metadata": {
    "collapsed": false,
    "ExecuteTime": {
     "end_time": "2025-02-25T21:55:51.953784Z",
     "start_time": "2025-02-25T21:55:51.949179Z"
    }
   },
   "id": "a073451a42819880",
   "outputs": [
    {
     "data": {
      "text/plain": [
       "{'_id': ObjectId('5f50c31e1234567890abcdee'),\n",
       " 'name': 'Sophia Rodriguez',\n",
       " 'email': 'sophia.rodriguez@example.com',\n",
       " 'dateOfBirth': datetime.datetime(1994, 11, 5, 0, 0),\n",
       " 'boughtProducts': [{'productName': 'Drone',\n",
       "   'datePurchased': datetime.datetime(2023, 1, 20, 0, 0)}]}"
      ]
     },
     "execution_count": 5,
     "metadata": {},
     "output_type": "execute_result"
    }
   ],
   "execution_count": 5
  },
  {
   "cell_type": "markdown",
   "source": [
    "## Update the birthdate field of a user\n",
    "\n",
    "Update the birthdate field of the user with the email address 'sophia.rodriguez@example.com'. Update the birthdate to '1990-03-15'. Use the `update_one` method and update the document in place. You can use the `set` operator to update the field. Don't forget update the `dateOfBirth` field to a `datetime` object, or you will not be able to query the database using date comparison operators."
   ],
   "metadata": {
    "collapsed": false
   },
   "id": "53df196cb16e6141"
  },
  {
   "cell_type": "code",
   "source": [
    "import datetime\n",
    "db.users.update_one(\n",
    "    {\"email\": \"sophia.rodriguez@example.com\"},\n",
    "    {\"$set\": {\"dateOfBirth\": datetime.datetime(1990, 3, 15)}}\n",
    ")"
   ],
   "metadata": {
    "collapsed": false,
    "ExecuteTime": {
     "end_time": "2025-02-25T21:55:52.008715Z",
     "start_time": "2025-02-25T21:55:52.004528Z"
    }
   },
   "id": "ef81ad3e809dcd30",
   "outputs": [
    {
     "data": {
      "text/plain": [
       "UpdateResult({'n': 1, 'nModified': 1, 'ok': 1.0, 'updatedExisting': True}, acknowledged=True)"
      ]
     },
     "execution_count": 6,
     "metadata": {},
     "output_type": "execute_result"
    }
   ],
   "execution_count": 6
  },
  {
   "cell_type": "markdown",
   "source": [
    "## Update the email field\n",
    "\n",
    "Update the email field of the user document with the email address \"james.hernandez@example.com\" to \"james.hernandez@gmail.com\""
   ],
   "metadata": {
    "collapsed": false
   },
   "id": "984a48fd8073c93b"
  },
  {
   "cell_type": "code",
   "source": [
    "db.users.update_one(\n",
    "    {\"email\": \"james.hernandez@example.com\"},\n",
    "    {\"$set\": {\"email\": \"james.hernandez@gmail.com\"}}\n",
    ")"
   ],
   "metadata": {
    "collapsed": false,
    "ExecuteTime": {
     "end_time": "2025-02-25T21:55:52.038739Z",
     "start_time": "2025-02-25T21:55:52.034748Z"
    }
   },
   "id": "bb836a104a4cc61",
   "outputs": [
    {
     "data": {
      "text/plain": [
       "UpdateResult({'n': 1, 'nModified': 1, 'ok': 1.0, 'updatedExisting': True}, acknowledged=True)"
      ]
     },
     "execution_count": 7,
     "metadata": {},
     "output_type": "execute_result"
    }
   ],
   "execution_count": 7
  },
  {
   "cell_type": "markdown",
   "source": [
    "\n",
    "## Query users by age\n",
    "\n",
    "Retrieve a list of users who are older than 30 years old. You can use the `datetime` module to calculate the date 30 years ago and then query the database for users whose `dateOfBirth` field is less than that date.\n",
    "\n",
    "```\n",
    "import datetime\n",
    "30_years_ago = datetime.datetime.utcnow() - datetime.timedelta(days=30*365)\n",
    "```"
   ],
   "metadata": {
    "collapsed": false
   },
   "id": "f34d1c69f379ca03"
  },
  {
   "cell_type": "code",
   "source": [
    "older_than_30 = datetime.datetime.now() - datetime.timedelta(days=30*365)\n",
    "list(db.users.find({\"dateOfBirth\": {\"$lt\": older_than_30}}))"
   ],
   "metadata": {
    "collapsed": false,
    "ExecuteTime": {
     "end_time": "2025-02-25T21:55:52.073083Z",
     "start_time": "2025-02-25T21:55:52.066668Z"
    }
   },
   "id": "83813585e66aeb01",
   "outputs": [
    {
     "data": {
      "text/plain": [
       "[{'_id': ObjectId('5f50c31e1234567890abcdef'),\n",
       "  'name': 'John Doe',\n",
       "  'email': 'john.doe@example.com',\n",
       "  'dateOfBirth': datetime.datetime(1990, 1, 1, 0, 0),\n",
       "  'boughtProducts': [{'productName': 'Laptop',\n",
       "    'datePurchased': datetime.datetime(2023, 1, 15, 0, 0)},\n",
       "   {'productName': 'Smartphone',\n",
       "    'datePurchased': datetime.datetime(2023, 2, 20, 0, 0)}]},\n",
       " {'_id': ObjectId('5f50c31e1234567890abcded'),\n",
       "  'name': 'Jane Smith',\n",
       "  'email': 'jane.smith@example.com',\n",
       "  'dateOfBirth': datetime.datetime(1985, 5, 10, 0, 0),\n",
       "  'boughtProducts': [{'productName': 'Tablet',\n",
       "    'datePurchased': datetime.datetime(2023, 3, 11, 0, 0)}]},\n",
       " {'_id': ObjectId('5f50c31e1234567890abcdff'),\n",
       "  'name': 'Emily Johnson',\n",
       "  'email': 'emily.johnson@example.com',\n",
       "  'dateOfBirth': datetime.datetime(1992, 7, 22, 0, 0),\n",
       "  'boughtProducts': [{'productName': 'Headphones',\n",
       "    'datePurchased': datetime.datetime(2023, 1, 30, 0, 0)},\n",
       "   {'productName': 'Bluetooth Speaker',\n",
       "    'datePurchased': datetime.datetime(2023, 2, 14, 0, 0)}]},\n",
       " {'_id': ObjectId('5f50c31e1234567890abcde1'),\n",
       "  'name': 'Michael Brown',\n",
       "  'email': 'michael.brown@example.com',\n",
       "  'dateOfBirth': datetime.datetime(1988, 3, 14, 0, 0),\n",
       "  'boughtProducts': [{'productName': 'E-reader',\n",
       "    'datePurchased': datetime.datetime(2023, 4, 5, 0, 0)}]},\n",
       " {'_id': ObjectId('5f50c31e1234567890abcdab'),\n",
       "  'name': 'Sarah Miller',\n",
       "  'email': 'sarah.miller@example.com',\n",
       "  'dateOfBirth': datetime.datetime(1993, 10, 30, 0, 0),\n",
       "  'boughtProducts': [{'productName': 'Digital Camera',\n",
       "    'datePurchased': datetime.datetime(2023, 3, 21, 0, 0)}]},\n",
       " {'_id': ObjectId('5f50c31e1234567890abcdbb'),\n",
       "  'name': 'Daniel Wilson',\n",
       "  'email': 'daniel.wilson@example.com',\n",
       "  'dateOfBirth': datetime.datetime(1986, 12, 15, 0, 0),\n",
       "  'boughtProducts': [{'productName': 'Smartwatch',\n",
       "    'datePurchased': datetime.datetime(2023, 1, 8, 0, 0)},\n",
       "   {'productName': 'Fitness Tracker',\n",
       "    'datePurchased': datetime.datetime(2023, 2, 25, 0, 0)}]},\n",
       " {'_id': ObjectId('5f50c31e1234567890abcddd'),\n",
       "  'name': 'William Garcia',\n",
       "  'email': 'william.garcia@example.com',\n",
       "  'dateOfBirth': datetime.datetime(1987, 4, 23, 0, 0),\n",
       "  'boughtProducts': [{'productName': 'VR Headset',\n",
       "    'datePurchased': datetime.datetime(2023, 2, 10, 0, 0)}]},\n",
       " {'_id': ObjectId('5f50c31e1234567890abcdee'),\n",
       "  'name': 'Sophia Rodriguez',\n",
       "  'email': 'sophia.rodriguez@example.com',\n",
       "  'dateOfBirth': datetime.datetime(1990, 3, 15, 0, 0),\n",
       "  'boughtProducts': [{'productName': 'Drone',\n",
       "    'datePurchased': datetime.datetime(2023, 1, 20, 0, 0)}]},\n",
       " {'_id': ObjectId('5f50c31e1234567890abcdaa'),\n",
       "  'name': 'James Hernandez',\n",
       "  'email': 'james.hernandez@gmail.com',\n",
       "  'dateOfBirth': datetime.datetime(1989, 9, 9, 0, 0),\n",
       "  'boughtProducts': [{'productName': 'Smart TV',\n",
       "    'datePurchased': datetime.datetime(2023, 3, 5, 0, 0)},\n",
       "   {'productName': 'Wireless Earbuds',\n",
       "    'datePurchased': datetime.datetime(2023, 4, 15, 0, 0)}]}]"
      ]
     },
     "execution_count": 8,
     "metadata": {},
     "output_type": "execute_result"
    }
   ],
   "execution_count": 8
  },
  {
   "cell_type": "markdown",
   "source": [
    "\n",
    "## Query users by name\n",
    "\n",
    "Retrieve the list of users whose name starts with 'J'."
   ],
   "metadata": {
    "collapsed": false
   },
   "id": "3e1e93c8eba4700f"
  },
  {
   "cell_type": "code",
   "source": "list(db.users.find({\"name\": {\"$regex\": \"^J\"}}))",
   "metadata": {
    "collapsed": false,
    "ExecuteTime": {
     "end_time": "2025-02-25T21:55:52.092682Z",
     "start_time": "2025-02-25T21:55:52.088556Z"
    }
   },
   "id": "7f18b4a36b8171b8",
   "outputs": [
    {
     "data": {
      "text/plain": [
       "[{'_id': ObjectId('5f50c31e1234567890abcdef'),\n",
       "  'name': 'John Doe',\n",
       "  'email': 'john.doe@example.com',\n",
       "  'dateOfBirth': datetime.datetime(1990, 1, 1, 0, 0),\n",
       "  'boughtProducts': [{'productName': 'Laptop',\n",
       "    'datePurchased': datetime.datetime(2023, 1, 15, 0, 0)},\n",
       "   {'productName': 'Smartphone',\n",
       "    'datePurchased': datetime.datetime(2023, 2, 20, 0, 0)}]},\n",
       " {'_id': ObjectId('5f50c31e1234567890abcded'),\n",
       "  'name': 'Jane Smith',\n",
       "  'email': 'jane.smith@example.com',\n",
       "  'dateOfBirth': datetime.datetime(1985, 5, 10, 0, 0),\n",
       "  'boughtProducts': [{'productName': 'Tablet',\n",
       "    'datePurchased': datetime.datetime(2023, 3, 11, 0, 0)}]},\n",
       " {'_id': ObjectId('5f50c31e1234567890abcdaa'),\n",
       "  'name': 'James Hernandez',\n",
       "  'email': 'james.hernandez@gmail.com',\n",
       "  'dateOfBirth': datetime.datetime(1989, 9, 9, 0, 0),\n",
       "  'boughtProducts': [{'productName': 'Smart TV',\n",
       "    'datePurchased': datetime.datetime(2023, 3, 5, 0, 0)},\n",
       "   {'productName': 'Wireless Earbuds',\n",
       "    'datePurchased': datetime.datetime(2023, 4, 15, 0, 0)}]}]"
      ]
     },
     "execution_count": 9,
     "metadata": {},
     "output_type": "execute_result"
    }
   ],
   "execution_count": 9
  },
  {
   "cell_type": "markdown",
   "source": [
    "\n",
    "## Query users email\n",
    "\n",
    "Retrieve the list of users whose email contains the `@gmail.com` domain.\n"
   ],
   "metadata": {
    "collapsed": false
   },
   "id": "6840691fbbd645b3"
  },
  {
   "cell_type": "code",
   "source": "list(db.users.find({\"email\": {\"$regex\": \"@gmail.com\"}}))",
   "metadata": {
    "collapsed": false,
    "ExecuteTime": {
     "end_time": "2025-02-25T21:55:52.128832Z",
     "start_time": "2025-02-25T21:55:52.124357Z"
    }
   },
   "id": "f51834e3cfaba405",
   "outputs": [
    {
     "data": {
      "text/plain": [
       "[{'_id': ObjectId('5f50c31e1234567890abcdaa'),\n",
       "  'name': 'James Hernandez',\n",
       "  'email': 'james.hernandez@gmail.com',\n",
       "  'dateOfBirth': datetime.datetime(1989, 9, 9, 0, 0),\n",
       "  'boughtProducts': [{'productName': 'Smart TV',\n",
       "    'datePurchased': datetime.datetime(2023, 3, 5, 0, 0)},\n",
       "   {'productName': 'Wireless Earbuds',\n",
       "    'datePurchased': datetime.datetime(2023, 4, 15, 0, 0)}]}]"
      ]
     },
     "execution_count": 10,
     "metadata": {},
     "output_type": "execute_result"
    }
   ],
   "execution_count": 10
  },
  {
   "cell_type": "markdown",
   "source": [
    "## Delete a user\n",
    "\n",
    "Delete the user with email address 'sophia.rodriguez@example.com'"
   ],
   "metadata": {
    "collapsed": false
   },
   "id": "b948bcd3004165d1"
  },
  {
   "cell_type": "code",
   "source": "db.users.delete_one({\"email\": 'sophia.rodriguez@example.com'})",
   "metadata": {
    "collapsed": false,
    "ExecuteTime": {
     "end_time": "2025-02-25T21:55:52.157995Z",
     "start_time": "2025-02-25T21:55:52.153993Z"
    }
   },
   "id": "5b4f5d9187db56c7",
   "outputs": [
    {
     "data": {
      "text/plain": [
       "DeleteResult({'n': 1, 'ok': 1.0}, acknowledged=True)"
      ]
     },
     "execution_count": 11,
     "metadata": {},
     "output_type": "execute_result"
    }
   ],
   "execution_count": 11
  },
  {
   "metadata": {
    "ExecuteTime": {
     "end_time": "2025-02-25T21:55:52.178864Z",
     "start_time": "2025-02-25T21:55:52.177605Z"
    }
   },
   "cell_type": "code",
   "source": "",
   "id": "96afc3653962d9e5",
   "outputs": [],
   "execution_count": null
  }
 ],
 "metadata": {
  "kernelspec": {
   "display_name": "Python 3",
   "language": "python",
   "name": "python3"
  },
  "language_info": {
   "codemirror_mode": {
    "name": "ipython",
    "version": 2
   },
   "file_extension": ".py",
   "mimetype": "text/x-python",
   "name": "python",
   "nbconvert_exporter": "python",
   "pygments_lexer": "ipython2",
   "version": "2.7.6"
  }
 },
 "nbformat": 4,
 "nbformat_minor": 5
}
