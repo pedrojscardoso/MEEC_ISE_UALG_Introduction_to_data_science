{
 "cells": [
  {
   "metadata": {},
   "cell_type": "markdown",
   "source": [
    "_____\n",
    "\n",
    "<table align=\"left\" width=100%>\n",
    "    <td>\n",
    "        <div style=\"text-align: center;\">\n",
    "          <img src=\"./images/bar.png\" alt=\"entidades financiadoras\"/>\n",
    "        </div>\n",
    "    </td>\n",
    "    <td>\n",
    "        <p style=\"text-align: center; font-size:24px;\"><b>Introduction to Data Science</b></p>\n",
    "        <p style=\"text-align: center; font-size:18px;\"><b>Master in Electrical and Computer Engineering</b></p>\n",
    "        <p style=\"text-align: center; font-size:14px;\"><b>Pedro Cardoso (pcardoso@ualg.pt)</b></p>\n",
    "    </td>\n",
    "</table>\n",
    "\n",
    "_____"
   ],
   "id": "7fc8eef91d85302f"
  },
  {
   "cell_type": "markdown",
   "source": [
    "# Users Database"
   ],
   "metadata": {
    "collapsed": false
   },
   "id": "a1afb7b5ec3458bc"
  },
  {
   "cell_type": "markdown",
   "source": [
    "## Create a MongoDB database\n",
    "Create a MongoDB database called usersdb and a collection called users. Use the pymongo library to connect to the MongoDB server running on localhost at port 27017."
   ],
   "metadata": {
    "collapsed": false
   },
   "id": "20e153ed7a6905bb"
  },
  {
   "cell_type": "code",
   "outputs": [],
   "source": [],
   "metadata": {
    "collapsed": false,
    "ExecuteTime": {
     "end_time": "2024-03-04T12:05:37.890559Z",
     "start_time": "2024-03-04T12:05:37.888215Z"
    }
   },
   "id": "32f7a60e1d22ddea",
   "execution_count": null
  },
  {
   "cell_type": "markdown",
   "source": [
    "## Insert Documents\n",
    "Insert the documents in example.json into the users collection."
   ],
   "metadata": {
    "collapsed": false
   },
   "id": "acf8bb957aac9cc7"
  },
  {
   "cell_type": "code",
   "outputs": [],
   "source": [],
   "metadata": {
    "collapsed": false,
    "ExecuteTime": {
     "end_time": "2024-03-04T12:05:37.951669Z",
     "start_time": "2024-03-04T12:05:37.950106Z"
    }
   },
   "id": "811c1fa540a0ba4f",
   "execution_count": null
  },
  {
   "cell_type": "markdown",
   "source": [
    "## Retrieve all documents from the users collection.\n",
    "List all documents in the collection using the `find` method."
   ],
   "metadata": {
    "collapsed": false
   },
   "id": "5006016ef43ac25a"
  },
  {
   "cell_type": "code",
   "outputs": [],
   "source": [],
   "metadata": {
    "collapsed": false,
    "ExecuteTime": {
     "end_time": "2024-03-04T12:05:37.960837Z",
     "start_time": "2024-03-04T12:05:37.959189Z"
    }
   },
   "id": "2a6eb296e354b083",
   "execution_count": null
  },
  {
   "metadata": {},
   "cell_type": "markdown",
   "source": [
    "List all documents in the collection using the `find` method and the projection parameter to exclude the _id field.\n",
    "Sort the documents by the `name` field in ascending order."
   ],
   "id": "46890e756356b828"
  },
  {
   "metadata": {},
   "cell_type": "code",
   "outputs": [],
   "execution_count": null,
   "source": "",
   "id": "7bb6580c705aaf61"
  },
  {
   "cell_type": "markdown",
   "source": [
    "## Retrieve a specific document\n",
    "\n",
    "Retrieve the document referring to the user with email address 'sophia.rodriguez@example.com'.\n"
   ],
   "metadata": {
    "collapsed": false
   },
   "id": "148546392f21c41c"
  },
  {
   "cell_type": "code",
   "outputs": [],
   "source": [],
   "metadata": {
    "collapsed": false,
    "ExecuteTime": {
     "end_time": "2024-03-04T12:05:37.963328Z",
     "start_time": "2024-03-04T12:05:37.961944Z"
    }
   },
   "id": "a073451a42819880",
   "execution_count": null
  },
  {
   "cell_type": "markdown",
   "source": [
    "## Update the birthdate field of a user\n",
    "\n",
    "Update the birthdate field of the user with the email address 'sophia.rodriguez@example.com'. Update the birthdate to '1990-03-15'. Use the `update_one` method and update the document in place. You can use the `set` operator to update the field. Don't forget update the `dateOfBirth` field to a `datetime` object, or you will not be able to query the database using date comparison operators."
   ],
   "metadata": {
    "collapsed": false
   },
   "id": "53df196cb16e6141"
  },
  {
   "cell_type": "code",
   "outputs": [],
   "source": [],
   "metadata": {
    "collapsed": false,
    "ExecuteTime": {
     "end_time": "2024-03-04T12:05:37.965792Z",
     "start_time": "2024-03-04T12:05:37.964341Z"
    }
   },
   "id": "ef81ad3e809dcd30",
   "execution_count": null
  },
  {
   "cell_type": "markdown",
   "source": [
    "## Update the email field\n",
    "\n",
    "Update the email field of the user document with the email address \"james.hernandez@example.com\" to \"james.hernandez@gmail.com\""
   ],
   "metadata": {
    "collapsed": false
   },
   "id": "984a48fd8073c93b"
  },
  {
   "cell_type": "code",
   "outputs": [],
   "source": [],
   "metadata": {
    "collapsed": false,
    "ExecuteTime": {
     "end_time": "2024-03-04T12:05:37.968130Z",
     "start_time": "2024-03-04T12:05:37.966748Z"
    }
   },
   "id": "bb836a104a4cc61",
   "execution_count": null
  },
  {
   "cell_type": "markdown",
   "source": [
    "\n",
    "## Query users by age\n",
    "\n",
    "Retrieve a list of users who are older than 30 years old. You can use the `datetime` module to calculate the date 30 years ago and then query the database for users whose `dateOfBirth` field is less than that date.\n",
    "\n",
    "```\n",
    "import datetime\n",
    "30_years_ago = datetime.datetime.utcnow() - datetime.timedelta(days=30*365)\n",
    "```"
   ],
   "metadata": {
    "collapsed": false
   },
   "id": "f34d1c69f379ca03"
  },
  {
   "cell_type": "code",
   "outputs": [],
   "source": [],
   "metadata": {
    "collapsed": false,
    "ExecuteTime": {
     "end_time": "2024-03-04T12:05:37.975263Z",
     "start_time": "2024-03-04T12:05:37.973657Z"
    }
   },
   "id": "83813585e66aeb01",
   "execution_count": null
  },
  {
   "cell_type": "markdown",
   "source": [
    "\n",
    "## Query users by name\n",
    "\n",
    "Retrieve the list of users whose name starts with 'J'."
   ],
   "metadata": {
    "collapsed": false
   },
   "id": "3e1e93c8eba4700f"
  },
  {
   "cell_type": "code",
   "outputs": [],
   "source": [],
   "metadata": {
    "collapsed": false,
    "ExecuteTime": {
     "end_time": "2024-03-04T12:05:37.997797Z",
     "start_time": "2024-03-04T12:05:37.996292Z"
    }
   },
   "id": "7f18b4a36b8171b8",
   "execution_count": null
  },
  {
   "cell_type": "markdown",
   "source": [
    "\n",
    "## Query users email\n",
    "\n",
    "Retrieve the list of users whose email contains the `@gmail.com` domain.\n"
   ],
   "metadata": {
    "collapsed": false
   },
   "id": "6840691fbbd645b3"
  },
  {
   "cell_type": "code",
   "outputs": [],
   "source": [],
   "metadata": {
    "collapsed": false,
    "ExecuteTime": {
     "end_time": "2024-03-04T12:05:38.024279Z",
     "start_time": "2024-03-04T12:05:38.022643Z"
    }
   },
   "id": "f51834e3cfaba405",
   "execution_count": null
  },
  {
   "cell_type": "markdown",
   "source": [
    "## Delete a user\n",
    "\n",
    "Delete the user with email address 'sophia.rodriguez@example.com'"
   ],
   "metadata": {
    "collapsed": false
   },
   "id": "b948bcd3004165d1"
  },
  {
   "cell_type": "code",
   "outputs": [],
   "source": [],
   "metadata": {
    "collapsed": false,
    "ExecuteTime": {
     "end_time": "2024-03-04T12:05:38.068445Z",
     "start_time": "2024-03-04T12:05:38.066658Z"
    }
   },
   "id": "5b4f5d9187db56c7",
   "execution_count": null
  }
 ],
 "metadata": {
  "kernelspec": {
   "display_name": "Python 3",
   "language": "python",
   "name": "python3"
  },
  "language_info": {
   "codemirror_mode": {
    "name": "ipython",
    "version": 2
   },
   "file_extension": ".py",
   "mimetype": "text/x-python",
   "name": "python",
   "nbconvert_exporter": "python",
   "pygments_lexer": "ipython2",
   "version": "2.7.6"
  }
 },
 "nbformat": 4,
 "nbformat_minor": 5
}
