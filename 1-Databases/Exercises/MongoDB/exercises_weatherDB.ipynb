{
 "cells": [
  {
   "cell_type": "markdown",
   "source": [
    "_____\n",
    "\n",
    "<table align=\"left\" width=100%>\n",
    "    <td>\n",
    "        <div style=\"text-align: center;\">\n",
    "          <img src=\"./images/bar.png\" alt=\"entidades financiadoras\"/>\n",
    "        </div>\n",
    "    </td>\n",
    "    <td>\n",
    "        <p style=\"text-align: center; font-size:24px;\"><b>Introduction to Data Science</b></p>\n",
    "        <p style=\"text-align: center; font-size:18px;\"><b>Master in Electrical and Computer Engineering</b></p>\n",
    "        <p style=\"text-align: center; font-size:14px;\"><b>Pedro Cardoso (pcardoso@ualg.pt)</b></p>\n",
    "    </td>\n",
    "</table>\n",
    "\n",
    "_____"
   ],
   "metadata": {
    "collapsed": false
   },
   "id": "a1afb7b5ec3458bc"
  },
  {
   "cell_type": "markdown",
   "source": [
    "# Weather Data Exercise\n",
    "Consider the data inserted into the weatherdb database by the following code."
   ],
   "metadata": {
    "collapsed": false
   },
   "id": "a9f12af8adc389b3"
  },
  {
   "cell_type": "code",
   "source": [
    "import pymongo\n",
    "\n",
    "# Connect to MongoDB\n",
    "client = pymongo.MongoClient(\"mongodb://localhost:27017/\")\n",
    "db = client.weatherdb\n",
    "weather = db.weather\n",
    "\n",
    "# Sample data - list of 10 documents with weather information\n",
    "weather_data = [\n",
    "    # New York (Base: temp=20, humidity=60, wind_speed=5)\n",
    "    {\"date\": \"2024-02-26\", \"temperature\": 20, \"humidity\": 60, \"wind_speed\": 5, \"location\": \"New York\"},\n",
    "    {\"date\": \"2024-02-27\", \"temperature\": 21, \"humidity\": 59, \"wind_speed\": 5, \"location\": \"New York\"},\n",
    "    {\"date\": \"2024-02-28\", \"temperature\": 20, \"humidity\": 61, \"wind_speed\": 6, \"location\": \"New York\"},\n",
    "    {\"date\": \"2024-02-29\", \"temperature\": 22, \"humidity\": 60, \"wind_speed\": 5, \"location\": \"New York\"},\n",
    "    {\"date\": \"2024-03-01\", \"temperature\": 21, \"humidity\": 62, \"wind_speed\": 4, \"location\": \"New York\"},\n",
    "    {\"date\": \"2024-03-02\", \"temperature\": 20, \"humidity\": 60, \"wind_speed\": 5, \"location\": \"New York\"},\n",
    "    {\"date\": \"2024-03-03\", \"temperature\": 19, \"humidity\": 63, \"wind_speed\": 6, \"location\": \"New York\"},\n",
    "    {\"date\": \"2024-03-04\", \"temperature\": 20, \"humidity\": 60, \"wind_speed\": 5, \"location\": \"New York\"},\n",
    "    {\"date\": \"2024-03-05\", \"temperature\": 21, \"humidity\": 59, \"wind_speed\": 5, \"location\": \"New York\"},\n",
    "    {\"date\": \"2024-03-06\", \"temperature\": 20, \"humidity\": 61, \"wind_speed\": 6, \"location\": \"New York\"},\n",
    "\n",
    "    # Los Angeles (Base: temp=25, humidity=55, wind_speed=7)\n",
    "    {\"date\": \"2024-02-26\", \"temperature\": 25, \"humidity\": 55, \"wind_speed\": 7, \"location\": \"Los Angeles\"},\n",
    "    {\"date\": \"2024-02-27\", \"temperature\": 26, \"humidity\": 54, \"wind_speed\": 7, \"location\": \"Los Angeles\"},\n",
    "    {\"date\": \"2024-02-28\", \"temperature\": 25, \"humidity\": 56, \"wind_speed\": 8, \"location\": \"Los Angeles\"},\n",
    "    {\"date\": \"2024-02-29\", \"temperature\": 27, \"humidity\": 55, \"wind_speed\": 7, \"location\": \"Los Angeles\"},\n",
    "    {\"date\": \"2024-03-01\", \"temperature\": 26, \"humidity\": 57, \"wind_speed\": 6, \"location\": \"Los Angeles\"},\n",
    "    {\"date\": \"2024-03-02\", \"temperature\": 25, \"humidity\": 55, \"wind_speed\": 7, \"location\": \"Los Angeles\"},\n",
    "    {\"date\": \"2024-03-03\", \"temperature\": 24, \"humidity\": 58, \"wind_speed\": 6, \"location\": \"Los Angeles\"},\n",
    "    {\"date\": \"2024-03-04\", \"temperature\": 25, \"humidity\": 55, \"wind_speed\": 7, \"location\": \"Los Angeles\"},\n",
    "    {\"date\": \"2024-03-05\", \"temperature\": 26, \"humidity\": 54, \"wind_speed\": 8, \"location\": \"Los Angeles\"},\n",
    "    {\"date\": \"2024-03-06\", \"temperature\": 25, \"humidity\": 56, \"wind_speed\": 7, \"location\": \"Los Angeles\"},\n",
    "\n",
    "    # Chicago (Base: temp=18, humidity=70, wind_speed=4)\n",
    "    {\"date\": \"2024-02-26\", \"temperature\": 18, \"humidity\": 70, \"wind_speed\": 4, \"location\": \"Chicago\"},\n",
    "    {\"date\": \"2024-02-27\", \"temperature\": 17, \"humidity\": 71, \"wind_speed\": 4, \"location\": \"Chicago\"},\n",
    "    {\"date\": \"2024-02-28\", \"temperature\": 18, \"humidity\": 70, \"wind_speed\": 5, \"location\": \"Chicago\"},\n",
    "    {\"date\": \"2024-02-29\", \"temperature\": 16, \"humidity\": 72, \"wind_speed\": 4, \"location\": \"Chicago\"},\n",
    "    {\"date\": \"2024-03-01\", \"temperature\": 17, \"humidity\": 73, \"wind_speed\": 5, \"location\": \"Chicago\"},\n",
    "    {\"date\": \"2024-03-02\", \"temperature\": 18, \"humidity\": 70, \"wind_speed\": 4, \"location\": \"Chicago\"},\n",
    "    {\"date\": \"2024-03-03\", \"temperature\": 19, \"humidity\": 69, \"wind_speed\": 4, \"location\": \"Chicago\"},\n",
    "    {\"date\": \"2024-03-04\", \"temperature\": 18, \"humidity\": 70, \"wind_speed\": 5, \"location\": \"Chicago\"},\n",
    "    {\"date\": \"2024-03-05\", \"temperature\": 17, \"humidity\": 71, \"wind_speed\": 4, \"location\": \"Chicago\"},\n",
    "    {\"date\": \"2024-03-06\", \"temperature\": 18, \"humidity\": 70, \"wind_speed\": 4, \"location\": \"Chicago\"},\n",
    "\n",
    "    # Houston (Base: temp=22, humidity=50, wind_speed=6)\n",
    "    {\"date\": \"2024-02-26\", \"temperature\": 22, \"humidity\": 50, \"wind_speed\": 6, \"location\": \"Houston\"},\n",
    "    {\"date\": \"2024-02-27\", \"temperature\": 23, \"humidity\": 49, \"wind_speed\": 6, \"location\": \"Houston\"},\n",
    "    {\"date\": \"2024-02-28\", \"temperature\": 22, \"humidity\": 51, \"wind_speed\": 7, \"location\": \"Houston\"},\n",
    "    {\"date\": \"2024-02-29\", \"temperature\": 24, \"humidity\": 50, \"wind_speed\": 6, \"location\": \"Houston\"},\n",
    "    {\"date\": \"2024-03-01\", \"temperature\": 23, \"humidity\": 52, \"wind_speed\": 5, \"location\": \"Houston\"},\n",
    "    {\"date\": \"2024-03-02\", \"temperature\": 22, \"humidity\": 50, \"wind_speed\": 6, \"location\": \"Houston\"},\n",
    "    {\"date\": \"2024-03-03\", \"temperature\": 21, \"humidity\": 53, \"wind_speed\": 6, \"location\": \"Houston\"},\n",
    "    {\"date\": \"2024-03-04\", \"temperature\": 22, \"humidity\": 50, \"wind_speed\": 7, \"location\": \"Houston\"},\n",
    "    {\"date\": \"2024-03-05\", \"temperature\": 23, \"humidity\": 49, \"wind_speed\": 6, \"location\": \"Houston\"},\n",
    "    {\"date\": \"2024-03-06\", \"temperature\": 22, \"humidity\": 51, \"wind_speed\": 6, \"location\": \"Houston\"},\n",
    "\n",
    "    # Miami (Base: temp=23, humidity=45, wind_speed=8)\n",
    "    {\"date\": \"2024-02-26\", \"temperature\": 23, \"humidity\": 45, \"wind_speed\": 8, \"location\": \"Miami\"},\n",
    "    {\"date\": \"2024-02-27\", \"temperature\": 24, \"humidity\": 44, \"wind_speed\": 8, \"location\": \"Miami\"},\n",
    "    {\"date\": \"2024-02-28\", \"temperature\": 23, \"humidity\": 46, \"wind_speed\": 9, \"location\": \"Miami\"},\n",
    "    {\"date\": \"2024-02-29\", \"temperature\": 25, \"humidity\": 45, \"wind_speed\": 8, \"location\": \"Miami\"},\n",
    "    {\"date\": \"2024-03-01\", \"temperature\": 24, \"humidity\": 47, \"wind_speed\": 7, \"location\": \"Miami\"},\n",
    "    {\"date\": \"2024-03-02\", \"temperature\": 23, \"humidity\": 45, \"wind_speed\": 8, \"location\": \"Miami\"},\n",
    "    {\"date\": \"2024-03-03\", \"temperature\": 22, \"humidity\": 48, \"wind_speed\": 8, \"location\": \"Miami\"},\n",
    "    {\"date\": \"2024-03-04\", \"temperature\": 23, \"humidity\": 45, \"wind_speed\": 9, \"location\": \"Miami\"},\n",
    "    {\"date\": \"2024-03-05\", \"temperature\": 24, \"humidity\": 44, \"wind_speed\": 8, \"location\": \"Miami\"},\n",
    "    {\"date\": \"2024-03-06\", \"temperature\": 23, \"humidity\": 46, \"wind_speed\": 8, \"location\": \"Miami\"},\n",
    "\n",
    "    # San Francisco (Base: temp=19, humidity=65, wind_speed=3)\n",
    "    {\"date\": \"2024-02-26\", \"temperature\": 19, \"humidity\": 65, \"wind_speed\": 3, \"location\": \"San Francisco\"},\n",
    "    {\"date\": \"2024-02-27\", \"temperature\": 20, \"humidity\": 64, \"wind_speed\": 3, \"location\": \"San Francisco\"},\n",
    "    {\"date\": \"2024-02-28\", \"temperature\": 19, \"humidity\": 66, \"wind_speed\": 4, \"location\": \"San Francisco\"},\n",
    "    {\"date\": \"2024-02-29\", \"temperature\": 18, \"humidity\": 65, \"wind_speed\": 3, \"location\": \"San Francisco\"},\n",
    "    {\"date\": \"2024-03-01\", \"temperature\": 19, \"humidity\": 67, \"wind_speed\": 2, \"location\": \"San Francisco\"},\n",
    "    {\"date\": \"2024-03-02\", \"temperature\": 20, \"humidity\": 65, \"wind_speed\": 3, \"location\": \"San Francisco\"},\n",
    "    {\"date\": \"2024-03-03\", \"temperature\": 21, \"humidity\": 64, \"wind_speed\": 3, \"location\": \"San Francisco\"},\n",
    "    {\"date\": \"2024-03-04\", \"temperature\": 19, \"humidity\": 65, \"wind_speed\": 4, \"location\": \"San Francisco\"},\n",
    "    {\"date\": \"2024-03-05\", \"temperature\": 20, \"humidity\": 64, \"wind_speed\": 3, \"location\": \"San Francisco\"},\n",
    "    {\"date\": \"2024-03-06\", \"temperature\": 19, \"humidity\": 66, \"wind_speed\": 3, \"location\": \"San Francisco\"},\n",
    "\n",
    "    # Seattle (Base: temp=21, humidity=58, wind_speed=6)\n",
    "    {\"date\": \"2024-02-26\", \"temperature\": 21, \"humidity\": 58, \"wind_speed\": 6, \"location\": \"Seattle\"},\n",
    "    {\"date\": \"2024-02-27\", \"temperature\": 22, \"humidity\": 57, \"wind_speed\": 6, \"location\": \"Seattle\"},\n",
    "    {\"date\": \"2024-02-28\", \"temperature\": 21, \"humidity\": 59, \"wind_speed\": 7, \"location\": \"Seattle\"},\n",
    "    {\"date\": \"2024-02-29\", \"temperature\": 23, \"humidity\": 58, \"wind_speed\": 6, \"location\": \"Seattle\"},\n",
    "    {\"date\": \"2024-03-01\", \"temperature\": 22, \"humidity\": 60, \"wind_speed\": 5, \"location\": \"Seattle\"},\n",
    "    {\"date\": \"2024-03-02\", \"temperature\": 21, \"humidity\": 58, \"wind_speed\": 6, \"location\": \"Seattle\"},\n",
    "    {\"date\": \"2024-03-03\", \"temperature\": 20, \"humidity\": 61, \"wind_speed\": 7, \"location\": \"Seattle\"},\n",
    "    {\"date\": \"2024-03-04\", \"temperature\": 21, \"humidity\": 58, \"wind_speed\": 6, \"location\": \"Seattle\"},\n",
    "    {\"date\": \"2024-03-05\", \"temperature\": 22, \"humidity\": 57, \"wind_speed\": 6, \"location\": \"Seattle\"},\n",
    "    {\"date\": \"2024-03-06\", \"temperature\": 21, \"humidity\": 59, \"wind_speed\": 7, \"location\": \"Seattle\"},\n",
    "\n",
    "    # Dallas (Base: temp=24, humidity=52, wind_speed=7)\n",
    "    {\"date\": \"2024-02-26\", \"temperature\": 24, \"humidity\": 52, \"wind_speed\": 7, \"location\": \"Dallas\"},\n",
    "    {\"date\": \"2024-02-27\", \"temperature\": 25, \"humidity\": 51, \"wind_speed\": 7, \"location\": \"Dallas\"},\n",
    "    {\"date\": \"2024-02-28\", \"temperature\": 24, \"humidity\": 53, \"wind_speed\": 8, \"location\": \"Dallas\"},\n",
    "    {\"date\": \"2024-02-29\", \"temperature\": 26, \"humidity\": 52, \"wind_speed\": 7, \"location\": \"Dallas\"},\n",
    "    {\"date\": \"2024-03-01\", \"temperature\": 25, \"humidity\": 54, \"wind_speed\": 6, \"location\": \"Dallas\"},\n",
    "    {\"date\": \"2024-03-02\", \"temperature\": 24, \"humidity\": 52, \"wind_speed\": 7, \"location\": \"Dallas\"},\n",
    "    {\"date\": \"2024-03-03\", \"temperature\": 23, \"humidity\": 55, \"wind_speed\": 7, \"location\": \"Dallas\"},\n",
    "    {\"date\": \"2024-03-04\", \"temperature\": 24, \"humidity\": 52, \"wind_speed\": 8, \"location\": \"Dallas\"},\n",
    "    {\"date\": \"2024-03-05\", \"temperature\": 25, \"humidity\": 51, \"wind_speed\": 7, \"location\": \"Dallas\"},\n",
    "    {\"date\": \"2024-03-06\", \"temperature\": 24, \"humidity\": 53, \"wind_speed\": 7, \"location\": \"Dallas\"},\n",
    "\n",
    "    # Boston (Base: temp=17, humidity=68, wind_speed=4)\n",
    "    {\"date\": \"2024-02-26\", \"temperature\": 17, \"humidity\": 68, \"wind_speed\": 4, \"location\": \"Boston\"},\n",
    "    {\"date\": \"2024-02-27\", \"temperature\": 16, \"humidity\": 69, \"wind_speed\": 4, \"location\": \"Boston\"},\n",
    "    {\"date\": \"2024-02-28\", \"temperature\": 17, \"humidity\": 68, \"wind_speed\": 5, \"location\": \"Boston\"},\n",
    "    {\"date\": \"2024-02-29\", \"temperature\": 15, \"humidity\": 70, \"wind_speed\": 4, \"location\": \"Boston\"},\n",
    "    {\"date\": \"2024-03-01\", \"temperature\": 16, \"humidity\": 71, \"wind_speed\": 5, \"location\": \"Boston\"},\n",
    "    {\"date\": \"2024-03-02\", \"temperature\": 17, \"humidity\": 68, \"wind_speed\": 4, \"location\": \"Boston\"},\n",
    "    {\"date\": \"2024-03-03\", \"temperature\": 18, \"humidity\": 67, \"wind_speed\": 4, \"location\": \"Boston\"},\n",
    "    {\"date\": \"2024-03-04\", \"temperature\": 17, \"humidity\": 68, \"wind_speed\": 5, \"location\": \"Boston\"},\n",
    "    {\"date\": \"2024-03-05\", \"temperature\": 16, \"humidity\": 69, \"wind_speed\": 4, \"location\": \"Boston\"},\n",
    "    {\"date\": \"2024-03-06\", \"temperature\": 17, \"humidity\": 68, \"wind_speed\": 4, \"location\": \"Boston\"},\n",
    "\n",
    "    # Phoenix (Base: temp=20, humidity=62, wind_speed=5)\n",
    "    {\"date\": \"2024-02-26\", \"temperature\": 20, \"humidity\": 62, \"wind_speed\": 5, \"location\": \"Phoenix\"},\n",
    "    {\"date\": \"2024-02-27\", \"temperature\": 21, \"humidity\": 61, \"wind_speed\": 5, \"location\": \"Phoenix\"},\n",
    "    {\"date\": \"2024-02-28\", \"temperature\": 20, \"humidity\": 63, \"wind_speed\": 6, \"location\": \"Phoenix\"},\n",
    "    {\"date\": \"2024-02-29\", \"temperature\": 22, \"humidity\": 62, \"wind_speed\": 5, \"location\": \"Phoenix\"},\n",
    "    {\"date\": \"2024-03-01\", \"temperature\": 21, \"humidity\": 64, \"wind_speed\": 4, \"location\": \"Phoenix\"},\n",
    "    {\"date\": \"2024-03-02\", \"temperature\": 20, \"humidity\": 62, \"wind_speed\": 5, \"location\": \"Phoenix\"},\n",
    "    {\"date\": \"2024-03-03\", \"temperature\": 19, \"humidity\": 65, \"wind_speed\": 5, \"location\": \"Phoenix\"},\n",
    "    {\"date\": \"2024-03-04\", \"temperature\": 20, \"humidity\": 62, \"wind_speed\": 6, \"location\": \"Phoenix\"},\n",
    "    {\"date\": \"2024-03-05\", \"temperature\": 21, \"humidity\": 61, \"wind_speed\": 5, \"location\": \"Phoenix\"},\n",
    "    {\"date\": \"2024-03-06\", \"temperature\": 20, \"humidity\": 63, \"wind_speed\": 5, \"location\": \"Phoenix\"}\n",
    "]\n",
    "\n",
    "# Insert the weather data into the collection\n",
    "weather.insert_many(weather_data)"
   ],
   "metadata": {
    "collapsed": false
   },
   "id": "5ea5857e18ed4672",
   "outputs": [],
   "execution_count": null
  },
  {
   "cell_type": "markdown",
   "source": [
    "## Display all documents in the collection\n",
    "\n",
    "Display all documents in the collection using the `find` method. Use a `for` loop to iterate over the cursor returned by the `find` method and print each document. Use the `pprint` function from the `pprint` module to print the documents in a more readable format"
   ],
   "metadata": {
    "collapsed": false
   },
   "id": "8cb91360ecc6b00e"
  },
  {
   "cell_type": "code",
   "source": [],
   "metadata": {
    "collapsed": false
   },
   "id": "92b89691346c93b2",
   "outputs": [],
   "execution_count": null
  },
  {
   "cell_type": "markdown",
   "source": [
    "\n",
    "## Query documents for a specific location\n",
    "Find the documents for \"New York\" using the `find` method with a query filter. Make sure the documents are sorted by date in ascending order. Use a `for` loop to iterate over the cursor returned by the `find` method and print each document. Use the `pprint` function from the `pprint` module to print the documents in a more readable format."
   ],
   "metadata": {
    "collapsed": false
   },
   "id": "c9f8c5e7a89db248"
  },
  {
   "cell_type": "code",
   "source": [],
   "metadata": {
    "collapsed": false
   },
   "id": "b4cbac02bbdc3566",
   "outputs": [],
   "execution_count": null
  },
  {
   "cell_type": "markdown",
   "source": [
    "\n",
    "## Update the  documents relative to \"Phoenix\"\n",
    "\n",
    "The humidity sensor relative to \"Phoenix\" on the \"2024-03-05\" was found to be faulty and the humidity value should be 65. Update the document using the `update_one` method and update the document in place. You can use the `set` operator to update the field.\n"
   ],
   "metadata": {
    "collapsed": false
   },
   "id": "2fbd82f30dc2fbbe"
  },
  {
   "cell_type": "code",
   "source": [],
   "metadata": {
    "collapsed": false
   },
   "id": "f1bfd8566d8c2518",
   "outputs": [],
   "execution_count": null
  },
  {
   "cell_type": "markdown",
   "source": [
    "## Find the maximum temperature\n",
    "\n",
    "Find the maximum temperature between all documents in the collection."
   ],
   "metadata": {
    "collapsed": false
   },
   "id": "af28d39d8d0d5241"
  },
  {
   "cell_type": "code",
   "source": [],
   "metadata": {
    "collapsed": false
   },
   "id": "7bbd3401c309d701",
   "outputs": [],
   "execution_count": null
  },
  {
   "cell_type": "markdown",
   "source": [
    "## Find the minimum humidity\n",
    "\n",
    "Find the minimum humidity between all documents in the collection.\n"
   ],
   "metadata": {
    "collapsed": false
   },
   "id": "1d916cdccc4a433a"
  },
  {
   "cell_type": "code",
   "source": [],
   "metadata": {
    "collapsed": false
   },
   "id": "bf87f0cb19e95781",
   "outputs": [],
   "execution_count": null
  },
  {
   "cell_type": "markdown",
   "source": [
    "## Find the average temperature\n",
    "find the average temperature using the aggregate function. See the aggregate function in the [https://www.mongodb.com/docs/manual/reference/operator/aggregation/](https://www.mongodb.com/docs/manual/reference/operator/aggregation/)"
   ],
   "metadata": {
    "collapsed": false
   },
   "id": "19e6b3f8ffe7ef50"
  },
  {
   "cell_type": "code",
   "source": "",
   "metadata": {
    "collapsed": false
   },
   "id": "a92e34ada7c5b6aa",
   "outputs": [],
   "execution_count": null
  },
  {
   "metadata": {},
   "cell_type": "markdown",
   "source": "Find the average temperature for each location",
   "id": "4d513013e6349651"
  },
  {
   "metadata": {},
   "cell_type": "code",
   "source": "",
   "id": "c2de70b6ae0365fa",
   "outputs": [],
   "execution_count": null
  },
  {
   "cell_type": "markdown",
   "source": [
    "## Delete the documents relative to \"Boston\"\n",
    "\n",
    "Check that the documents wer deleted using, e.g., the delete_count attribute of the result object."
   ],
   "metadata": {
    "collapsed": false
   },
   "id": "b1ab434db0fa065a"
  },
  {
   "cell_type": "code",
   "source": [],
   "metadata": {
    "collapsed": false
   },
   "id": "38092c656d4199eb",
   "outputs": [],
   "execution_count": null
  },
  {
   "cell_type": "markdown",
   "source": [
    "# An embeded document case\n",
    "\n",
    "Consider the following data"
   ],
   "metadata": {
    "collapsed": false
   },
   "id": "33d0d850ad076572"
  },
  {
   "cell_type": "code",
   "source": [
    "import pymongo\n",
    "\n",
    "# Connect to MongoDB\n",
    "client = pymongo.MongoClient(\"mongodb://localhost:27017/\")\n",
    "db = client.weatherdb\n",
    "weather2 = db.weather2\n",
    "\n",
    "# Sample data - list of documents with weather information for multiple dates and locations\n",
    "weather_data = [\n",
    "    {\"location\": \"New York\", \"dates\": [\n",
    "        {\"date\": \"2024-02-26\", \"temperature\": 20, \"humidity\": 60, \"wind_speed\": 5},\n",
    "        {\"date\": \"2024-02-27\", \"temperature\": 22, \"humidity\": 65, \"wind_speed\": 6},\n",
    "        {\"date\": \"2024-02-28\", \"temperature\": 18, \"humidity\": 55, \"wind_speed\": 4}\n",
    "    ]},\n",
    "    {\"location\": \"Los Angeles\", \"dates\": [\n",
    "        {\"date\": \"2024-02-26\", \"temperature\": 25, \"humidity\": 55, \"wind_speed\": 7},\n",
    "        {\"date\": \"2024-02-27\", \"temperature\": 27, \"humidity\": 50, \"wind_speed\": 6},\n",
    "        {\"date\": \"2024-02-28\", \"temperature\": 24, \"humidity\": 58, \"wind_speed\": 5}\n",
    "    ]},\n",
    "    {\"location\": \"Chicago\", \"dates\": [\n",
    "        {\"date\": \"2024-02-26\", \"temperature\": 18, \"humidity\": 70, \"wind_speed\": 4},\n",
    "        {\"date\": \"2024-02-27\", \"temperature\": 20, \"humidity\": 68, \"wind_speed\": 3},\n",
    "        {\"date\": \"2024-02-28\", \"temperature\": 16, \"humidity\": 72, \"wind_speed\": 5}\n",
    "    ]},\n",
    "    {\"location\": \"Houston\", \"dates\": [\n",
    "        {\"date\": \"2024-02-26\", \"temperature\": 22, \"humidity\": 50, \"wind_speed\": 6},\n",
    "        {\"date\": \"2024-02-27\", \"temperature\": 24, \"humidity\": 48, \"wind_speed\": 7},\n",
    "        {\"date\": \"2024-02-28\", \"temperature\": 21, \"humidity\": 52, \"wind_speed\": 5}\n",
    "    ]},\n",
    "    # Add more locations with multiple dates and weather data\n",
    "]\n",
    "\n",
    "weather2.insert_many(weather_data)"
   ],
   "metadata": {
    "collapsed": false
   },
   "id": "873d131672054177",
   "outputs": [],
   "execution_count": null
  },
  {
   "cell_type": "markdown",
   "source": [
    "## Find the average humidity for each location\n",
    "\n",
    "See the aggregate function  and the project operator. This operator allows you to specify which fields you want to return."
   ],
   "metadata": {
    "collapsed": false
   },
   "id": "9d443eb959b51ced"
  },
  {
   "cell_type": "code",
   "source": [],
   "metadata": {
    "collapsed": false
   },
   "id": "8b44b1b5bef99aaf",
   "outputs": [],
   "execution_count": null
  },
  {
   "cell_type": "markdown",
   "source": [
    "## Find the mean humidity for each date\n",
    "\n",
    "Suggestion:  see the `unwind` operator which is used to deconstruct an array field from the input documents to output a document for each element of the array. Each output document is a version of the input document with the value of the array field replaced by the element. This stage is particularly useful for working with documents that contain an array of subdocuments or values, allowing you to perform operations on each element of the array as if it were part of a separate document. "
   ],
   "metadata": {
    "collapsed": false
   },
   "id": "7ba80085b452cdb"
  },
  {
   "cell_type": "code",
   "source": [],
   "metadata": {
    "collapsed": false
   },
   "id": "3373f6d75b8b7c4e",
   "outputs": [],
   "execution_count": null
  },
  {
   "cell_type": "markdown",
   "source": [
    "## Find the maximum temperature for each location"
   ],
   "metadata": {
    "collapsed": false
   },
   "id": "bab6b4836fecf414"
  },
  {
   "cell_type": "code",
   "source": [],
   "metadata": {
    "collapsed": false
   },
   "id": "1f2590d32ee62779",
   "outputs": [],
   "execution_count": null
  }
 ],
 "metadata": {
  "kernelspec": {
   "display_name": "Python 3",
   "language": "python",
   "name": "python3"
  },
  "language_info": {
   "codemirror_mode": {
    "name": "ipython",
    "version": 2
   },
   "file_extension": ".py",
   "mimetype": "text/x-python",
   "name": "python",
   "nbconvert_exporter": "python",
   "pygments_lexer": "ipython2",
   "version": "2.7.6"
  }
 },
 "nbformat": 4,
 "nbformat_minor": 5
}
