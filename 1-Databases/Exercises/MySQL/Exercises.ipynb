{
 "cells": [
  {
   "cell_type": "markdown",
   "source": [
    "# Exercises\n",
    "\n",
    "Consider the database created on the [01_relationaldb.ipynb notebook](../../1-Databases/01_relationaldb.ipynb)."
   ],
   "metadata": {
    "collapsed": false
   },
   "id": "f5f8a69cdb1b177e"
  },
  {
   "cell_type": "markdown",
   "source": [
    "\n",
    "# Create a few more locations, sensors and readings."
   ],
   "metadata": {
    "collapsed": false
   },
   "id": "dd477ba569a8445c"
  },
  {
   "cell_type": "code",
   "outputs": [],
   "source": [],
   "metadata": {
    "collapsed": false,
    "ExecuteTime": {
     "end_time": "2024-02-18T23:45:54.659891Z",
     "start_time": "2024-02-18T23:45:54.654076Z"
    }
   },
   "id": "b17189685ee206ab",
   "execution_count": 3
  },
  {
   "cell_type": "markdown",
   "source": "# Find records where CPU values were greater then 50%. If the result is empty, diminish the threshold until you get some results.",
   "metadata": {
    "collapsed": false
   },
   "id": "7c00f012d2606c0f"
  },
  {
   "cell_type": "code",
   "outputs": [],
   "source": [],
   "metadata": {
    "collapsed": false,
    "ExecuteTime": {
     "end_time": "2024-02-18T23:45:57.356823Z",
     "start_time": "2024-02-18T23:45:57.354046Z"
    }
   },
   "id": "42a5556aa5bb971f",
   "execution_count": 3
  },
  {
   "cell_type": "markdown",
   "source": [
    "# Find records where CPU values were greater then 50% and create an alert in that case. The description should include the CPU value, the timestamp and the name and id of the sensor, and the name and id of the location.\n",
    "\n",
    "note: 50% might not be a good threshold as the resulting query might be empty."
   ],
   "metadata": {
    "collapsed": false
   },
   "id": "a46d74af31705877"
  },
  {
   "cell_type": "code",
   "outputs": [],
   "source": [],
   "metadata": {
    "collapsed": false,
    "ExecuteTime": {
     "end_time": "2024-02-18T23:46:00.879695Z",
     "start_time": "2024-02-18T23:46:00.854212Z"
    }
   },
   "id": "6ddcc7e2c2bd1964",
   "execution_count": 3
  },
  {
   "cell_type": "markdown",
   "source": [
    "# Find the locations where the in the last 10 minutes there was an alert.\n",
    "\n",
    "Suggestion: see the now() SQL function "
   ],
   "metadata": {
    "collapsed": false
   },
   "id": "7ecc5ba662a3f9e4"
  },
  {
   "cell_type": "code",
   "outputs": [],
   "source": [],
   "metadata": {
    "collapsed": false,
    "ExecuteTime": {
     "end_time": "2024-02-18T23:41:49.880262Z",
     "start_time": "2024-02-18T23:41:49.877607Z"
    }
   },
   "id": "e84e122fe0395e11",
   "execution_count": 2
  },
  {
   "cell_type": "markdown",
   "source": [
    "# Find the sensor with the maximum number of alerts.\n",
    "\n",
    "Suggestion: see the `GROUP BY`, `ORDER BY` and `LIMIT` clauses"
   ],
   "metadata": {
    "collapsed": false
   },
   "id": "a20f8e676ae2b959"
  },
  {
   "metadata": {},
   "cell_type": "code",
   "outputs": [],
   "execution_count": null,
   "source": "",
   "id": "9734d76c8ea677e"
  },
  {
   "cell_type": "markdown",
   "source": [
    "# Find the sensors Average CPU value in the last 10 minutes.\n",
    "\n",
    "Suggestion: see the `AVG` SQL function, and the `GROUP BY` clause."
   ],
   "metadata": {
    "collapsed": false
   },
   "id": "85abe770b5b3d52b"
  },
  {
   "cell_type": "code",
   "outputs": [],
   "source": [],
   "metadata": {
    "collapsed": false
   },
   "id": "fbb2627f589e7f61",
   "execution_count": null
  }
 ],
 "metadata": {
  "kernelspec": {
   "display_name": "Python 3",
   "language": "python",
   "name": "python3"
  },
  "language_info": {
   "codemirror_mode": {
    "name": "ipython",
    "version": 2
   },
   "file_extension": ".py",
   "mimetype": "text/x-python",
   "name": "python",
   "nbconvert_exporter": "python",
   "pygments_lexer": "ipython2",
   "version": "2.7.6"
  }
 },
 "nbformat": 4,
 "nbformat_minor": 5
}
