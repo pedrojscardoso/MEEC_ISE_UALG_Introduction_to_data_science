{
 "cells": [
  {
   "metadata": {},
   "cell_type": "markdown",
   "source": [
    "_____\n",
    "\n",
    "<table align=\"left\" width=100%>\n",
    "    <td>\n",
    "        <div style=\"text-align: center;\">\n",
    "          <img src=\"./images/bar.png\" alt=\"entidades financiadoras\"/>\n",
    "        </div>\n",
    "    </td>\n",
    "    <td>\n",
    "        <p style=\"text-align: center; font-size:24px;\"><b>Introduction to Data Science</b></p>\n",
    "        <p style=\"text-align: center; font-size:18px;\"><b>Master in Electrical and Computer Engineering</b></p>\n",
    "        <p style=\"text-align: center; font-size:14px;\"><b>Pedro Cardoso (pcardoso@ualg.pt)</b></p>\n",
    "    </td>\n",
    "</table>\n",
    "\n",
    "_____"
   ]
  },
  {
   "metadata": {},
   "cell_type": "markdown",
   "source": [
    "# PyMongo\n",
    "The first step when working with PyMongo is to create a MongoClient to the running mongod instance.\n",
    "\n",
    "Make sure you have a MongoDB instance running - see [https://www.mongodb.com/docs/manual/administration/install-community/](https://www.mongodb.com/docs/manual/administration/install-community/)"
   ]
  },
  {
   "metadata": {},
   "cell_type": "code",
   "outputs": [],
   "execution_count": null,
   "source": [
    "try:\n",
    "    from pymongo import MongoClient\n",
    "except:\n",
    "    !pip install pymongo\n",
    "    from pymongo import MongoClient\n",
    "\n",
    "try:\n",
    "    import psutil\n",
    "except:\n",
    "    !pip install psutil\n",
    "    import psutil"
   ]
  },
  {
   "cell_type": "markdown",
   "metadata": {
    "collapsed": false,
    "jupyter": {
     "outputs_hidden": false
    }
   },
   "source": [
    "Being a local server, you can create a client in several ways."
   ]
  },
  {
   "cell_type": "code",
   "execution_count": 21,
   "metadata": {
    "ExecuteTime": {
     "end_time": "2025-02-18T12:49:04.434894Z",
     "start_time": "2025-02-18T12:49:04.403730Z"
    },
    "execution": {
     "iopub.execute_input": "2025-02-18T21:35:42.021263Z",
     "iopub.status.busy": "2025-02-18T21:35:42.020817Z",
     "iopub.status.idle": "2025-02-18T21:35:42.039488Z",
     "shell.execute_reply": "2025-02-18T21:35:42.038547Z",
     "shell.execute_reply.started": "2025-02-18T21:35:42.021240Z"
    }
   },
   "outputs": [
    {
     "data": {
      "text/plain": [
       "MongoClient(host=['localhost:27017'], document_class=dict, tz_aware=False, connect=True)"
      ]
     },
     "execution_count": 21,
     "metadata": {},
     "output_type": "execute_result"
    }
   ],
   "source": [
    "client = MongoClient()\n",
    "# same as \n",
    "#  client = MongoClient('localhost', 27017)\n",
    "# or \n",
    "#  client = MongoClient('mongodb://localhost:27017/')\n",
    "\n",
    "client"
   ]
  },
  {
   "cell_type": "markdown",
   "metadata": {},
   "source": [
    "## Databases \n",
    "A single client instance of MongoDB can support multiple independent databases. When working with PyMongo you access databases using **attribute style access** on MongoClient instances.\n",
    "\n",
    "So, the next line will \"connect\" to (or create if it does not exist) `sensorsDB` database.\n",
    "\n",
    "This also means that you have to be very careful with the naming."
   ]
  },
  {
   "cell_type": "code",
   "execution_count": 24,
   "metadata": {
    "ExecuteTime": {
     "end_time": "2025-02-18T12:49:30.898685Z",
     "start_time": "2025-02-18T12:49:30.896717Z"
    },
    "execution": {
     "iopub.execute_input": "2025-02-18T21:36:52.335118Z",
     "iopub.status.busy": "2025-02-18T21:36:52.334590Z",
     "iopub.status.idle": "2025-02-18T21:36:52.339765Z",
     "shell.execute_reply": "2025-02-18T21:36:52.339081Z",
     "shell.execute_reply.started": "2025-02-18T21:36:52.335093Z"
    }
   },
   "outputs": [],
   "source": [
    "db = client.sensorsDB"
   ]
  },
  {
   "cell_type": "markdown",
   "metadata": {},
   "source": [
    "## Collections \n",
    "A collection is a group of documents stored in MongoDB, and can be thought of as roughly the equivalent of a table in a relational database. Getting a collection in PyMongo works the same as getting a database."
   ]
  },
  {
   "cell_type": "code",
   "execution_count": 27,
   "metadata": {
    "ExecuteTime": {
     "end_time": "2025-02-18T12:51:14.174555Z",
     "start_time": "2025-02-18T12:51:14.171520Z"
    },
    "execution": {
     "iopub.execute_input": "2025-02-18T21:37:11.640018Z",
     "iopub.status.busy": "2025-02-18T21:37:11.639657Z",
     "iopub.status.idle": "2025-02-18T21:37:11.650934Z",
     "shell.execute_reply": "2025-02-18T21:37:11.649815Z",
     "shell.execute_reply.started": "2025-02-18T21:37:11.639997Z"
    }
   },
   "outputs": [],
   "source": [
    "sensors_location = db.sensors_locations"
   ]
  },
  {
   "cell_type": "markdown",
   "metadata": {},
   "source": [
    "An important note about collections (and databases) in MongoDB is that they are created lazily - none of the above commands have actually performed any operations on the MongoDB server. Collections and databases are created when the first document is inserted into them."
   ]
  },
  {
   "cell_type": "markdown",
   "metadata": {},
   "source": [
    "# Insert documents\n",
    "\n",
    "To **insert a document** into a collection we can use the `insert_one()` method.\n",
    "\n",
    "One way is to create a document and pass it to the insert_one() method."
   ]
  },
  {
   "cell_type": "code",
   "execution_count": 29,
   "metadata": {
    "ExecuteTime": {
     "end_time": "2025-02-18T12:51:17.601206Z",
     "start_time": "2025-02-18T12:51:17.598766Z"
    },
    "execution": {
     "iopub.execute_input": "2025-02-18T21:37:28.735825Z",
     "iopub.status.busy": "2025-02-18T21:37:28.735071Z",
     "iopub.status.idle": "2025-02-18T21:37:28.750127Z",
     "shell.execute_reply": "2025-02-18T21:37:28.749765Z",
     "shell.execute_reply.started": "2025-02-18T21:37:28.735800Z"
    }
   },
   "outputs": [],
   "source": [
    "data = {\n",
    "        'location_name': 'Prometheus Server', \n",
    "        'description' : 'Prometheus Server @ lab. 163 / ISE /UAlg',\n",
    "        'sensor': [ \n",
    "                    {\n",
    "                        'sensor_name' : 'cpu_sensor', \n",
    "                        'unit' : 'percent'\n",
    "                    },\n",
    "                    {\n",
    "                        'sensor_name' : 'mem_sensor', \n",
    "                        'unit' : 'percent'\n",
    "                    }\n",
    "             ]\n",
    "       }"
   ]
  },
  {
   "cell_type": "markdown",
   "metadata": {
    "collapsed": false,
    "jupyter": {
     "outputs_hidden": false
    }
   },
   "source": [
    "The `insert_one()` method takes a document as its argument and returns an instance of the inserted document."
   ]
  },
  {
   "cell_type": "code",
   "execution_count": 31,
   "metadata": {
    "ExecuteTime": {
     "end_time": "2025-02-18T12:51:31.899974Z",
     "start_time": "2025-02-18T12:51:31.881125Z"
    },
    "execution": {
     "iopub.execute_input": "2025-02-18T21:38:15.405449Z",
     "iopub.status.busy": "2025-02-18T21:38:15.405105Z",
     "iopub.status.idle": "2025-02-18T21:38:15.443907Z",
     "shell.execute_reply": "2025-02-18T21:38:15.443334Z",
     "shell.execute_reply.started": "2025-02-18T21:38:15.405426Z"
    }
   },
   "outputs": [
    {
     "data": {
      "text/plain": [
       "InsertOneResult(ObjectId('67b4fdc7e934e3bfa66c79e7'), acknowledged=True)"
      ]
     },
     "execution_count": 31,
     "metadata": {},
     "output_type": "execute_result"
    }
   ],
   "source": [
    "x = sensors_location.insert_one(data)\n",
    "x"
   ]
  },
  {
   "cell_type": "markdown",
   "metadata": {
    "collapsed": false,
    "jupyter": {
     "outputs_hidden": false
    }
   },
   "source": [
    "Further, we can get the `_id` of the inserted document. This is relevant when we want to use it later to update or delete the document or to relate it to other documents.\n",
    "\n",
    "The `_id` is a unique identifier for the document and is generated by the MongoDB server. The value is a 12-byte `ObjectId` which is generated based on the following components:\n",
    "\n",
    "- Timestamp: The first 4 bytes are a timestamp, representing the ObjectId's creation, measured in seconds since the Unix epoch. This provides the `ObjectId` with a natural order by time of creation.\n",
    "\n",
    "- Machine Identifier: The next 3 bytes are a unique identifier for the machine or process that generated the `ObjectId`. In older versions of MongoDB, this was the machine's hostname; in newer versions, it's a random value generated once per process. This ensures that ObjectIds generated on different machines or processes are likely to be unique.\n",
    "\n",
    "- Process ID: The next 2 bytes are the process ID that generated the `ObjectId`. This further disambiguates ObjectIds created simultaneously on the same machine or by processes with the same machine identifier.\n",
    "\n",
    "- Counter: The last 3 bytes are a counter, starting with a random value. This counter increments with each new ObjectId generated. It helps ensure uniqueness for ObjectIds created in the same second, on the same machine, by the same process.\n",
    "\n",
    "The combination of these components ensures that each ObjectId is unique across different machines, processes, and moments in time. This system avoids the need for a more costly centralized ID generation scheme and makes it easy to generate IDs in a distributed environment, which is crucial for the scalability of MongoDB.\n",
    "\n",
    "The 12-byte ObjectId format is compact and efficient, both in terms of storage space and performance. It also provides some level of timestamp-based sorting, which can be useful in certain applications."
   ]
  },
  {
   "cell_type": "code",
   "execution_count": 33,
   "metadata": {
    "ExecuteTime": {
     "end_time": "2025-02-18T12:52:24.459107Z",
     "start_time": "2025-02-18T12:52:24.455486Z"
    },
    "execution": {
     "iopub.execute_input": "2025-02-18T21:39:42.734334Z",
     "iopub.status.busy": "2025-02-18T21:39:42.734009Z",
     "iopub.status.idle": "2025-02-18T21:39:42.740473Z",
     "shell.execute_reply": "2025-02-18T21:39:42.739633Z",
     "shell.execute_reply.started": "2025-02-18T21:39:42.734314Z"
    }
   },
   "outputs": [
    {
     "data": {
      "text/plain": [
       "ObjectId('67b4fdc7e934e3bfa66c79e7')"
      ]
     },
     "execution_count": 33,
     "metadata": {},
     "output_type": "execute_result"
    }
   ],
   "source": [
    "location_id = x.inserted_id\n",
    "location_id"
   ]
  },
  {
   "cell_type": "markdown",
   "metadata": {},
   "source": [
    "Let us see what is on the `sensors_location` collection. To list all documents in the collection we can use the `find()` method which returns a cursor that can be used to iterate over the documents."
   ]
  },
  {
   "cell_type": "code",
   "execution_count": 35,
   "metadata": {
    "ExecuteTime": {
     "end_time": "2025-02-18T12:53:34.522815Z",
     "start_time": "2025-02-18T12:53:34.519161Z"
    },
    "execution": {
     "iopub.execute_input": "2025-02-18T21:40:41.133979Z",
     "iopub.status.busy": "2025-02-18T21:40:41.133557Z",
     "iopub.status.idle": "2025-02-18T21:40:41.143958Z",
     "shell.execute_reply": "2025-02-18T21:40:41.143117Z",
     "shell.execute_reply.started": "2025-02-18T21:40:41.133957Z"
    }
   },
   "outputs": [
    {
     "name": "stdout",
     "output_type": "stream",
     "text": [
      "{'_id': ObjectId('67b4fdc7e934e3bfa66c79e7'),\n",
      " 'description': 'Prometheus Server @ lab. 163 / ISE /UAlg',\n",
      " 'location_name': 'Prometheus Server',\n",
      " 'sensor': [{'sensor_name': 'cpu_sensor', 'unit': 'percent'},\n",
      "            {'sensor_name': 'mem_sensor', 'unit': 'percent'}]}\n"
     ]
    }
   ],
   "source": [
    "from pprint import *\n",
    "\n",
    "for doc in sensors_location.find():\n",
    "    pprint(doc)"
   ]
  },
  {
   "cell_type": "markdown",
   "metadata": {},
   "source": [
    "And now, on the `sensors_readings`collection, we can insert on document for each reading of the sensor.\n",
    "\n",
    "Note: we'll use the `datetime` module to generate the timestamp and the `psutil` module to generate the value. The latest, psutil, is a package that provides access to many different system utilities, e.g., CPU usage, memory usage, disk usage, network usage etc. "
   ]
  },
  {
   "cell_type": "code",
   "execution_count": 37,
   "metadata": {
    "ExecuteTime": {
     "end_time": "2025-02-18T12:54:19.067897Z",
     "start_time": "2025-02-18T12:53:57.907902Z"
    },
    "execution": {
     "iopub.execute_input": "2025-02-18T21:42:23.561927Z",
     "iopub.status.busy": "2025-02-18T21:42:23.561530Z",
     "iopub.status.idle": "2025-02-18T21:42:44.886879Z",
     "shell.execute_reply": "2025-02-18T21:42:44.884738Z",
     "shell.execute_reply.started": "2025-02-18T21:42:23.561904Z"
    }
   },
   "outputs": [
    {
     "name": "stdout",
     "output_type": "stream",
     "text": [
      "........................................................................................................................................................................................................"
     ]
    }
   ],
   "source": [
    "import datetime\n",
    "import psutil\n",
    "\n",
    "for _ in range(200):\n",
    "    # creat the document\n",
    "    data = {\n",
    "           'sensor' : {'location_id': location_id, \n",
    "                       'sensor_name' : 'cpu_sensor' \n",
    "                      },\n",
    "            'value' : psutil.cpu_percent(interval=0.1),\n",
    "            'units' : 'percent',\n",
    "            'timestamp' : datetime.datetime.utcnow()\n",
    "           }\n",
    "    # send the document to the database\n",
    "    res = db.sensors_readings.insert_one(data)\n",
    "    print('.', end='')   "
   ]
  },
  {
   "cell_type": "markdown",
   "metadata": {},
   "source": [
    "let us store the last `_id` for latter"
   ]
  },
  {
   "cell_type": "code",
   "execution_count": null,
   "metadata": {
    "ExecuteTime": {
     "end_time": "2025-02-18T12:54:26.501557Z",
     "start_time": "2025-02-18T12:54:26.497021Z"
    }
   },
   "outputs": [],
   "source": [
    "_id = res.inserted_id\n",
    "_id"
   ]
  },
  {
   "cell_type": "markdown",
   "metadata": {},
   "source": [
    "To list all inserted readings, we can use again the `find()` method and force the cursor to return all documents by calling the `list()` function"
   ]
  },
  {
   "cell_type": "code",
   "execution_count": null,
   "metadata": {
    "ExecuteTime": {
     "end_time": "2025-02-18T12:54:33.907564Z",
     "start_time": "2025-02-18T12:54:33.794743Z"
    },
    "scrolled": true
   },
   "outputs": [],
   "source": [
    "list(db.sensors_readings.find())"
   ]
  },
  {
   "cell_type": "markdown",
   "metadata": {},
   "source": [
    "We can also list the inserted readings, sorted by value and timestamp. The `sort()` method allows us to sort the results by one or more fields, in this case `value` and `timestamp`. It receives a list of tuples with the field name and the sort order."
   ]
  },
  {
   "cell_type": "code",
   "execution_count": null,
   "metadata": {
    "ExecuteTime": {
     "end_time": "2025-02-18T12:54:46.926141Z",
     "start_time": "2025-02-18T12:54:46.810038Z"
    },
    "scrolled": true
   },
   "outputs": [],
   "source": [
    "list(\n",
    "    db.sensors_readings.find().sort([\n",
    "        ('value',-1),\n",
    "        ('timestamp', -1)]\n",
    "    )\n",
    ")"
   ]
  },
  {
   "cell_type": "markdown",
   "metadata": {},
   "source": [
    "Given the `ObjectId` (we stored ir earlier), it is possible to get one specific document"
   ]
  },
  {
   "cell_type": "code",
   "execution_count": null,
   "metadata": {
    "ExecuteTime": {
     "end_time": "2025-02-18T12:55:33.554515Z",
     "start_time": "2025-02-18T12:55:33.550103Z"
    }
   },
   "outputs": [],
   "source": [
    "pprint(list(db.sensors_readings.find({'_id': _id})))"
   ]
  },
  {
   "cell_type": "markdown",
   "metadata": {
    "collapsed": false,
    "jupyter": {
     "outputs_hidden": false
    }
   },
   "source": [
    "Or find all documents with a value greater than 50%"
   ]
  },
  {
   "cell_type": "code",
   "execution_count": null,
   "metadata": {
    "ExecuteTime": {
     "end_time": "2025-02-18T12:55:45.779423Z",
     "start_time": "2025-02-18T12:55:45.771658Z"
    },
    "collapsed": false,
    "jupyter": {
     "outputs_hidden": false
    }
   },
   "outputs": [],
   "source": [
    "query = {'value': {'$gt': 50}}\n",
    "pprint(list(db.sensors_readings.find(query)))"
   ]
  },
  {
   "cell_type": "markdown",
   "metadata": {
    "collapsed": false,
    "jupyter": {
     "outputs_hidden": false
    }
   },
   "source": [
    "In the last 5 minutes..."
   ]
  },
  {
   "cell_type": "code",
   "execution_count": null,
   "metadata": {
    "ExecuteTime": {
     "end_time": "2025-02-18T12:56:00.973420Z",
     "start_time": "2025-02-18T12:56:00.952754Z"
    },
    "collapsed": false,
    "jupyter": {
     "outputs_hidden": false
    }
   },
   "outputs": [],
   "source": [
    "query = {'timestamp': {'$gt': datetime.datetime.utcnow() - datetime.timedelta(minutes=5)}}\n",
    "\n",
    "pprint(list(db.sensors_readings.find(query)))"
   ]
  },
  {
   "cell_type": "markdown",
   "metadata": {},
   "source": [
    "## Embending of information I\n",
    "In this approach, a single document contains **multiple sensors with a single read**. Also, embedded location info."
   ]
  },
  {
   "cell_type": "code",
   "execution_count": null,
   "metadata": {
    "ExecuteTime": {
     "end_time": "2025-02-18T12:57:13.330173Z",
     "start_time": "2025-02-18T12:56:52.146764Z"
    }
   },
   "outputs": [],
   "source": [
    "import datetime\n",
    "import psutil\n",
    "\n",
    "for _ in range(200):\n",
    "    data = {\n",
    "        'location_name': 'Prometheus Server', \n",
    "        'description' : 'Prometheus Server @ lab. 163 / ISE /UAlg',\n",
    "        'sensors' : [ \n",
    "               {\n",
    "                   'sensor_name' : 'mem_sensor', \n",
    "                   'value' : psutil.virtual_memory().percent,\n",
    "                   'units' : 'percent'\n",
    "               },\n",
    "               {\n",
    "                   'sensor_name' : 'cpu_sensor', \n",
    "                   'value' : psutil.cpu_percent(interval=0.1),\n",
    "                   'units' : 'percent'\n",
    "               }\n",
    "           ],\n",
    "        'timestamp' : datetime.datetime.utcnow()\n",
    "    }\n",
    "    db.sensors_readings.insert_one(data)\n",
    "    print('.', end='')"
   ]
  },
  {
   "cell_type": "markdown",
   "metadata": {},
   "source": [
    "Get the last insert. In this case we use the `limit(1)` method to limit the number of documents returned. Since the list is sorted by timestamp, the first one will be the last inserted"
   ]
  },
  {
   "cell_type": "code",
   "execution_count": null,
   "metadata": {
    "ExecuteTime": {
     "end_time": "2025-02-18T12:57:13.354725Z",
     "start_time": "2025-02-18T12:57:13.349506Z"
    }
   },
   "outputs": [],
   "source": [
    "pprint(\n",
    "    list(\n",
    "        db.sensors_readings.find()\\\n",
    "            .sort([('timestamp', -1)])\\\n",
    "            .limit(1)\n",
    "    )\n",
    ")"
   ]
  },
  {
   "cell_type": "markdown",
   "metadata": {},
   "source": [
    "## Embending of information II\n",
    "A single document contains multiple sensors - and multiple reads."
   ]
  },
  {
   "cell_type": "code",
   "execution_count": null,
   "metadata": {
    "ExecuteTime": {
     "end_time": "2025-02-18T12:57:39.403538Z",
     "start_time": "2025-02-18T12:57:39.398961Z"
    }
   },
   "outputs": [],
   "source": [
    "data = {\n",
    "    'location_name': 'Prometheus Server', \n",
    "    'description' : 'Prometheus Server @ lab. 163 / ISE /UAlg',\n",
    "    'sensors' : [ \n",
    "           {\n",
    "               'sensor_name' : 'mem_sensor', \n",
    "               'values' :[] ,\n",
    "               'units' : 'percent'\n",
    "           },\n",
    "           {\n",
    "               'sensor_name' : 'cpu_sensor', \n",
    "               'values' : [],\n",
    "               'units' : 'percent'\n",
    "           }\n",
    "       ],\n",
    "}\n",
    "\n",
    "# get the readingd id to latter add values to the readings\n",
    "readings_id = db.sensors_readings.insert_one(data).inserted_id\n",
    "readings_id"
   ]
  },
  {
   "cell_type": "markdown",
   "metadata": {},
   "source": [
    "However, in this implementation the **full document is upload each time a new read is made**. Which means that we need to update the document in the database each time a new read is made. To do this, we use the `update_one()` method which takes 2 arguments: the query and the update. A third argument are options which you can find in the documentation ([https://www.mongodb.com/docs/manual/reference/method/db.collection.update/](https://www.mongodb.com/docs/manual/reference/method/db.collection.update/))."
   ]
  },
  {
   "cell_type": "code",
   "execution_count": null,
   "metadata": {
    "ExecuteTime": {
     "end_time": "2025-02-18T12:57:49.786774Z",
     "start_time": "2025-02-18T12:57:48.391533Z"
    }
   },
   "outputs": [],
   "source": [
    "for _ in range(100):\n",
    "    mem = psutil.virtual_memory().percent\n",
    "    cpu = psutil.cpu_percent(interval=0.01)\n",
    "\n",
    "    # update the data\n",
    "    data['sensors'][0]['values'].append({'value': mem, 'timestamp' : datetime.datetime.utcnow()})\n",
    "    data['sensors'][1]['values'].append({'value': cpu, 'timestamp' : datetime.datetime.utcnow()})\n",
    "    # update the database, sending the full document again!!\n",
    "    db.sensors_readings.update_one(\n",
    "        {'_id': readings_id}, \n",
    "        {'$set': data}\n",
    "    )\n",
    "    \n",
    "    print('.', end='')"
   ]
  },
  {
   "cell_type": "markdown",
   "metadata": {},
   "source": [
    "The last reading is "
   ]
  },
  {
   "cell_type": "code",
   "execution_count": null,
   "metadata": {
    "ExecuteTime": {
     "end_time": "2025-02-18T12:58:05.353186Z",
     "start_time": "2025-02-18T12:58:05.342584Z"
    },
    "scrolled": true
   },
   "outputs": [],
   "source": [
    "x = list(\n",
    "    db.sensors_readings.find() \\\n",
    "        .sort([('_id', -1)]) \\\n",
    "        .limit(1)\n",
    ")\n",
    "x"
   ]
  },
  {
   "cell_type": "markdown",
   "metadata": {},
   "source": [
    "to get a value from it we can \"navigate\" the array/dictionary"
   ]
  },
  {
   "cell_type": "code",
   "execution_count": null,
   "metadata": {
    "ExecuteTime": {
     "end_time": "2025-02-18T12:58:17.137983Z",
     "start_time": "2025-02-18T12:58:17.134948Z"
    }
   },
   "outputs": [],
   "source": [
    "x[0]['sensors'][0]['values'][0]['value']"
   ]
  },
  {
   "cell_type": "markdown",
   "metadata": {},
   "source": [
    "## Embending of information III\n",
    "As previously, a single document contains multiple sensors - and multiple reads. But now, only the fields we need are updated. "
   ]
  },
  {
   "cell_type": "code",
   "execution_count": null,
   "metadata": {
    "ExecuteTime": {
     "end_time": "2025-02-18T12:58:23.699154Z",
     "start_time": "2025-02-18T12:58:23.695687Z"
    }
   },
   "outputs": [],
   "source": [
    "import datetime\n",
    "import psutil\n",
    "\n",
    "data = {\n",
    "    'location_name': 'Prometheus Server', \n",
    "    'description' : 'Prometheus Server @ lab. 163 / ISE /UAlg', \n",
    "    'sensors' : [ \n",
    "           {\n",
    "               'sensor_name' : 'mem_sensor', \n",
    "               'values' : [],\n",
    "               'units' : 'percent'\n",
    "           },\n",
    "           {\n",
    "               'sensor_name' : 'cpu_sensor', \n",
    "               'values' : [],\n",
    "               'units' : 'percent'\n",
    "           }\n",
    "       ]\n",
    "}\n",
    "\n",
    "readings_id = db.sensors_readings.insert_one(data).inserted_id"
   ]
  },
  {
   "cell_type": "markdown",
   "metadata": {},
   "source": [
    "Now, a first document was inserted with no sensors values. The document `_id` was stored and in the following data will be appended/pushed to the corresponding document"
   ]
  },
  {
   "cell_type": "code",
   "execution_count": null,
   "metadata": {
    "ExecuteTime": {
     "end_time": "2025-02-18T12:58:53.998465Z",
     "start_time": "2025-02-18T12:58:32.735428Z"
    }
   },
   "outputs": [],
   "source": [
    "for _ in range(200):\n",
    "    mem = psutil.virtual_memory().percent\n",
    "    cpu = psutil.cpu_percent(interval=0.1)\n",
    "    \n",
    "    # update the database, sending only the update\n",
    "    db.sensors_readings.update_one(\n",
    "        {'_id': readings_id}, \n",
    "        {\n",
    "            '$push': {\n",
    "                'sensors.0.values': {'value': mem, 'timestamp' : datetime.datetime.utcnow()},\n",
    "                'sensors.1.values': {'value': cpu, 'timestamp' : datetime.datetime.utcnow()}        \n",
    "            }\n",
    "        }\n",
    "    )    \n",
    "    \n",
    "    print('.', end='')"
   ]
  },
  {
   "cell_type": "markdown",
   "metadata": {},
   "source": [
    "The last reading is "
   ]
  },
  {
   "cell_type": "code",
   "execution_count": null,
   "metadata": {
    "ExecuteTime": {
     "end_time": "2025-02-18T12:58:54.041981Z",
     "start_time": "2025-02-18T12:58:54.019837Z"
    },
    "run_control": {
     "marked": true
    },
    "scrolled": true
   },
   "outputs": [],
   "source": [
    "pprint(\n",
    "    list(\n",
    "        db.sensors_readings\\\n",
    "            .find()\\\n",
    "            .sort([('_id', -1)])\\\n",
    "            .limit(1)\n",
    "    )\n",
    ")"
   ]
  },
  {
   "cell_type": "markdown",
   "metadata": {},
   "source": [
    "# Getting Documents\n",
    "Getting a single document with find_one() can be done using the `find_one()` method which returns the first document in the collection which matches the query. The syntax is the same as the `find()` method, i.e., `find_one({query}, {projection})` "
   ]
  },
  {
   "cell_type": "code",
   "execution_count": null,
   "metadata": {
    "ExecuteTime": {
     "end_time": "2025-02-18T12:59:10.703917Z",
     "start_time": "2025-02-18T12:59:10.699643Z"
    }
   },
   "outputs": [],
   "source": [
    "db.sensors_readings.find_one()"
   ]
  },
  {
   "cell_type": "markdown",
   "metadata": {},
   "source": [
    "Find one reading from \"Prometheus Server\""
   ]
  },
  {
   "cell_type": "code",
   "execution_count": null,
   "metadata": {
    "ExecuteTime": {
     "end_time": "2025-02-18T12:59:27.455773Z",
     "start_time": "2025-02-18T12:59:27.451251Z"
    }
   },
   "outputs": [],
   "source": [
    "db.sensors_readings.find_one({'location_name':'Prometheus Server'})"
   ]
  },
  {
   "cell_type": "markdown",
   "metadata": {},
   "source": [
    "Get the Object id for one reading on the sensor's reading collection"
   ]
  },
  {
   "cell_type": "code",
   "execution_count": null,
   "metadata": {
    "ExecuteTime": {
     "end_time": "2025-02-18T12:59:39.720120Z",
     "start_time": "2025-02-18T12:59:39.715085Z"
    }
   },
   "outputs": [],
   "source": [
    "obj_id = db.sensors_readings.find_one({'location_name':'Prometheus Server'})[\"_id\"]\n",
    "obj_id"
   ]
  },
  {
   "cell_type": "markdown",
   "metadata": {},
   "source": [
    "Querying By ObjectId"
   ]
  },
  {
   "cell_type": "code",
   "execution_count": null,
   "metadata": {
    "ExecuteTime": {
     "end_time": "2025-02-18T12:59:56.992759Z",
     "start_time": "2025-02-18T12:59:56.988071Z"
    }
   },
   "outputs": [],
   "source": [
    "from bson.objectid import ObjectId\n",
    "\n",
    "db.sensors_readings.find_one({'_id': obj_id})  # update the _id"
   ]
  },
  {
   "cell_type": "markdown",
   "metadata": {},
   "source": [
    "Do projections, i.e., select which fields to present"
   ]
  },
  {
   "cell_type": "code",
   "execution_count": null,
   "metadata": {
    "ExecuteTime": {
     "end_time": "2025-02-18T13:00:02.639488Z",
     "start_time": "2025-02-18T13:00:02.634647Z"
    },
    "scrolled": true
   },
   "outputs": [],
   "source": [
    "db.sensors_readings.find_one(\n",
    "    {'_id': obj_id},\n",
    "    {'sensors':1}\n",
    ")"
   ]
  },
  {
   "cell_type": "markdown",
   "metadata": {},
   "source": [
    "# Bulk Insert\n",
    "In addition to inserting a single document, we can also perform bulk insert operations, by passing a list as the first argument to insert_many(). This will insert each document in the list, sending only a single command to the server.\n",
    "\n",
    "The result from insert_many() now returns multiple ObjectId instances, one for each inserted document."
   ]
  },
  {
   "cell_type": "code",
   "execution_count": null,
   "metadata": {
    "ExecuteTime": {
     "end_time": "2025-02-18T13:00:12.283280Z",
     "start_time": "2025-02-18T13:00:12.278137Z"
    }
   },
   "outputs": [],
   "source": [
    "new_posts = [{\n",
    "                'sensor': {'location_id': ObjectId('5a95821bdc936e0cfc7c7d96'),\n",
    "                'sensor_name': 'cpu_sensor'},\n",
    "                'timestamp': datetime.datetime.utcnow(),\n",
    "                'units': 'percent',\n",
    "                'value': 4.5\n",
    "            },\n",
    "             {\n",
    "                'sensor': {'location_id': ObjectId('5a95821bdc936e0cfc7c7d96'),\n",
    "                'sensor_name': 'cpu_sensor'},\n",
    "                'timestamp': datetime.datetime.utcnow(),\n",
    "                'units': 'percent',\n",
    "                'value': 4.5\n",
    "             }\n",
    "            ]\n",
    "result = db.sensors_readings.insert_many(new_posts)\n",
    "result"
   ]
  },
  {
   "cell_type": "markdown",
   "metadata": {},
   "source": [
    "and get the id's of the inserted objects"
   ]
  },
  {
   "cell_type": "code",
   "execution_count": null,
   "metadata": {
    "ExecuteTime": {
     "end_time": "2025-02-18T13:00:16.014110Z",
     "start_time": "2025-02-18T13:00:16.009516Z"
    }
   },
   "outputs": [],
   "source": [
    "result.inserted_ids"
   ]
  },
  {
   "cell_type": "markdown",
   "metadata": {},
   "source": [
    "# Querying for More Than One Document\n",
    "\n",
    "To get more than a single document as the result of a query we use the find() method. find() returns a Cursor instance, which allows us to iterate over all matching documents. \n",
    "\n",
    "Note that do to our experiments, the documents no not follow any type of schema. This is not recommended but is possible. So, fields like timestamp are found in every document, but in different \"positions\" in the document. \n",
    "\n",
    "For example, we can iterate over every document in the posts collection:"
   ]
  },
  {
   "cell_type": "code",
   "execution_count": null,
   "metadata": {
    "ExecuteTime": {
     "end_time": "2025-02-18T13:00:22.508589Z",
     "start_time": "2025-02-18T13:00:22.377942Z"
    },
    "scrolled": true
   },
   "outputs": [],
   "source": [
    "for doc in db.sensors_readings.find():\n",
    "    pprint(doc)"
   ]
  },
  {
   "cell_type": "markdown",
   "metadata": {},
   "source": [
    "you can also limit the output and order it..."
   ]
  },
  {
   "cell_type": "code",
   "execution_count": null,
   "metadata": {
    "ExecuteTime": {
     "end_time": "2025-02-18T13:00:35.829710Z",
     "start_time": "2025-02-18T13:00:35.826268Z"
    }
   },
   "outputs": [],
   "source": [
    "for doc in db.sensors_readings.find().sort([('_id',1)]).limit(2):\n",
    "    pprint(doc)"
   ]
  },
  {
   "cell_type": "markdown",
   "metadata": {},
   "source": [
    "## Counting\n",
    "If we just want to know how many documents match a query we can perform a count_documents() operation instead of a full query."
   ]
  },
  {
   "cell_type": "code",
   "execution_count": null,
   "metadata": {
    "ExecuteTime": {
     "end_time": "2025-02-18T13:00:44.832765Z",
     "start_time": "2025-02-18T13:00:44.823281Z"
    }
   },
   "outputs": [],
   "source": [
    "db.sensors_readings.count_documents({})"
   ]
  },
  {
   "cell_type": "markdown",
   "metadata": {
    "collapsed": false,
    "jupyter": {
     "outputs_hidden": false
    }
   },
   "source": [
    "It is also possible to count the number of documents in a collection satisfying a query"
   ]
  },
  {
   "cell_type": "code",
   "execution_count": null,
   "metadata": {
    "ExecuteTime": {
     "end_time": "2025-02-18T13:00:53.475778Z",
     "start_time": "2025-02-18T13:00:53.469778Z"
    }
   },
   "outputs": [],
   "source": [
    "query = {'location_name':'Prometheus Server'}\n",
    "db.sensors_readings.count_documents(query)"
   ]
  },
  {
   "cell_type": "markdown",
   "metadata": {},
   "source": [
    "## Range Queries\n",
    "MongoDB supports many different types of advanced queries.\n"
   ]
  },
  {
   "cell_type": "code",
   "execution_count": null,
   "metadata": {
    "ExecuteTime": {
     "end_time": "2025-02-18T13:01:04.257324Z",
     "start_time": "2025-02-18T13:01:04.252134Z"
    },
    "collapsed": false,
    "jupyter": {
     "outputs_hidden": false
    }
   },
   "outputs": [],
   "source": [
    "last_inserted_doc_timestamp = db.sensors_readings.find().sort([('_id',-1)]).limit(1)[0]['timestamp']\n",
    "last_inserted_doc_timestamp"
   ]
  },
  {
   "cell_type": "code",
   "execution_count": null,
   "metadata": {
    "ExecuteTime": {
     "end_time": "2025-02-18T13:01:11.967022Z",
     "start_time": "2025-02-18T13:01:11.963197Z"
    }
   },
   "outputs": [],
   "source": [
    "for doc in db.sensors_readings.find({'timestamp': last_inserted_doc_timestamp}):\n",
    "    print(doc)"
   ]
  },
  {
   "cell_type": "markdown",
   "metadata": {
    "collapsed": false,
    "jupyter": {
     "outputs_hidden": false
    }
   },
   "source": [
    "As an example, lets perform a query where we limit results to readings insertd in the last 5 minutes:"
   ]
  },
  {
   "cell_type": "code",
   "execution_count": null,
   "metadata": {
    "ExecuteTime": {
     "end_time": "2025-02-18T13:01:17.977568Z",
     "start_time": "2025-02-18T13:01:17.969004Z"
    },
    "scrolled": true
   },
   "outputs": [],
   "source": [
    "date = datetime.datetime.utcnow() - datetime.timedelta(minutes=5)\n",
    "query = {'timestamp': {'$gt': date}}\n",
    "for doc in db.sensors_readings.find(query):\n",
    "    print(doc)"
   ]
  },
  {
   "cell_type": "markdown",
   "metadata": {
    "collapsed": false,
    "jupyter": {
     "outputs_hidden": false
    }
   },
   "source": [
    "All readings witha `value` lower than 10"
   ]
  },
  {
   "cell_type": "code",
   "execution_count": null,
   "metadata": {
    "ExecuteTime": {
     "end_time": "2025-02-18T13:01:26.317241Z",
     "start_time": "2025-02-18T13:01:26.308283Z"
    }
   },
   "outputs": [],
   "source": [
    "for doc in db.sensors_readings.find({'value': {'$lt': 10}}):\n",
    "    print(doc)"
   ]
  },
  {
   "cell_type": "markdown",
   "metadata": {
    "collapsed": false,
    "jupyter": {
     "outputs_hidden": false
    }
   },
   "source": [
    "All CPU readings with `value` lower than 10 in the next type of documents.\n",
    "[be aware that, since we were experimenting, the documents may not have the same structure]\n",
    "\n",
    "![./images/doc_example.png](./images/doc_example.png)"
   ]
  },
  {
   "cell_type": "code",
   "execution_count": null,
   "metadata": {},
   "outputs": [],
   "source": [
    "for doc in db.sensors_readings.find({'sensors.1.values.value': {'$gt': 10}}):\n",
    "    print(doc)"
   ]
  }
 ],
 "metadata": {
  "kernelspec": {
   "display_name": "Python 3 (ipykernel)",
   "language": "python",
   "name": "python3"
  },
  "language_info": {
   "codemirror_mode": {
    "name": "ipython",
    "version": 3
   },
   "file_extension": ".py",
   "mimetype": "text/x-python",
   "name": "python",
   "nbconvert_exporter": "python",
   "pygments_lexer": "ipython3",
   "version": "3.11.8"
  },
  "nbTranslate": {
   "displayLangs": [
    "*"
   ],
   "hotkey": "alt-t",
   "langInMainMenu": true,
   "sourceLang": "en",
   "targetLang": "fr",
   "useGoogleTranslate": true
  },
  "toc": {
   "base_numbering": 1,
   "nav_menu": {},
   "number_sections": true,
   "sideBar": true,
   "skip_h1_title": false,
   "title_cell": "Table of Contents",
   "title_sidebar": "Contents",
   "toc_cell": false,
   "toc_position": {},
   "toc_section_display": true,
   "toc_window_display": false
  },
  "varInspector": {
   "cols": {
    "lenName": 16,
    "lenType": 16,
    "lenVar": 40
   },
   "kernels_config": {
    "python": {
     "delete_cmd_postfix": "",
     "delete_cmd_prefix": "del ",
     "library": "var_list.py",
     "varRefreshCmd": "print(var_dic_list())"
    },
    "r": {
     "delete_cmd_postfix": ") ",
     "delete_cmd_prefix": "rm(",
     "library": "var_list.r",
     "varRefreshCmd": "cat(var_dic_list()) "
    }
   },
   "types_to_exclude": [
    "module",
    "function",
    "builtin_function_or_method",
    "instance",
    "_Feature"
   ],
   "window_display": false
  }
 },
 "nbformat": 4,
 "nbformat_minor": 4
}
